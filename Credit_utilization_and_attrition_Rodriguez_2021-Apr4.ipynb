{
 "cells": [
  {
   "cell_type": "code",
   "execution_count": 298,
   "metadata": {},
   "outputs": [],
   "source": [
    "import pandas as pd\n",
    "import numpy as np\n",
    "import matplotlib.pyplot as plt\n",
    "%matplotlib inline\n",
    "import warnings\n",
    "warnings.filterwarnings('ignore')\n",
    "import seaborn as sns\n",
    "pd.options.display.max_columns = 170"
   ]
  },
  {
   "cell_type": "code",
   "execution_count": 299,
   "metadata": {},
   "outputs": [],
   "source": [
    "import scipy.stats as stat\n",
    "import statsmodels.stats.multicomp as mc\n",
    "from scipy.stats import chisquare\n",
    "from scipy.special import boxcox, inv_boxcox"
   ]
  },
  {
   "cell_type": "code",
   "execution_count": 456,
   "metadata": {},
   "outputs": [],
   "source": [
    "from numpy import asarray\n",
    "from sklearn.preprocessing import StandardScaler, MinMaxScaler\n",
    "import statsmodels.api as sm\n",
    "import statsmodels.formula.api as smf\n",
    "from statsmodels.graphics.regressionplots import plot_regress_exog\n",
    "from sklearn.model_selection import train_test_split\n",
    "from statsmodels.discrete.discrete_model import Logit\n",
    "from scipy.special import logit\n",
    "from sklearn.metrics import classification_report, confusion_matrix"
   ]
  },
  {
   "cell_type": "code",
   "execution_count": 426,
   "metadata": {},
   "outputs": [
    {
     "data": {
      "text/html": [
       "<div>\n",
       "<style scoped>\n",
       "    .dataframe tbody tr th:only-of-type {\n",
       "        vertical-align: middle;\n",
       "    }\n",
       "\n",
       "    .dataframe tbody tr th {\n",
       "        vertical-align: top;\n",
       "    }\n",
       "\n",
       "    .dataframe thead th {\n",
       "        text-align: right;\n",
       "    }\n",
       "</style>\n",
       "<table border=\"1\" class=\"dataframe\">\n",
       "  <thead>\n",
       "    <tr style=\"text-align: right;\">\n",
       "      <th></th>\n",
       "      <th>CLIENTNUM</th>\n",
       "      <th>Attrition_Flag</th>\n",
       "      <th>Customer_Age</th>\n",
       "      <th>Gender</th>\n",
       "      <th>Dependent_count</th>\n",
       "      <th>Education_Level</th>\n",
       "      <th>Marital_Status</th>\n",
       "      <th>Income_Category</th>\n",
       "      <th>Card_Category</th>\n",
       "      <th>Months_on_book</th>\n",
       "      <th>Total_Relationship_Count</th>\n",
       "      <th>Months_Inactive_12_mon</th>\n",
       "      <th>Contacts_Count_12_mon</th>\n",
       "      <th>Credit_Limit</th>\n",
       "      <th>Total_Revolving_Bal</th>\n",
       "      <th>Avg_Open_To_Buy</th>\n",
       "      <th>Total_Amt_Chng_Q4_Q1</th>\n",
       "      <th>Total_Trans_Amt</th>\n",
       "      <th>Total_Trans_Ct</th>\n",
       "      <th>Total_Ct_Chng_Q4_Q1</th>\n",
       "      <th>Avg_Utilization_Ratio</th>\n",
       "      <th>Naive_Bayes_Classifier_Attrition_Flag_Card_Category_Contacts_Count_12_mon_Dependent_count_Education_Level_Months_Inactive_12_mon_1</th>\n",
       "      <th>Naive_Bayes_Classifier_Attrition_Flag_Card_Category_Contacts_Count_12_mon_Dependent_count_Education_Level_Months_Inactive_12_mon_2</th>\n",
       "    </tr>\n",
       "  </thead>\n",
       "  <tbody>\n",
       "    <tr>\n",
       "      <th>0</th>\n",
       "      <td>768805383</td>\n",
       "      <td>Existing Customer</td>\n",
       "      <td>45</td>\n",
       "      <td>M</td>\n",
       "      <td>3</td>\n",
       "      <td>High School</td>\n",
       "      <td>Married</td>\n",
       "      <td>$60K - $80K</td>\n",
       "      <td>Blue</td>\n",
       "      <td>39</td>\n",
       "      <td>5</td>\n",
       "      <td>1</td>\n",
       "      <td>3</td>\n",
       "      <td>12691.0</td>\n",
       "      <td>777</td>\n",
       "      <td>11914.0</td>\n",
       "      <td>1.335</td>\n",
       "      <td>1144</td>\n",
       "      <td>42</td>\n",
       "      <td>1.625</td>\n",
       "      <td>0.061</td>\n",
       "      <td>0.000093</td>\n",
       "      <td>0.99991</td>\n",
       "    </tr>\n",
       "    <tr>\n",
       "      <th>1</th>\n",
       "      <td>818770008</td>\n",
       "      <td>Existing Customer</td>\n",
       "      <td>49</td>\n",
       "      <td>F</td>\n",
       "      <td>5</td>\n",
       "      <td>Graduate</td>\n",
       "      <td>Single</td>\n",
       "      <td>Less than $40K</td>\n",
       "      <td>Blue</td>\n",
       "      <td>44</td>\n",
       "      <td>6</td>\n",
       "      <td>1</td>\n",
       "      <td>2</td>\n",
       "      <td>8256.0</td>\n",
       "      <td>864</td>\n",
       "      <td>7392.0</td>\n",
       "      <td>1.541</td>\n",
       "      <td>1291</td>\n",
       "      <td>33</td>\n",
       "      <td>3.714</td>\n",
       "      <td>0.105</td>\n",
       "      <td>0.000057</td>\n",
       "      <td>0.99994</td>\n",
       "    </tr>\n",
       "    <tr>\n",
       "      <th>2</th>\n",
       "      <td>713982108</td>\n",
       "      <td>Existing Customer</td>\n",
       "      <td>51</td>\n",
       "      <td>M</td>\n",
       "      <td>3</td>\n",
       "      <td>Graduate</td>\n",
       "      <td>Married</td>\n",
       "      <td>$80K - $120K</td>\n",
       "      <td>Blue</td>\n",
       "      <td>36</td>\n",
       "      <td>4</td>\n",
       "      <td>1</td>\n",
       "      <td>0</td>\n",
       "      <td>3418.0</td>\n",
       "      <td>0</td>\n",
       "      <td>3418.0</td>\n",
       "      <td>2.594</td>\n",
       "      <td>1887</td>\n",
       "      <td>20</td>\n",
       "      <td>2.333</td>\n",
       "      <td>0.000</td>\n",
       "      <td>0.000021</td>\n",
       "      <td>0.99998</td>\n",
       "    </tr>\n",
       "    <tr>\n",
       "      <th>3</th>\n",
       "      <td>769911858</td>\n",
       "      <td>Existing Customer</td>\n",
       "      <td>40</td>\n",
       "      <td>F</td>\n",
       "      <td>4</td>\n",
       "      <td>High School</td>\n",
       "      <td>Unknown</td>\n",
       "      <td>Less than $40K</td>\n",
       "      <td>Blue</td>\n",
       "      <td>34</td>\n",
       "      <td>3</td>\n",
       "      <td>4</td>\n",
       "      <td>1</td>\n",
       "      <td>3313.0</td>\n",
       "      <td>2517</td>\n",
       "      <td>796.0</td>\n",
       "      <td>1.405</td>\n",
       "      <td>1171</td>\n",
       "      <td>20</td>\n",
       "      <td>2.333</td>\n",
       "      <td>0.760</td>\n",
       "      <td>0.000134</td>\n",
       "      <td>0.99987</td>\n",
       "    </tr>\n",
       "    <tr>\n",
       "      <th>4</th>\n",
       "      <td>709106358</td>\n",
       "      <td>Existing Customer</td>\n",
       "      <td>40</td>\n",
       "      <td>M</td>\n",
       "      <td>3</td>\n",
       "      <td>Uneducated</td>\n",
       "      <td>Married</td>\n",
       "      <td>$60K - $80K</td>\n",
       "      <td>Blue</td>\n",
       "      <td>21</td>\n",
       "      <td>5</td>\n",
       "      <td>1</td>\n",
       "      <td>0</td>\n",
       "      <td>4716.0</td>\n",
       "      <td>0</td>\n",
       "      <td>4716.0</td>\n",
       "      <td>2.175</td>\n",
       "      <td>816</td>\n",
       "      <td>28</td>\n",
       "      <td>2.500</td>\n",
       "      <td>0.000</td>\n",
       "      <td>0.000022</td>\n",
       "      <td>0.99998</td>\n",
       "    </tr>\n",
       "  </tbody>\n",
       "</table>\n",
       "</div>"
      ],
      "text/plain": [
       "   CLIENTNUM     Attrition_Flag  Customer_Age Gender  Dependent_count  \\\n",
       "0  768805383  Existing Customer            45      M                3   \n",
       "1  818770008  Existing Customer            49      F                5   \n",
       "2  713982108  Existing Customer            51      M                3   \n",
       "3  769911858  Existing Customer            40      F                4   \n",
       "4  709106358  Existing Customer            40      M                3   \n",
       "\n",
       "  Education_Level Marital_Status Income_Category Card_Category  \\\n",
       "0     High School        Married     $60K - $80K          Blue   \n",
       "1        Graduate         Single  Less than $40K          Blue   \n",
       "2        Graduate        Married    $80K - $120K          Blue   \n",
       "3     High School        Unknown  Less than $40K          Blue   \n",
       "4      Uneducated        Married     $60K - $80K          Blue   \n",
       "\n",
       "   Months_on_book  Total_Relationship_Count  Months_Inactive_12_mon  \\\n",
       "0              39                         5                       1   \n",
       "1              44                         6                       1   \n",
       "2              36                         4                       1   \n",
       "3              34                         3                       4   \n",
       "4              21                         5                       1   \n",
       "\n",
       "   Contacts_Count_12_mon  Credit_Limit  Total_Revolving_Bal  Avg_Open_To_Buy  \\\n",
       "0                      3       12691.0                  777          11914.0   \n",
       "1                      2        8256.0                  864           7392.0   \n",
       "2                      0        3418.0                    0           3418.0   \n",
       "3                      1        3313.0                 2517            796.0   \n",
       "4                      0        4716.0                    0           4716.0   \n",
       "\n",
       "   Total_Amt_Chng_Q4_Q1  Total_Trans_Amt  Total_Trans_Ct  Total_Ct_Chng_Q4_Q1  \\\n",
       "0                 1.335             1144              42                1.625   \n",
       "1                 1.541             1291              33                3.714   \n",
       "2                 2.594             1887              20                2.333   \n",
       "3                 1.405             1171              20                2.333   \n",
       "4                 2.175              816              28                2.500   \n",
       "\n",
       "   Avg_Utilization_Ratio  \\\n",
       "0                  0.061   \n",
       "1                  0.105   \n",
       "2                  0.000   \n",
       "3                  0.760   \n",
       "4                  0.000   \n",
       "\n",
       "   Naive_Bayes_Classifier_Attrition_Flag_Card_Category_Contacts_Count_12_mon_Dependent_count_Education_Level_Months_Inactive_12_mon_1  \\\n",
       "0                                           0.000093                                                                                    \n",
       "1                                           0.000057                                                                                    \n",
       "2                                           0.000021                                                                                    \n",
       "3                                           0.000134                                                                                    \n",
       "4                                           0.000022                                                                                    \n",
       "\n",
       "   Naive_Bayes_Classifier_Attrition_Flag_Card_Category_Contacts_Count_12_mon_Dependent_count_Education_Level_Months_Inactive_12_mon_2  \n",
       "0                                            0.99991                                                                                   \n",
       "1                                            0.99994                                                                                   \n",
       "2                                            0.99998                                                                                   \n",
       "3                                            0.99987                                                                                   \n",
       "4                                            0.99998                                                                                   "
      ]
     },
     "execution_count": 426,
     "metadata": {},
     "output_type": "execute_result"
    }
   ],
   "source": [
    "# Data Source: https://leaps.analyttica.com/sample_cases/11\n",
    "        \n",
    "data = pd.read_csv('BankChurners.csv')\n",
    "data.head()"
   ]
  },
  {
   "cell_type": "code",
   "execution_count": 302,
   "metadata": {},
   "outputs": [
    {
     "name": "stdout",
     "output_type": "stream",
     "text": [
      "<class 'pandas.core.frame.DataFrame'>\n",
      "RangeIndex: 10127 entries, 0 to 10126\n",
      "Data columns (total 23 columns):\n",
      " #   Column                                                                                                                              Non-Null Count  Dtype  \n",
      "---  ------                                                                                                                              --------------  -----  \n",
      " 0   CLIENTNUM                                                                                                                           10127 non-null  int64  \n",
      " 1   Attrition_Flag                                                                                                                      10127 non-null  object \n",
      " 2   Customer_Age                                                                                                                        10127 non-null  int64  \n",
      " 3   Gender                                                                                                                              10127 non-null  object \n",
      " 4   Dependent_count                                                                                                                     10127 non-null  int64  \n",
      " 5   Education_Level                                                                                                                     10127 non-null  object \n",
      " 6   Marital_Status                                                                                                                      10127 non-null  object \n",
      " 7   Income_Category                                                                                                                     10127 non-null  object \n",
      " 8   Card_Category                                                                                                                       10127 non-null  object \n",
      " 9   Months_on_book                                                                                                                      10127 non-null  int64  \n",
      " 10  Total_Relationship_Count                                                                                                            10127 non-null  int64  \n",
      " 11  Months_Inactive_12_mon                                                                                                              10127 non-null  int64  \n",
      " 12  Contacts_Count_12_mon                                                                                                               10127 non-null  int64  \n",
      " 13  Credit_Limit                                                                                                                        10127 non-null  float64\n",
      " 14  Total_Revolving_Bal                                                                                                                 10127 non-null  int64  \n",
      " 15  Avg_Open_To_Buy                                                                                                                     10127 non-null  float64\n",
      " 16  Total_Amt_Chng_Q4_Q1                                                                                                                10127 non-null  float64\n",
      " 17  Total_Trans_Amt                                                                                                                     10127 non-null  int64  \n",
      " 18  Total_Trans_Ct                                                                                                                      10127 non-null  int64  \n",
      " 19  Total_Ct_Chng_Q4_Q1                                                                                                                 10127 non-null  float64\n",
      " 20  Avg_Utilization_Ratio                                                                                                               10127 non-null  float64\n",
      " 21  Naive_Bayes_Classifier_Attrition_Flag_Card_Category_Contacts_Count_12_mon_Dependent_count_Education_Level_Months_Inactive_12_mon_1  10127 non-null  float64\n",
      " 22  Naive_Bayes_Classifier_Attrition_Flag_Card_Category_Contacts_Count_12_mon_Dependent_count_Education_Level_Months_Inactive_12_mon_2  10127 non-null  float64\n",
      "dtypes: float64(7), int64(10), object(6)\n",
      "memory usage: 1.8+ MB\n"
     ]
    }
   ],
   "source": [
    "data.info()"
   ]
  },
  {
   "cell_type": "code",
   "execution_count": 303,
   "metadata": {},
   "outputs": [
    {
     "data": {
      "text/plain": [
       "10127"
      ]
     },
     "execution_count": 303,
     "metadata": {},
     "output_type": "execute_result"
    }
   ],
   "source": [
    "data.CLIENTNUM.nunique()\n",
    "# no duplicates"
   ]
  },
  {
   "cell_type": "markdown",
   "metadata": {},
   "source": [
    "### Data Preparation\n",
    "#### Removing non-contributory columns"
   ]
  },
  {
   "cell_type": "code",
   "execution_count": 304,
   "metadata": {},
   "outputs": [
    {
     "name": "stdout",
     "output_type": "stream",
     "text": [
      "Columns contain more than 1 unique values\n"
     ]
    }
   ],
   "source": [
    "for key in data.keys():\n",
    "    if len(data[key].unique()) ==1:\n",
    "        data.drop(key, axis = 1, inplace=True)\n",
    "        print('dropped: ', key)\n",
    "else:    \n",
    "        print('Columns contain more than 1 unique values')"
   ]
  },
  {
   "cell_type": "code",
   "execution_count": 427,
   "metadata": {},
   "outputs": [],
   "source": [
    "remove = ['CLIENTNUM', \n",
    "        'Naive_Bayes_Classifier_Attrition_Flag_Card_Category_Contacts_Count_12_mon_Dependent_count_Education_Level_Months_Inactive_12_mon_1',\n",
    "        'Naive_Bayes_Classifier_Attrition_Flag_Card_Category_Contacts_Count_12_mon_Dependent_count_Education_Level_Months_Inactive_12_mon_2' ]\n",
    "for x in remove:\n",
    "    data.drop(x, axis = 1, inplace=True)"
   ]
  },
  {
   "cell_type": "code",
   "execution_count": 428,
   "metadata": {},
   "outputs": [],
   "source": [
    "data.rename(columns = {'Attrition_Flag':  'Attrition',\n",
    "                      'Customer_Age': 'Age',\n",
    "                      'Dependent_count':'Dependents',\n",
    "                      'Education_Level': 'Education',\n",
    "                      'Marital_Status': 'Marital',\n",
    "                      'Income_Category':'Income',\n",
    "                      'Card_Category':'Card',\n",
    "                      'Months_on_book':'Duration',\n",
    "                      'Total_Relationship_Count':'Num_products',\n",
    "                      'Months_Inactive_12_mon': 'Inactive_mo',\n",
    "                      'Contacts_Count_12_mon': 'Contacts',\n",
    "                      'Total_Revolving_Bal':'Revolving_Bal',\n",
    "                      'Avg_Open_To_Buy': 'Avg_Open',\n",
    "                      'Total_Amt_Chng_Q4_Q1': 'Amount_chg',\n",
    "                      'Total_Trans_Amt': 'Transaction_amt',\n",
    "                      'Total_Trans_Ct': 'Transaction_ct',\n",
    "                      'Total_Ct_Chng_Q4_Q1':'Trans_Chg_ct',\n",
    "                      'Avg_Utilization_Ratio':'Util_ratio'}, inplace=True)\n",
    "#data.head(2)"
   ]
  },
  {
   "cell_type": "code",
   "execution_count": null,
   "metadata": {},
   "outputs": [],
   "source": []
  },
  {
   "cell_type": "markdown",
   "metadata": {},
   "source": [
    "#### Addressing missing/ unknown data"
   ]
  },
  {
   "cell_type": "code",
   "execution_count": 308,
   "metadata": {},
   "outputs": [
    {
     "data": {
      "text/plain": [
       "Attrition          0\n",
       "Age                0\n",
       "Gender             0\n",
       "Dependents         0\n",
       "Education          0\n",
       "Marital            0\n",
       "Income             0\n",
       "Card               0\n",
       "Duration           0\n",
       "Num_products       0\n",
       "Inactive_mo        0\n",
       "Contacts           0\n",
       "Credit_Limit       0\n",
       "Revolving_Bal      0\n",
       "Avg_Open           0\n",
       "Amount_chg         0\n",
       "Transaction_amt    0\n",
       "Transaction_ct     0\n",
       "Trans_Chg_ct       0\n",
       "Util_ratio         0\n",
       "dtype: int64"
      ]
     },
     "execution_count": 308,
     "metadata": {},
     "output_type": "execute_result"
    }
   ],
   "source": [
    "data.isnull().sum()"
   ]
  },
  {
   "cell_type": "code",
   "execution_count": 309,
   "metadata": {},
   "outputs": [
    {
     "data": {
      "text/plain": [
       "Attrition             0\n",
       "Age                   0\n",
       "Gender                0\n",
       "Dependents            0\n",
       "Education          1519\n",
       "Marital             749\n",
       "Income             1112\n",
       "Card                  0\n",
       "Duration              0\n",
       "Num_products          0\n",
       "Inactive_mo           0\n",
       "Contacts              0\n",
       "Credit_Limit          0\n",
       "Revolving_Bal         0\n",
       "Avg_Open              0\n",
       "Amount_chg            0\n",
       "Transaction_amt       0\n",
       "Transaction_ct        0\n",
       "Trans_Chg_ct          0\n",
       "Util_ratio            0\n",
       "dtype: int64"
      ]
     },
     "execution_count": 309,
     "metadata": {},
     "output_type": "execute_result"
    }
   ],
   "source": [
    "data.isin(['Unknown']).sum()"
   ]
  },
  {
   "cell_type": "code",
   "execution_count": 429,
   "metadata": {},
   "outputs": [
    {
     "data": {
      "text/plain": [
       "Graduate         3128\n",
       "High School      2013\n",
       "Uneducated       1487\n",
       "College          1013\n",
       "Post-Graduate     516\n",
       "Doctorate         451\n",
       "Name: Education, dtype: int64"
      ]
     },
     "execution_count": 429,
     "metadata": {},
     "output_type": "execute_result"
    }
   ],
   "source": [
    "data.Education.replace({'Unknown': np.nan}, inplace=True)\n",
    "data.Education.value_counts()"
   ]
  },
  {
   "cell_type": "code",
   "execution_count": 430,
   "metadata": {},
   "outputs": [
    {
     "data": {
      "text/plain": [
       "Graduate         4647\n",
       "High School      2013\n",
       "Uneducated       1487\n",
       "College          1013\n",
       "Post-Graduate     967\n",
       "Name: Education, dtype: int64"
      ]
     },
     "execution_count": 430,
     "metadata": {},
     "output_type": "execute_result"
    }
   ],
   "source": [
    "# education grouped with gender, martial, income, shows\n",
    "# consistent predominance of Graduate (code not shown here)\n",
    "\n",
    "data.Education.fillna('Graduate', inplace=True)\n",
    "\n",
    "# merge post grad data to reduce unnecessary granularity\n",
    "data.Education.replace({'Doctorate':'Post-Graduate'}, inplace=True)\n",
    "data.Education.value_counts()"
   ]
  },
  {
   "cell_type": "code",
   "execution_count": 312,
   "metadata": {},
   "outputs": [
    {
     "data": {
      "text/plain": [
       "Married     4687\n",
       "Single      3943\n",
       "Unknown      749\n",
       "Divorced     748\n",
       "Name: Marital, dtype: int64"
      ]
     },
     "execution_count": 312,
     "metadata": {},
     "output_type": "execute_result"
    }
   ],
   "source": [
    "data.Marital.value_counts()"
   ]
  },
  {
   "cell_type": "code",
   "execution_count": 431,
   "metadata": {},
   "outputs": [],
   "source": [
    "# replace unknown with mode Married\n",
    "data.Marital.replace({'Unknown': 'Married'}, inplace=True)"
   ]
  },
  {
   "cell_type": "code",
   "execution_count": 314,
   "metadata": {},
   "outputs": [
    {
     "data": {
      "text/plain": [
       "Less than $40K    3561\n",
       "$40K - $60K       1790\n",
       "$80K - $120K      1535\n",
       "$60K - $80K       1402\n",
       "Unknown           1112\n",
       "$120K +            727\n",
       "Name: Income, dtype: int64"
      ]
     },
     "execution_count": 314,
     "metadata": {},
     "output_type": "execute_result"
    }
   ],
   "source": [
    "data.Income.value_counts()"
   ]
  },
  {
   "cell_type": "code",
   "execution_count": 432,
   "metadata": {},
   "outputs": [],
   "source": [
    "# replace unknown with mode\n",
    "# replace range with median value\n",
    "data.Income.replace({'Unknown': '$40K',\n",
    "                     'Less than $40K': '$40K',\n",
    "             '$40K - $60K':'$50K',\n",
    "             '$60K - $80K': '$70K',\n",
    "            '$80K - $120K': '$100K',\n",
    "            '$120K +': '$120K'},\n",
    "            inplace=True)"
   ]
  },
  {
   "cell_type": "code",
   "execution_count": null,
   "metadata": {},
   "outputs": [],
   "source": []
  },
  {
   "cell_type": "markdown",
   "metadata": {},
   "source": [
    "#### Checking for incongruous labels among categorical variables"
   ]
  },
  {
   "cell_type": "code",
   "execution_count": 316,
   "metadata": {},
   "outputs": [
    {
     "name": "stdout",
     "output_type": "stream",
     "text": [
      "Attrition : ['Existing Customer' 'Attrited Customer']\n",
      "Gender : ['M' 'F']\n",
      "Education : ['High School' 'Graduate' 'Uneducated' 'College' 'Post-Graduate']\n",
      "Marital : ['Married' 'Single' 'Divorced']\n",
      "Income : ['$70K' '$40K' '$100K' '$50K' '$120K']\n",
      "Card : ['Blue' 'Gold' 'Silver' 'Platinum']\n"
     ]
    }
   ],
   "source": [
    "for key in data.select_dtypes('object').keys():\n",
    "    print(key, ':', data[key].unique())"
   ]
  },
  {
   "cell_type": "code",
   "execution_count": null,
   "metadata": {},
   "outputs": [],
   "source": []
  },
  {
   "cell_type": "markdown",
   "metadata": {},
   "source": [
    "#### Checking for incongruous data among continuous variables"
   ]
  },
  {
   "cell_type": "code",
   "execution_count": 317,
   "metadata": {},
   "outputs": [
    {
     "data": {
      "text/html": [
       "<div>\n",
       "<style scoped>\n",
       "    .dataframe tbody tr th:only-of-type {\n",
       "        vertical-align: middle;\n",
       "    }\n",
       "\n",
       "    .dataframe tbody tr th {\n",
       "        vertical-align: top;\n",
       "    }\n",
       "\n",
       "    .dataframe thead th {\n",
       "        text-align: right;\n",
       "    }\n",
       "</style>\n",
       "<table border=\"1\" class=\"dataframe\">\n",
       "  <thead>\n",
       "    <tr style=\"text-align: right;\">\n",
       "      <th></th>\n",
       "      <th>Age</th>\n",
       "      <th>Dependents</th>\n",
       "      <th>Duration</th>\n",
       "      <th>Num_products</th>\n",
       "      <th>Inactive_mo</th>\n",
       "      <th>Contacts</th>\n",
       "      <th>Credit_Limit</th>\n",
       "      <th>Revolving_Bal</th>\n",
       "      <th>Avg_Open</th>\n",
       "      <th>Amount_chg</th>\n",
       "      <th>Transaction_amt</th>\n",
       "      <th>Transaction_ct</th>\n",
       "      <th>Trans_Chg_ct</th>\n",
       "      <th>Util_ratio</th>\n",
       "    </tr>\n",
       "  </thead>\n",
       "  <tbody>\n",
       "    <tr>\n",
       "      <th>count</th>\n",
       "      <td>10127.000000</td>\n",
       "      <td>10127.000000</td>\n",
       "      <td>10127.000000</td>\n",
       "      <td>10127.000000</td>\n",
       "      <td>10127.000000</td>\n",
       "      <td>10127.000000</td>\n",
       "      <td>10127.000000</td>\n",
       "      <td>10127.000000</td>\n",
       "      <td>10127.000000</td>\n",
       "      <td>10127.000000</td>\n",
       "      <td>10127.000000</td>\n",
       "      <td>10127.000000</td>\n",
       "      <td>10127.000000</td>\n",
       "      <td>10127.000000</td>\n",
       "    </tr>\n",
       "    <tr>\n",
       "      <th>mean</th>\n",
       "      <td>46.325960</td>\n",
       "      <td>2.346203</td>\n",
       "      <td>35.928409</td>\n",
       "      <td>3.812580</td>\n",
       "      <td>2.341167</td>\n",
       "      <td>2.455317</td>\n",
       "      <td>8631.953698</td>\n",
       "      <td>1162.814061</td>\n",
       "      <td>7469.139637</td>\n",
       "      <td>0.759941</td>\n",
       "      <td>4404.086304</td>\n",
       "      <td>64.858695</td>\n",
       "      <td>0.712222</td>\n",
       "      <td>0.274894</td>\n",
       "    </tr>\n",
       "    <tr>\n",
       "      <th>std</th>\n",
       "      <td>8.016814</td>\n",
       "      <td>1.298908</td>\n",
       "      <td>7.986416</td>\n",
       "      <td>1.554408</td>\n",
       "      <td>1.010622</td>\n",
       "      <td>1.106225</td>\n",
       "      <td>9088.776650</td>\n",
       "      <td>814.987335</td>\n",
       "      <td>9090.685324</td>\n",
       "      <td>0.219207</td>\n",
       "      <td>3397.129254</td>\n",
       "      <td>23.472570</td>\n",
       "      <td>0.238086</td>\n",
       "      <td>0.275691</td>\n",
       "    </tr>\n",
       "    <tr>\n",
       "      <th>min</th>\n",
       "      <td>26.000000</td>\n",
       "      <td>0.000000</td>\n",
       "      <td>13.000000</td>\n",
       "      <td>1.000000</td>\n",
       "      <td>0.000000</td>\n",
       "      <td>0.000000</td>\n",
       "      <td>1438.300000</td>\n",
       "      <td>0.000000</td>\n",
       "      <td>3.000000</td>\n",
       "      <td>0.000000</td>\n",
       "      <td>510.000000</td>\n",
       "      <td>10.000000</td>\n",
       "      <td>0.000000</td>\n",
       "      <td>0.000000</td>\n",
       "    </tr>\n",
       "    <tr>\n",
       "      <th>25%</th>\n",
       "      <td>41.000000</td>\n",
       "      <td>1.000000</td>\n",
       "      <td>31.000000</td>\n",
       "      <td>3.000000</td>\n",
       "      <td>2.000000</td>\n",
       "      <td>2.000000</td>\n",
       "      <td>2555.000000</td>\n",
       "      <td>359.000000</td>\n",
       "      <td>1324.500000</td>\n",
       "      <td>0.631000</td>\n",
       "      <td>2155.500000</td>\n",
       "      <td>45.000000</td>\n",
       "      <td>0.582000</td>\n",
       "      <td>0.023000</td>\n",
       "    </tr>\n",
       "    <tr>\n",
       "      <th>50%</th>\n",
       "      <td>46.000000</td>\n",
       "      <td>2.000000</td>\n",
       "      <td>36.000000</td>\n",
       "      <td>4.000000</td>\n",
       "      <td>2.000000</td>\n",
       "      <td>2.000000</td>\n",
       "      <td>4549.000000</td>\n",
       "      <td>1276.000000</td>\n",
       "      <td>3474.000000</td>\n",
       "      <td>0.736000</td>\n",
       "      <td>3899.000000</td>\n",
       "      <td>67.000000</td>\n",
       "      <td>0.702000</td>\n",
       "      <td>0.176000</td>\n",
       "    </tr>\n",
       "    <tr>\n",
       "      <th>75%</th>\n",
       "      <td>52.000000</td>\n",
       "      <td>3.000000</td>\n",
       "      <td>40.000000</td>\n",
       "      <td>5.000000</td>\n",
       "      <td>3.000000</td>\n",
       "      <td>3.000000</td>\n",
       "      <td>11067.500000</td>\n",
       "      <td>1784.000000</td>\n",
       "      <td>9859.000000</td>\n",
       "      <td>0.859000</td>\n",
       "      <td>4741.000000</td>\n",
       "      <td>81.000000</td>\n",
       "      <td>0.818000</td>\n",
       "      <td>0.503000</td>\n",
       "    </tr>\n",
       "    <tr>\n",
       "      <th>max</th>\n",
       "      <td>73.000000</td>\n",
       "      <td>5.000000</td>\n",
       "      <td>56.000000</td>\n",
       "      <td>6.000000</td>\n",
       "      <td>6.000000</td>\n",
       "      <td>6.000000</td>\n",
       "      <td>34516.000000</td>\n",
       "      <td>2517.000000</td>\n",
       "      <td>34516.000000</td>\n",
       "      <td>3.397000</td>\n",
       "      <td>18484.000000</td>\n",
       "      <td>139.000000</td>\n",
       "      <td>3.714000</td>\n",
       "      <td>0.999000</td>\n",
       "    </tr>\n",
       "  </tbody>\n",
       "</table>\n",
       "</div>"
      ],
      "text/plain": [
       "                Age    Dependents      Duration  Num_products   Inactive_mo  \\\n",
       "count  10127.000000  10127.000000  10127.000000  10127.000000  10127.000000   \n",
       "mean      46.325960      2.346203     35.928409      3.812580      2.341167   \n",
       "std        8.016814      1.298908      7.986416      1.554408      1.010622   \n",
       "min       26.000000      0.000000     13.000000      1.000000      0.000000   \n",
       "25%       41.000000      1.000000     31.000000      3.000000      2.000000   \n",
       "50%       46.000000      2.000000     36.000000      4.000000      2.000000   \n",
       "75%       52.000000      3.000000     40.000000      5.000000      3.000000   \n",
       "max       73.000000      5.000000     56.000000      6.000000      6.000000   \n",
       "\n",
       "           Contacts  Credit_Limit  Revolving_Bal      Avg_Open    Amount_chg  \\\n",
       "count  10127.000000  10127.000000   10127.000000  10127.000000  10127.000000   \n",
       "mean       2.455317   8631.953698    1162.814061   7469.139637      0.759941   \n",
       "std        1.106225   9088.776650     814.987335   9090.685324      0.219207   \n",
       "min        0.000000   1438.300000       0.000000      3.000000      0.000000   \n",
       "25%        2.000000   2555.000000     359.000000   1324.500000      0.631000   \n",
       "50%        2.000000   4549.000000    1276.000000   3474.000000      0.736000   \n",
       "75%        3.000000  11067.500000    1784.000000   9859.000000      0.859000   \n",
       "max        6.000000  34516.000000    2517.000000  34516.000000      3.397000   \n",
       "\n",
       "       Transaction_amt  Transaction_ct  Trans_Chg_ct    Util_ratio  \n",
       "count     10127.000000    10127.000000  10127.000000  10127.000000  \n",
       "mean       4404.086304       64.858695      0.712222      0.274894  \n",
       "std        3397.129254       23.472570      0.238086      0.275691  \n",
       "min         510.000000       10.000000      0.000000      0.000000  \n",
       "25%        2155.500000       45.000000      0.582000      0.023000  \n",
       "50%        3899.000000       67.000000      0.702000      0.176000  \n",
       "75%        4741.000000       81.000000      0.818000      0.503000  \n",
       "max       18484.000000      139.000000      3.714000      0.999000  "
      ]
     },
     "execution_count": 317,
     "metadata": {},
     "output_type": "execute_result"
    }
   ],
   "source": [
    "data.describe()"
   ]
  },
  {
   "cell_type": "code",
   "execution_count": 318,
   "metadata": {
    "scrolled": false
   },
   "outputs": [
    {
     "data": {
      "image/png": "[encoded data removed]",
      "text/plain": [
       "<Figure size 720x720 with 16 Axes>"
      ]
     },
     "metadata": {
      "needs_background": "light"
     },
     "output_type": "display_data"
    }
   ],
   "source": [
    "# checking distribution among numerical variables\n",
    "data.hist(figsize = (10,10))\n",
    "plt.subplots_adjust(hspace = 0.6, wspace = 0.8);"
   ]
  },
  {
   "cell_type": "code",
   "execution_count": 319,
   "metadata": {},
   "outputs": [],
   "source": [
    "# normal distribution for age, amount_chg, contacts, depedents,\n",
    "#   duration, num_products, transaction_chg_ct, transaction_ct\n",
    "# skewed distribution for avg_open, credit limit, inactive mo,\n",
    "#     revolving bal, transaction amt, util ratio"
   ]
  },
  {
   "cell_type": "markdown",
   "metadata": {},
   "source": [
    "#### Cleaned data for Exploratory Analysis"
   ]
  },
  {
   "cell_type": "code",
   "execution_count": 320,
   "metadata": {},
   "outputs": [
    {
     "data": {
      "text/html": [
       "<div>\n",
       "<style scoped>\n",
       "    .dataframe tbody tr th:only-of-type {\n",
       "        vertical-align: middle;\n",
       "    }\n",
       "\n",
       "    .dataframe tbody tr th {\n",
       "        vertical-align: top;\n",
       "    }\n",
       "\n",
       "    .dataframe thead th {\n",
       "        text-align: right;\n",
       "    }\n",
       "</style>\n",
       "<table border=\"1\" class=\"dataframe\">\n",
       "  <thead>\n",
       "    <tr style=\"text-align: right;\">\n",
       "      <th></th>\n",
       "      <th>Attrition</th>\n",
       "      <th>Age</th>\n",
       "      <th>Gender</th>\n",
       "      <th>Dependents</th>\n",
       "      <th>Education</th>\n",
       "      <th>Marital</th>\n",
       "      <th>Income</th>\n",
       "      <th>Card</th>\n",
       "      <th>Duration</th>\n",
       "      <th>Num_products</th>\n",
       "      <th>Inactive_mo</th>\n",
       "      <th>Contacts</th>\n",
       "      <th>Credit_Limit</th>\n",
       "      <th>Revolving_Bal</th>\n",
       "      <th>Avg_Open</th>\n",
       "      <th>Amount_chg</th>\n",
       "      <th>Transaction_amt</th>\n",
       "      <th>Transaction_ct</th>\n",
       "      <th>Trans_Chg_ct</th>\n",
       "      <th>Util_ratio</th>\n",
       "    </tr>\n",
       "  </thead>\n",
       "  <tbody>\n",
       "    <tr>\n",
       "      <th>0</th>\n",
       "      <td>Existing Customer</td>\n",
       "      <td>45</td>\n",
       "      <td>M</td>\n",
       "      <td>3</td>\n",
       "      <td>High School</td>\n",
       "      <td>Married</td>\n",
       "      <td>$70K</td>\n",
       "      <td>Blue</td>\n",
       "      <td>39</td>\n",
       "      <td>5</td>\n",
       "      <td>1</td>\n",
       "      <td>3</td>\n",
       "      <td>12691.0</td>\n",
       "      <td>777</td>\n",
       "      <td>11914.0</td>\n",
       "      <td>1.335</td>\n",
       "      <td>1144</td>\n",
       "      <td>42</td>\n",
       "      <td>1.625</td>\n",
       "      <td>0.061</td>\n",
       "    </tr>\n",
       "    <tr>\n",
       "      <th>1</th>\n",
       "      <td>Existing Customer</td>\n",
       "      <td>49</td>\n",
       "      <td>F</td>\n",
       "      <td>5</td>\n",
       "      <td>Graduate</td>\n",
       "      <td>Single</td>\n",
       "      <td>$40K</td>\n",
       "      <td>Blue</td>\n",
       "      <td>44</td>\n",
       "      <td>6</td>\n",
       "      <td>1</td>\n",
       "      <td>2</td>\n",
       "      <td>8256.0</td>\n",
       "      <td>864</td>\n",
       "      <td>7392.0</td>\n",
       "      <td>1.541</td>\n",
       "      <td>1291</td>\n",
       "      <td>33</td>\n",
       "      <td>3.714</td>\n",
       "      <td>0.105</td>\n",
       "    </tr>\n",
       "    <tr>\n",
       "      <th>2</th>\n",
       "      <td>Existing Customer</td>\n",
       "      <td>51</td>\n",
       "      <td>M</td>\n",
       "      <td>3</td>\n",
       "      <td>Graduate</td>\n",
       "      <td>Married</td>\n",
       "      <td>$100K</td>\n",
       "      <td>Blue</td>\n",
       "      <td>36</td>\n",
       "      <td>4</td>\n",
       "      <td>1</td>\n",
       "      <td>0</td>\n",
       "      <td>3418.0</td>\n",
       "      <td>0</td>\n",
       "      <td>3418.0</td>\n",
       "      <td>2.594</td>\n",
       "      <td>1887</td>\n",
       "      <td>20</td>\n",
       "      <td>2.333</td>\n",
       "      <td>0.000</td>\n",
       "    </tr>\n",
       "    <tr>\n",
       "      <th>3</th>\n",
       "      <td>Existing Customer</td>\n",
       "      <td>40</td>\n",
       "      <td>F</td>\n",
       "      <td>4</td>\n",
       "      <td>High School</td>\n",
       "      <td>Married</td>\n",
       "      <td>$40K</td>\n",
       "      <td>Blue</td>\n",
       "      <td>34</td>\n",
       "      <td>3</td>\n",
       "      <td>4</td>\n",
       "      <td>1</td>\n",
       "      <td>3313.0</td>\n",
       "      <td>2517</td>\n",
       "      <td>796.0</td>\n",
       "      <td>1.405</td>\n",
       "      <td>1171</td>\n",
       "      <td>20</td>\n",
       "      <td>2.333</td>\n",
       "      <td>0.760</td>\n",
       "    </tr>\n",
       "    <tr>\n",
       "      <th>4</th>\n",
       "      <td>Existing Customer</td>\n",
       "      <td>40</td>\n",
       "      <td>M</td>\n",
       "      <td>3</td>\n",
       "      <td>Uneducated</td>\n",
       "      <td>Married</td>\n",
       "      <td>$70K</td>\n",
       "      <td>Blue</td>\n",
       "      <td>21</td>\n",
       "      <td>5</td>\n",
       "      <td>1</td>\n",
       "      <td>0</td>\n",
       "      <td>4716.0</td>\n",
       "      <td>0</td>\n",
       "      <td>4716.0</td>\n",
       "      <td>2.175</td>\n",
       "      <td>816</td>\n",
       "      <td>28</td>\n",
       "      <td>2.500</td>\n",
       "      <td>0.000</td>\n",
       "    </tr>\n",
       "  </tbody>\n",
       "</table>\n",
       "</div>"
      ],
      "text/plain": [
       "           Attrition  Age Gender  Dependents    Education  Marital Income  \\\n",
       "0  Existing Customer   45      M           3  High School  Married   $70K   \n",
       "1  Existing Customer   49      F           5     Graduate   Single   $40K   \n",
       "2  Existing Customer   51      M           3     Graduate  Married  $100K   \n",
       "3  Existing Customer   40      F           4  High School  Married   $40K   \n",
       "4  Existing Customer   40      M           3   Uneducated  Married   $70K   \n",
       "\n",
       "   Card  Duration  Num_products  Inactive_mo  Contacts  Credit_Limit  \\\n",
       "0  Blue        39             5            1         3       12691.0   \n",
       "1  Blue        44             6            1         2        8256.0   \n",
       "2  Blue        36             4            1         0        3418.0   \n",
       "3  Blue        34             3            4         1        3313.0   \n",
       "4  Blue        21             5            1         0        4716.0   \n",
       "\n",
       "   Revolving_Bal  Avg_Open  Amount_chg  Transaction_amt  Transaction_ct  \\\n",
       "0            777   11914.0       1.335             1144              42   \n",
       "1            864    7392.0       1.541             1291              33   \n",
       "2              0    3418.0       2.594             1887              20   \n",
       "3           2517     796.0       1.405             1171              20   \n",
       "4              0    4716.0       2.175              816              28   \n",
       "\n",
       "   Trans_Chg_ct  Util_ratio  \n",
       "0         1.625       0.061  \n",
       "1         3.714       0.105  \n",
       "2         2.333       0.000  \n",
       "3         2.333       0.760  \n",
       "4         2.500       0.000  "
      ]
     },
     "execution_count": 320,
     "metadata": {},
     "output_type": "execute_result"
    }
   ],
   "source": [
    "data.head()\n",
    "# value names maintained for now to facilitate labeling"
   ]
  },
  {
   "cell_type": "markdown",
   "metadata": {},
   "source": [
    "Note:  (Usual univariate and bivariate exploration deferred, in anticipation that other members of the group will likely perform it.)"
   ]
  },
  {
   "cell_type": "code",
   "execution_count": null,
   "metadata": {},
   "outputs": [],
   "source": []
  },
  {
   "cell_type": "markdown",
   "metadata": {},
   "source": [
    "### Statement of Hypotheses\n",
    "\n",
    "#### Scenario:  Being hired by a bank to determine:\n",
    "A.  The profile of its credit card users\n",
    "        \n",
    "        Null hypotheses:\n",
    "            1.  There is no difference in distribution between male and female customers,\n",
    "            2.  There is no relationship between age and income among the customers,\n",
    "            3.  There is no relationship between marital status and income among the customers,\n",
    "            4.  There is no association between education and income among the customers.\n",
    "            \n",
    "B.  The most popular credit cards type\n",
    "        \n",
    "        Null hypotheses;\n",
    "            1.  There is no difference in the distribution between the different card types,\n",
    "            2.  Card type is independent of the customers'\n",
    "                    a.  age,\n",
    "                    b.  gender,\n",
    "                    c.  education,\n",
    "                    d.  marital status,\n",
    "                    e.  income\n",
    "                    \n",
    "C.  Factors associated with high use of credit funds among users\n",
    "        \n",
    "        Null hypotheses:\n",
    "            1.  There is no difference in the amount and number of transaction between genders,\n",
    "            2.  There is no difference in the number of transactions between different card types,\n",
    "            3.  There is no relationship between credit limit and utilization ratio\n",
    "            \n",
    "D.  Predict which users are likely to stay as customers instead of churning\n",
    "        \n",
    "        Null hypotheses:\n",
    "            1.  The outcome of attrition is not affected by any of the base attributes in the dataset, and thus cannot be predicted.\n",
    "    \n",
    "    "
   ]
  },
  {
   "cell_type": "code",
   "execution_count": null,
   "metadata": {},
   "outputs": [],
   "source": []
  },
  {
   "cell_type": "markdown",
   "metadata": {},
   "source": [
    "### Targeted Analyses "
   ]
  },
  {
   "cell_type": "markdown",
   "metadata": {},
   "source": [
    "#### Hypothesis A.1.  There is no difference in distribution between male and female customers"
   ]
  },
  {
   "cell_type": "code",
   "execution_count": 321,
   "metadata": {},
   "outputs": [
    {
     "data": {
      "text/html": [
       "<div>\n",
       "<style scoped>\n",
       "    .dataframe tbody tr th:only-of-type {\n",
       "        vertical-align: middle;\n",
       "    }\n",
       "\n",
       "    .dataframe tbody tr th {\n",
       "        vertical-align: top;\n",
       "    }\n",
       "\n",
       "    .dataframe thead th {\n",
       "        text-align: right;\n",
       "    }\n",
       "</style>\n",
       "<table border=\"1\" class=\"dataframe\">\n",
       "  <thead>\n",
       "    <tr style=\"text-align: right;\">\n",
       "      <th></th>\n",
       "      <th>Gender</th>\n",
       "    </tr>\n",
       "  </thead>\n",
       "  <tbody>\n",
       "    <tr>\n",
       "      <th>F</th>\n",
       "      <td>5358</td>\n",
       "    </tr>\n",
       "    <tr>\n",
       "      <th>M</th>\n",
       "      <td>4769</td>\n",
       "    </tr>\n",
       "  </tbody>\n",
       "</table>\n",
       "</div>"
      ],
      "text/plain": [
       "   Gender\n",
       "F    5358\n",
       "M    4769"
      ]
     },
     "metadata": {},
     "output_type": "display_data"
    },
    {
     "name": "stdout",
     "output_type": "stream",
     "text": [
      "p val=  [0.]\n"
     ]
    },
    {
     "data": {
      "image/png": "[encoded data removed]",
      "text/plain": [
       "<Figure size 216x216 with 1 Axes>"
      ]
     },
     "metadata": {},
     "output_type": "display_data"
    }
   ],
   "source": [
    "# assumption: expected equal frequencies\n",
    "obs = pd.DataFrame(data.Gender.value_counts())\n",
    "st, p = chisquare(obs)\n",
    "display(obs)\n",
    "print('p val= ', p.round(4))\n",
    "exp = (data.Gender.count()) /2\n",
    "\n",
    "plt.figure(figsize = (3,3))\n",
    "plt.pie(obs, explode = (0.15, 0), shadow = True, startangle = 90,\n",
    "       labels = ['Female','Male'])\n",
    "plt.suptitle('Gender Distribution')\n",
    "plt.legend(bbox_to_anchor=(1,1));"
   ]
  },
  {
   "cell_type": "markdown",
   "metadata": {},
   "source": [
    "Result:  At p < 0.01, the null hypotheses is rejected.\n",
    "\n",
    "Interpretation:  There is a significantly higher proportion of females among the customers."
   ]
  },
  {
   "cell_type": "code",
   "execution_count": null,
   "metadata": {},
   "outputs": [],
   "source": []
  },
  {
   "cell_type": "markdown",
   "metadata": {},
   "source": [
    "#### Hypothesis A.2.   There is no relationship between age and income level among the customers"
   ]
  },
  {
   "cell_type": "code",
   "execution_count": 322,
   "metadata": {},
   "outputs": [
    {
     "data": {
      "image/png": "[encoded data removed]",
      "text/plain": [
       "<Figure size 432x288 with 1 Axes>"
      ]
     },
     "metadata": {
      "needs_background": "light"
     },
     "output_type": "display_data"
    }
   ],
   "source": [
    "data.boxplot('Age', by='Income');"
   ]
  },
  {
   "cell_type": "code",
   "execution_count": 323,
   "metadata": {},
   "outputs": [
    {
     "data": {
      "text/html": [
       "<div>\n",
       "<style scoped>\n",
       "    .dataframe tbody tr th:only-of-type {\n",
       "        vertical-align: middle;\n",
       "    }\n",
       "\n",
       "    .dataframe tbody tr th {\n",
       "        vertical-align: top;\n",
       "    }\n",
       "\n",
       "    .dataframe thead th {\n",
       "        text-align: right;\n",
       "    }\n",
       "</style>\n",
       "<table border=\"1\" class=\"dataframe\">\n",
       "  <thead>\n",
       "    <tr style=\"text-align: right;\">\n",
       "      <th></th>\n",
       "      <th>count</th>\n",
       "      <th>mean</th>\n",
       "      <th>std</th>\n",
       "      <th>min</th>\n",
       "      <th>25%</th>\n",
       "      <th>50%</th>\n",
       "      <th>75%</th>\n",
       "      <th>max</th>\n",
       "    </tr>\n",
       "    <tr>\n",
       "      <th>Income</th>\n",
       "      <th></th>\n",
       "      <th></th>\n",
       "      <th></th>\n",
       "      <th></th>\n",
       "      <th></th>\n",
       "      <th></th>\n",
       "      <th></th>\n",
       "      <th></th>\n",
       "    </tr>\n",
       "  </thead>\n",
       "  <tbody>\n",
       "    <tr>\n",
       "      <th>$100K</th>\n",
       "      <td>1535.0</td>\n",
       "      <td>46.428013</td>\n",
       "      <td>6.857736</td>\n",
       "      <td>27.0</td>\n",
       "      <td>41.0</td>\n",
       "      <td>47.0</td>\n",
       "      <td>52.0</td>\n",
       "      <td>63.0</td>\n",
       "    </tr>\n",
       "    <tr>\n",
       "      <th>$120K</th>\n",
       "      <td>727.0</td>\n",
       "      <td>47.603851</td>\n",
       "      <td>6.769921</td>\n",
       "      <td>26.0</td>\n",
       "      <td>43.0</td>\n",
       "      <td>49.0</td>\n",
       "      <td>53.0</td>\n",
       "      <td>62.0</td>\n",
       "    </tr>\n",
       "    <tr>\n",
       "      <th>$40K</th>\n",
       "      <td>4673.0</td>\n",
       "      <td>46.292318</td>\n",
       "      <td>8.497843</td>\n",
       "      <td>26.0</td>\n",
       "      <td>41.0</td>\n",
       "      <td>46.0</td>\n",
       "      <td>52.0</td>\n",
       "      <td>70.0</td>\n",
       "    </tr>\n",
       "    <tr>\n",
       "      <th>$50K</th>\n",
       "      <td>1790.0</td>\n",
       "      <td>46.087151</td>\n",
       "      <td>8.434617</td>\n",
       "      <td>26.0</td>\n",
       "      <td>40.0</td>\n",
       "      <td>46.0</td>\n",
       "      <td>52.0</td>\n",
       "      <td>73.0</td>\n",
       "    </tr>\n",
       "    <tr>\n",
       "      <th>$70K</th>\n",
       "      <td>1402.0</td>\n",
       "      <td>45.968616</td>\n",
       "      <td>7.520167</td>\n",
       "      <td>26.0</td>\n",
       "      <td>41.0</td>\n",
       "      <td>46.0</td>\n",
       "      <td>51.0</td>\n",
       "      <td>63.0</td>\n",
       "    </tr>\n",
       "  </tbody>\n",
       "</table>\n",
       "</div>"
      ],
      "text/plain": [
       "         count       mean       std   min   25%   50%   75%   max\n",
       "Income                                                           \n",
       "$100K   1535.0  46.428013  6.857736  27.0  41.0  47.0  52.0  63.0\n",
       "$120K    727.0  47.603851  6.769921  26.0  43.0  49.0  53.0  62.0\n",
       "$40K    4673.0  46.292318  8.497843  26.0  41.0  46.0  52.0  70.0\n",
       "$50K    1790.0  46.087151  8.434617  26.0  40.0  46.0  52.0  73.0\n",
       "$70K    1402.0  45.968616  7.520167  26.0  41.0  46.0  51.0  63.0"
      ]
     },
     "execution_count": 323,
     "metadata": {},
     "output_type": "execute_result"
    }
   ],
   "source": [
    "data.groupby('Income')['Age'].describe()"
   ]
  },
  {
   "cell_type": "code",
   "execution_count": 324,
   "metadata": {},
   "outputs": [],
   "source": [
    "# ANOVA conditions:\n",
    "# 1.  observations are mostly independent\n",
    "# 2.  data distribution is nearly normal\n",
    "# 3.  variability across groups is comparable"
   ]
  },
  {
   "cell_type": "code",
   "execution_count": 325,
   "metadata": {},
   "outputs": [
    {
     "data": {
      "text/plain": [
       "F_onewayResult(statistic=5.805298780895835, pvalue=0.00011565813366589263)"
      ]
     },
     "execution_count": 325,
     "metadata": {},
     "output_type": "execute_result"
    }
   ],
   "source": [
    "# using ANOVA / f one way\n",
    "inc = data.Income\n",
    "age = data.Age\n",
    "stat.f_oneway( age [ inc == '$40K'],\n",
    "             age [ inc == '$50K'],\n",
    "             age [ inc == '$70K'],\n",
    "             age [ inc == '$100K'],\n",
    "             age [ inc == '$120K'])\n",
    "# p=0.0001 -> at least one group is different"
   ]
  },
  {
   "cell_type": "code",
   "execution_count": 326,
   "metadata": {},
   "outputs": [
    {
     "data": {
      "image/png": "[encoded data removed]",
      "text/plain": [
       "<Figure size 720x576 with 6 Axes>"
      ]
     },
     "metadata": {
      "needs_background": "light"
     },
     "output_type": "display_data"
    }
   ],
   "source": [
    "low = age [ inc == '$40K']\n",
    "low_med =  age [ inc == '$50K']\n",
    "med =   age [ inc == '$70K']\n",
    "high_med =  age [ inc == '$100K']\n",
    "high =  age [ inc == '$120K']\n",
    "\n",
    "plt.figure(figsize = (10,8))\n",
    "plt.subplot(611)\n",
    "plt.hist(age, label = 'Age Distn of Population')\n",
    "plt.ylabel('Frequency');\n",
    "plt.legend()\n",
    "\n",
    "plt.subplot(612)\n",
    "plt.hist(low, label = 'Income <$40K')\n",
    "plt.legend()\n",
    "\n",
    "plt.subplot(613)\n",
    "plt.hist(low_med, label = 'Income $50K')\n",
    "plt.legend()\n",
    "\n",
    "plt.subplot(614)\n",
    "plt.hist(med, label = 'Income $70K')\n",
    "plt.legend()\n",
    "\n",
    "plt.subplot(615)\n",
    "plt.hist(high_med, label = 'Income $100K')\n",
    "plt.legend()\n",
    "\n",
    "plt.subplot(616)\n",
    "plt.hist(high, label = 'Income $120K+')\n",
    "plt.xlabel('Age (years)')\n",
    "plt.legend();"
   ]
  },
  {
   "cell_type": "code",
   "execution_count": 327,
   "metadata": {},
   "outputs": [
    {
     "data": {
      "text/html": [
       "<table class=\"simpletable\">\n",
       "<caption>Test Multiple Comparison ttest_ind \n",
       "FWER=0.05 method=bonf\n",
       "alphacSidak=0.01, alphacBonf=0.005</caption>\n",
       "<tr>\n",
       "  <th>group1</th> <th>group2</th>  <th>stat</th>    <th>pval</th>  <th>pval_corr</th> <th>reject</th>\n",
       "</tr>\n",
       "<tr>\n",
       "   <td>$100K</td>  <td>$120K</td> <td>-3.8241</td> <td>0.0001</td>  <td>0.0013</td>    <td>True</td> \n",
       "</tr>\n",
       "<tr>\n",
       "   <td>$100K</td>  <td>$40K</td>  <td>0.5678</td>  <td>0.5702</td>    <td>1.0</td>     <td>False</td>\n",
       "</tr>\n",
       "<tr>\n",
       "   <td>$100K</td>  <td>$50K</td>  <td>1.2649</td>   <td>0.206</td>    <td>1.0</td>     <td>False</td>\n",
       "</tr>\n",
       "<tr>\n",
       "   <td>$100K</td>  <td>$70K</td>  <td>1.7316</td>  <td>0.0835</td>  <td>0.8345</td>    <td>False</td>\n",
       "</tr>\n",
       "<tr>\n",
       "   <td>$120K</td>  <td>$40K</td>  <td>3.9699</td>  <td>0.0001</td>  <td>0.0007</td>    <td>True</td> \n",
       "</tr>\n",
       "<tr>\n",
       "   <td>$120K</td>  <td>$50K</td>  <td>4.3164</td>    <td>0.0</td>   <td>0.0002</td>    <td>True</td> \n",
       "</tr>\n",
       "<tr>\n",
       "   <td>$120K</td>  <td>$70K</td>  <td>4.9196</td>    <td>0.0</td>     <td>0.0</td>     <td>True</td> \n",
       "</tr>\n",
       "<tr>\n",
       "   <td>$40K</td>   <td>$50K</td>  <td>0.8704</td>  <td>0.3841</td>    <td>1.0</td>     <td>False</td>\n",
       "</tr>\n",
       "<tr>\n",
       "   <td>$40K</td>   <td>$70K</td>  <td>1.2835</td>  <td>0.1994</td>    <td>1.0</td>     <td>False</td>\n",
       "</tr>\n",
       "<tr>\n",
       "   <td>$50K</td>   <td>$70K</td>  <td>0.4131</td>  <td>0.6796</td>    <td>1.0</td>     <td>False</td>\n",
       "</tr>\n",
       "</table>"
      ],
      "text/plain": [
       "<class 'statsmodels.iolib.table.SimpleTable'>"
      ]
     },
     "execution_count": 327,
     "metadata": {},
     "output_type": "execute_result"
    }
   ],
   "source": [
    "comp = mc.MultiComparison(data['Age'], data['Income'])\n",
    "table, arr1, arr2 = comp.allpairtest(stat.ttest_ind, method = 'bonf')\n",
    "table"
   ]
  },
  {
   "cell_type": "code",
   "execution_count": 328,
   "metadata": {},
   "outputs": [],
   "source": [
    "# difference:\n",
    "# <40, 50, 70, 100 versus 120+"
   ]
  },
  {
   "cell_type": "markdown",
   "metadata": {},
   "source": [
    "Result: At p = <0.01, the null Ho is rejected.  The age distribution of customers who are earning $120+ is different from the rest of the income groups.  \n",
    "\n",
    "Interpretation:  Those earning $120+ are older, with a mean age of 47.6 +/- 6.7 (CI 43-53)."
   ]
  },
  {
   "cell_type": "code",
   "execution_count": null,
   "metadata": {},
   "outputs": [],
   "source": []
  },
  {
   "cell_type": "markdown",
   "metadata": {},
   "source": [
    "#### Hypothesis A.3.  There is no relationship between marital status and income among the customers"
   ]
  },
  {
   "cell_type": "code",
   "execution_count": 329,
   "metadata": {},
   "outputs": [
    {
     "name": "stdout",
     "output_type": "stream",
     "text": [
      "Percentage Distribution between Marital Status and Income Levels\n"
     ]
    },
    {
     "data": {
      "text/html": [
       "<div>\n",
       "<style scoped>\n",
       "    .dataframe tbody tr th:only-of-type {\n",
       "        vertical-align: middle;\n",
       "    }\n",
       "\n",
       "    .dataframe tbody tr th {\n",
       "        vertical-align: top;\n",
       "    }\n",
       "\n",
       "    .dataframe thead th {\n",
       "        text-align: right;\n",
       "    }\n",
       "</style>\n",
       "<table border=\"1\" class=\"dataframe\">\n",
       "  <thead>\n",
       "    <tr style=\"text-align: right;\">\n",
       "      <th>Marital</th>\n",
       "      <th>Single</th>\n",
       "      <th>Married</th>\n",
       "      <th>Divorced</th>\n",
       "    </tr>\n",
       "    <tr>\n",
       "      <th>Income</th>\n",
       "      <th></th>\n",
       "      <th></th>\n",
       "      <th></th>\n",
       "    </tr>\n",
       "  </thead>\n",
       "  <tbody>\n",
       "    <tr>\n",
       "      <th>$40K</th>\n",
       "      <td>18.50</td>\n",
       "      <td>24.22</td>\n",
       "      <td>3.43</td>\n",
       "    </tr>\n",
       "    <tr>\n",
       "      <th>$50K</th>\n",
       "      <td>6.95</td>\n",
       "      <td>9.36</td>\n",
       "      <td>1.36</td>\n",
       "    </tr>\n",
       "    <tr>\n",
       "      <th>$70K</th>\n",
       "      <td>5.24</td>\n",
       "      <td>7.53</td>\n",
       "      <td>1.07</td>\n",
       "    </tr>\n",
       "    <tr>\n",
       "      <th>$100K</th>\n",
       "      <td>5.54</td>\n",
       "      <td>8.60</td>\n",
       "      <td>1.02</td>\n",
       "    </tr>\n",
       "    <tr>\n",
       "      <th>$120K</th>\n",
       "      <td>2.71</td>\n",
       "      <td>3.96</td>\n",
       "      <td>0.51</td>\n",
       "    </tr>\n",
       "  </tbody>\n",
       "</table>\n",
       "</div>"
      ],
      "text/plain": [
       "Marital  Single  Married  Divorced\n",
       "Income                            \n",
       "$40K      18.50    24.22      3.43\n",
       "$50K       6.95     9.36      1.36\n",
       "$70K       5.24     7.53      1.07\n",
       "$100K      5.54     8.60      1.02\n",
       "$120K      2.71     3.96      0.51"
      ]
     },
     "metadata": {},
     "output_type": "display_data"
    },
    {
     "name": "stdout",
     "output_type": "stream",
     "text": [
      "chi2_contingency pval =  0.2273\n",
      "chisquare axis 0 pval =  [0. 0. 0.]\n",
      "chisquare axis 1 pval =  [0. 0. 0. 0. 0.]\n"
     ]
    }
   ],
   "source": [
    "# assumption: normal distribution\n",
    "df= pd.crosstab(data.Income, data.Marital)\n",
    "#display(df)\n",
    "x2, p, dof, exp = stat.chi2_contingency(df)\n",
    "# getting normalized values\n",
    "print('Percentage Distribution between Marital Status and Income Levels')\n",
    "df1= pd.crosstab(data.Income, data.Marital, normalize=True, margins=True)\n",
    "df1 = df1.reindex(['$40K','$50K','$70K','$100K','$120K'])\n",
    "df1 = df1.reindex(columns = ['Single','Married','Divorced'])\n",
    "display((df1*100).round(2))\n",
    "\n",
    "print('chi2_contingency pval = ', p.round(4))\n",
    "st, p = chisquare(df, axis = 0)\n",
    "print('chisquare axis 0 pval = ', p.round(4))\n",
    "st, p = chisquare(df, axis = 1)\n",
    "print('chisquare axis 1 pval = ', p.round(4))\n",
    "\n",
    "# chisquare applied prior to normalization"
   ]
  },
  {
   "cell_type": "markdown",
   "metadata": {},
   "source": [
    "Results:  The values between Marital levels are significantly different.  The values between Income levels are significantly different.  However, at p > 0.05, there is a failure to reject the hypothesis.\n",
    "\n",
    "Interpretation:  Income level is independent of marital status."
   ]
  },
  {
   "cell_type": "code",
   "execution_count": null,
   "metadata": {},
   "outputs": [],
   "source": []
  },
  {
   "cell_type": "markdown",
   "metadata": {},
   "source": [
    "#### Hypothesis A.4.  There is no association between education and income among the customers"
   ]
  },
  {
   "cell_type": "code",
   "execution_count": 330,
   "metadata": {},
   "outputs": [
    {
     "name": "stdout",
     "output_type": "stream",
     "text": [
      "Percentage Distribution between Education and Income Levels\n"
     ]
    },
    {
     "data": {
      "text/html": [
       "<div>\n",
       "<style scoped>\n",
       "    .dataframe tbody tr th:only-of-type {\n",
       "        vertical-align: middle;\n",
       "    }\n",
       "\n",
       "    .dataframe tbody tr th {\n",
       "        vertical-align: top;\n",
       "    }\n",
       "\n",
       "    .dataframe thead th {\n",
       "        text-align: right;\n",
       "    }\n",
       "</style>\n",
       "<table border=\"1\" class=\"dataframe\">\n",
       "  <thead>\n",
       "    <tr style=\"text-align: right;\">\n",
       "      <th>Education</th>\n",
       "      <th>Uneducated</th>\n",
       "      <th>High School</th>\n",
       "      <th>College</th>\n",
       "      <th>Graduate</th>\n",
       "      <th>Post-Graduate</th>\n",
       "    </tr>\n",
       "    <tr>\n",
       "      <th>Income</th>\n",
       "      <th></th>\n",
       "      <th></th>\n",
       "      <th></th>\n",
       "      <th></th>\n",
       "      <th></th>\n",
       "    </tr>\n",
       "  </thead>\n",
       "  <tbody>\n",
       "    <tr>\n",
       "      <th>$40K</th>\n",
       "      <td>6.98</td>\n",
       "      <td>8.85</td>\n",
       "      <td>4.47</td>\n",
       "      <td>21.45</td>\n",
       "      <td>4.39</td>\n",
       "    </tr>\n",
       "    <tr>\n",
       "      <th>$50K</th>\n",
       "      <td>2.46</td>\n",
       "      <td>3.51</td>\n",
       "      <td>1.81</td>\n",
       "      <td>8.12</td>\n",
       "      <td>1.79</td>\n",
       "    </tr>\n",
       "    <tr>\n",
       "      <th>$70K</th>\n",
       "      <td>1.93</td>\n",
       "      <td>3.03</td>\n",
       "      <td>1.30</td>\n",
       "      <td>6.24</td>\n",
       "      <td>1.34</td>\n",
       "    </tr>\n",
       "    <tr>\n",
       "      <th>$100K</th>\n",
       "      <td>2.14</td>\n",
       "      <td>3.04</td>\n",
       "      <td>1.73</td>\n",
       "      <td>6.88</td>\n",
       "      <td>1.36</td>\n",
       "    </tr>\n",
       "    <tr>\n",
       "      <th>$120K</th>\n",
       "      <td>1.18</td>\n",
       "      <td>1.45</td>\n",
       "      <td>0.69</td>\n",
       "      <td>3.20</td>\n",
       "      <td>0.66</td>\n",
       "    </tr>\n",
       "  </tbody>\n",
       "</table>\n",
       "</div>"
      ],
      "text/plain": [
       "Education  Uneducated  High School  College  Graduate  Post-Graduate\n",
       "Income                                                              \n",
       "$40K             6.98         8.85     4.47     21.45           4.39\n",
       "$50K             2.46         3.51     1.81      8.12           1.79\n",
       "$70K             1.93         3.03     1.30      6.24           1.34\n",
       "$100K            2.14         3.04     1.73      6.88           1.36\n",
       "$120K            1.18         1.45     0.69      3.20           0.66"
      ]
     },
     "metadata": {},
     "output_type": "display_data"
    },
    {
     "name": "stdout",
     "output_type": "stream",
     "text": [
      "chi2_contingency pval =  0.5979\n",
      "chisquare axis 0 pval =  [0. 0. 0. 0. 0.]\n",
      "chisquare axis 1 pval =  [0. 0. 0. 0. 0.]\n"
     ]
    }
   ],
   "source": [
    "# assumption: normal distribution\n",
    "df= pd.crosstab(data.Income, data.Education)\n",
    "#display(df)\n",
    "x2, p, dof, exp = stat.chi2_contingency(df)\n",
    "# getting normalized values\n",
    "df1= pd.crosstab(data.Income, data.Education, normalize=True, margins=True)\n",
    "df1 = df1.reindex(['$40K','$50K','$70K','$100K','$120K'])\n",
    "df1 = df1.reindex(columns = ['Uneducated','High School','College','Graduate','Post-Graduate'])\n",
    "print('Percentage Distribution between Education and Income Levels')\n",
    "display((df1*100).round(2))\n",
    "\n",
    "print('chi2_contingency pval = ', p.round(4))\n",
    "st, p = chisquare(df, axis = 0)\n",
    "print('chisquare axis 0 pval = ', p.round(4))\n",
    "st, p = chisquare(df, axis = 1)\n",
    "print('chisquare axis 1 pval = ', p.round(4))\n",
    "\n",
    "# chisquare applied prior to normalization"
   ]
  },
  {
   "cell_type": "markdown",
   "metadata": {},
   "source": [
    "Results:  The values between Educational levels are significantly different.  The values between Income levels are significantly different.  However, at p > 0.05, there is a failure to reject the hypothesis.\n",
    "\n",
    "Interpretation:  Income is independent of educational level."
   ]
  },
  {
   "cell_type": "code",
   "execution_count": null,
   "metadata": {},
   "outputs": [],
   "source": []
  },
  {
   "cell_type": "markdown",
   "metadata": {},
   "source": [
    "#### Hypothesis B.1.  There is no difference in the distribution between the different card types"
   ]
  },
  {
   "cell_type": "code",
   "execution_count": 331,
   "metadata": {},
   "outputs": [
    {
     "data": {
      "text/html": [
       "<div>\n",
       "<style scoped>\n",
       "    .dataframe tbody tr th:only-of-type {\n",
       "        vertical-align: middle;\n",
       "    }\n",
       "\n",
       "    .dataframe tbody tr th {\n",
       "        vertical-align: top;\n",
       "    }\n",
       "\n",
       "    .dataframe thead th {\n",
       "        text-align: right;\n",
       "    }\n",
       "</style>\n",
       "<table border=\"1\" class=\"dataframe\">\n",
       "  <thead>\n",
       "    <tr style=\"text-align: right;\">\n",
       "      <th></th>\n",
       "      <th>Card</th>\n",
       "    </tr>\n",
       "  </thead>\n",
       "  <tbody>\n",
       "    <tr>\n",
       "      <th>Blue</th>\n",
       "      <td>9436</td>\n",
       "    </tr>\n",
       "    <tr>\n",
       "      <th>Silver</th>\n",
       "      <td>555</td>\n",
       "    </tr>\n",
       "    <tr>\n",
       "      <th>Gold</th>\n",
       "      <td>116</td>\n",
       "    </tr>\n",
       "    <tr>\n",
       "      <th>Platinum</th>\n",
       "      <td>20</td>\n",
       "    </tr>\n",
       "  </tbody>\n",
       "</table>\n",
       "</div>"
      ],
      "text/plain": [
       "          Card\n",
       "Blue      9436\n",
       "Silver     555\n",
       "Gold       116\n",
       "Platinum    20"
      ]
     },
     "metadata": {},
     "output_type": "display_data"
    },
    {
     "name": "stdout",
     "output_type": "stream",
     "text": [
      "p value =  0.0\n"
     ]
    },
    {
     "data": {
      "image/png": "[encoded data removed]",
      "text/plain": [
       "<Figure size 216x216 with 1 Axes>"
      ]
     },
     "metadata": {},
     "output_type": "display_data"
    }
   ],
   "source": [
    "card = data.Card.value_counts()\n",
    "display(pd.DataFrame(card))\n",
    "st, p = chisquare(card)\n",
    "print('p value = ', p.round(4))\n",
    "\n",
    "card.plot(kind = 'pie', explode = (0.2, 0.5, 0.9, 2.4),\n",
    "          figsize = (3,3), cmap='Spectral',\n",
    "         shadow=True)\n",
    "plt.title('Card Types')\n",
    "plt.ylabel(None);"
   ]
  },
  {
   "cell_type": "markdown",
   "metadata": {},
   "source": [
    "Result:  At p < 0.01, the null hypothesis is rejected.\n",
    "\n",
    "Intepretation:  The proportions of the card types are significantly different, with Blue predominating, followed by Silver, Gold, and Platinum the least common."
   ]
  },
  {
   "cell_type": "code",
   "execution_count": null,
   "metadata": {},
   "outputs": [],
   "source": []
  },
  {
   "cell_type": "markdown",
   "metadata": {},
   "source": [
    "#### Hypothesis B.2.a.  The card type is independent of the customers' age"
   ]
  },
  {
   "cell_type": "code",
   "execution_count": 332,
   "metadata": {},
   "outputs": [
    {
     "data": {
      "text/plain": [
       "middle    7325\n",
       "young     2397\n",
       "older      405\n",
       "Name: Age_group, dtype: int64"
      ]
     },
     "execution_count": 332,
     "metadata": {},
     "output_type": "execute_result"
    }
   ],
   "source": [
    "# grouping into age groups\n",
    "labels = ['young','middle','older']\n",
    "bins = [20, 40, 60, 80]\n",
    "data['Age_group']  = pd.cut(data.Age, bins=bins, labels = labels, right=True )\n",
    "data.Age_group.value_counts()"
   ]
  },
  {
   "cell_type": "code",
   "execution_count": 333,
   "metadata": {},
   "outputs": [
    {
     "name": "stdout",
     "output_type": "stream",
     "text": [
      "Percentage Distribution between Age group and Card type\n"
     ]
    },
    {
     "data": {
      "text/html": [
       "<div>\n",
       "<style scoped>\n",
       "    .dataframe tbody tr th:only-of-type {\n",
       "        vertical-align: middle;\n",
       "    }\n",
       "\n",
       "    .dataframe tbody tr th {\n",
       "        vertical-align: top;\n",
       "    }\n",
       "\n",
       "    .dataframe thead th {\n",
       "        text-align: right;\n",
       "    }\n",
       "</style>\n",
       "<table border=\"1\" class=\"dataframe\">\n",
       "  <thead>\n",
       "    <tr style=\"text-align: right;\">\n",
       "      <th>Card</th>\n",
       "      <th>Blue</th>\n",
       "      <th>Silver</th>\n",
       "      <th>Gold</th>\n",
       "      <th>Platinum</th>\n",
       "    </tr>\n",
       "    <tr>\n",
       "      <th>Age_group</th>\n",
       "      <th></th>\n",
       "      <th></th>\n",
       "      <th></th>\n",
       "      <th></th>\n",
       "    </tr>\n",
       "  </thead>\n",
       "  <tbody>\n",
       "    <tr>\n",
       "      <th>young</th>\n",
       "      <td>22.18</td>\n",
       "      <td>1.23</td>\n",
       "      <td>0.25</td>\n",
       "      <td>0.01</td>\n",
       "    </tr>\n",
       "    <tr>\n",
       "      <th>middle</th>\n",
       "      <td>67.16</td>\n",
       "      <td>4.11</td>\n",
       "      <td>0.88</td>\n",
       "      <td>0.19</td>\n",
       "    </tr>\n",
       "    <tr>\n",
       "      <th>older</th>\n",
       "      <td>3.84</td>\n",
       "      <td>0.14</td>\n",
       "      <td>0.02</td>\n",
       "      <td>0.00</td>\n",
       "    </tr>\n",
       "    <tr>\n",
       "      <th>All</th>\n",
       "      <td>93.18</td>\n",
       "      <td>5.48</td>\n",
       "      <td>1.15</td>\n",
       "      <td>0.20</td>\n",
       "    </tr>\n",
       "  </tbody>\n",
       "</table>\n",
       "</div>"
      ],
      "text/plain": [
       "Card        Blue  Silver  Gold  Platinum\n",
       "Age_group                               \n",
       "young      22.18    1.23  0.25      0.01\n",
       "middle     67.16    4.11  0.88      0.19\n",
       "older       3.84    0.14  0.02      0.00\n",
       "All        93.18    5.48  1.15      0.20"
      ]
     },
     "metadata": {},
     "output_type": "display_data"
    },
    {
     "name": "stdout",
     "output_type": "stream",
     "text": [
      "chi2_contingency pval =  0.0722\n",
      "chisquare axis 0 pval =  [0. 0. 0. 0.]\n",
      "chisquare axis 1 pval =  [0. 0. 0.]\n"
     ]
    },
    {
     "data": {
      "image/png": "[encoded data removed]",
      "text/plain": [
       "<Figure size 432x288 with 4 Axes>"
      ]
     },
     "metadata": {
      "needs_background": "light"
     },
     "output_type": "display_data"
    }
   ],
   "source": [
    "# assumption: normal distribution\n",
    "df= pd.crosstab(data.Age_group, data.Card)\n",
    "#display(df)\n",
    "x2, p, dof, exp = stat.chi2_contingency(df)\n",
    "# getting normalized values\n",
    "df1= pd.crosstab(data.Age_group, data.Card, normalize=True, margins=True)\n",
    "df1 = df1.reindex(columns = ['Blue','Silver','Gold','Platinum'])\n",
    "print('Percentage Distribution between Age group and Card type')\n",
    "display((df1*100).round(2))\n",
    "\n",
    "print('chi2_contingency pval = ', p.round(4))\n",
    "st, p = chisquare(df, axis = 0)\n",
    "print('chisquare axis 0 pval = ', p.round(4))\n",
    "st, p = chisquare(df, axis = 1)\n",
    "print('chisquare axis 1 pval = ', p.round(4))\n",
    "\n",
    "df1.plot(kind='bar', subplots=True, colormap = 'Spectral',\n",
    "         legend=None, rot=0)\n",
    "plt.subplots_adjust(hspace = 0.5);\n",
    "# chisquare applied prior to normalization"
   ]
  },
  {
   "cell_type": "markdown",
   "metadata": {},
   "source": [
    "Result: There is a significant difference in the distribution proportion of Age groups that use different card types.  However, at p > 0.05, there is failure to reject the null hypothesis.\n",
    "\n",
    "Interpretation:  The card type held by the customer is independent of his/her age group."
   ]
  },
  {
   "cell_type": "code",
   "execution_count": null,
   "metadata": {},
   "outputs": [],
   "source": []
  },
  {
   "cell_type": "markdown",
   "metadata": {},
   "source": [
    "#### Hypothesis B.2.b.  The card type is independent of the customers' gender"
   ]
  },
  {
   "cell_type": "code",
   "execution_count": 334,
   "metadata": {},
   "outputs": [
    {
     "name": "stdout",
     "output_type": "stream",
     "text": [
      "Percentage Distribution between Genders and Card type\n"
     ]
    },
    {
     "data": {
      "text/html": [
       "<div>\n",
       "<style scoped>\n",
       "    .dataframe tbody tr th:only-of-type {\n",
       "        vertical-align: middle;\n",
       "    }\n",
       "\n",
       "    .dataframe tbody tr th {\n",
       "        vertical-align: top;\n",
       "    }\n",
       "\n",
       "    .dataframe thead th {\n",
       "        text-align: right;\n",
       "    }\n",
       "</style>\n",
       "<table border=\"1\" class=\"dataframe\">\n",
       "  <thead>\n",
       "    <tr style=\"text-align: right;\">\n",
       "      <th>Card</th>\n",
       "      <th>Blue</th>\n",
       "      <th>Silver</th>\n",
       "      <th>Gold</th>\n",
       "      <th>Platinum</th>\n",
       "    </tr>\n",
       "    <tr>\n",
       "      <th>Gender</th>\n",
       "      <th></th>\n",
       "      <th></th>\n",
       "      <th></th>\n",
       "      <th></th>\n",
       "    </tr>\n",
       "  </thead>\n",
       "  <tbody>\n",
       "    <tr>\n",
       "      <th>F</th>\n",
       "      <td>50.37</td>\n",
       "      <td>2.07</td>\n",
       "      <td>0.38</td>\n",
       "      <td>0.09</td>\n",
       "    </tr>\n",
       "    <tr>\n",
       "      <th>M</th>\n",
       "      <td>42.81</td>\n",
       "      <td>3.41</td>\n",
       "      <td>0.77</td>\n",
       "      <td>0.11</td>\n",
       "    </tr>\n",
       "    <tr>\n",
       "      <th>All</th>\n",
       "      <td>93.18</td>\n",
       "      <td>5.48</td>\n",
       "      <td>1.15</td>\n",
       "      <td>0.20</td>\n",
       "    </tr>\n",
       "  </tbody>\n",
       "</table>\n",
       "</div>"
      ],
      "text/plain": [
       "Card     Blue  Silver  Gold  Platinum\n",
       "Gender                               \n",
       "F       50.37    2.07  0.38      0.09\n",
       "M       42.81    3.41  0.77      0.11\n",
       "All     93.18    5.48  1.15      0.20"
      ]
     },
     "metadata": {},
     "output_type": "display_data"
    },
    {
     "name": "stdout",
     "output_type": "stream",
     "text": [
      "chi2_contingency pval =  0.0\n",
      "chisquare axis 0 pval =  [0.000e+00 2.000e-04 6.547e-01 0.000e+00]\n",
      "chisquare axis 1 pval =  [0. 0.]\n"
     ]
    },
    {
     "data": {
      "image/png": "[encoded data removed]",
      "text/plain": [
       "<Figure size 432x288 with 4 Axes>"
      ]
     },
     "metadata": {
      "needs_background": "light"
     },
     "output_type": "display_data"
    }
   ],
   "source": [
    "# assumption: normal distribution\n",
    "df= pd.crosstab(data.Gender, data.Card)\n",
    "#display(df)\n",
    "x2, p, dof, exp = stat.chi2_contingency(df)\n",
    "# getting normalized values\n",
    "df1= pd.crosstab(data.Gender, data.Card, normalize=True, margins=True)\n",
    "df1 = df1.reindex(columns = ['Blue','Silver','Gold','Platinum'])\n",
    "print('Percentage Distribution between Genders and Card type')\n",
    "display((df1*100).round(2))\n",
    "\n",
    "print('chi2_contingency pval = ', p.round(4))\n",
    "st, p = chisquare(df, axis = 0)\n",
    "print('chisquare axis 0 pval = ', p.round(4))\n",
    "st, p = chisquare(df, axis = 1)\n",
    "print('chisquare axis 1 pval = ', p.round(4))\n",
    "\n",
    "df1.plot(kind='bar', subplots=True, colormap = 'Spectral',\n",
    "         legend=None, rot=0)\n",
    "plt.subplots_adjust(hspace = 0.5);\n",
    "# chisquare applied prior to normalization"
   ]
  },
  {
   "cell_type": "code",
   "execution_count": 335,
   "metadata": {},
   "outputs": [
    {
     "data": {
      "text/html": [
       "<div>\n",
       "<style scoped>\n",
       "    .dataframe tbody tr th:only-of-type {\n",
       "        vertical-align: middle;\n",
       "    }\n",
       "\n",
       "    .dataframe tbody tr th {\n",
       "        vertical-align: top;\n",
       "    }\n",
       "\n",
       "    .dataframe thead th {\n",
       "        text-align: right;\n",
       "    }\n",
       "</style>\n",
       "<table border=\"1\" class=\"dataframe\">\n",
       "  <thead>\n",
       "    <tr style=\"text-align: right;\">\n",
       "      <th>Gender</th>\n",
       "      <th>F</th>\n",
       "      <th>M</th>\n",
       "    </tr>\n",
       "    <tr>\n",
       "      <th>Blue</th>\n",
       "      <th></th>\n",
       "      <th></th>\n",
       "    </tr>\n",
       "  </thead>\n",
       "  <tbody>\n",
       "    <tr>\n",
       "      <th>0</th>\n",
       "      <td>2.54</td>\n",
       "      <td>4.29</td>\n",
       "    </tr>\n",
       "    <tr>\n",
       "      <th>1</th>\n",
       "      <td>50.37</td>\n",
       "      <td>42.81</td>\n",
       "    </tr>\n",
       "  </tbody>\n",
       "</table>\n",
       "</div>"
      ],
      "text/plain": [
       "Gender      F      M\n",
       "Blue                \n",
       "0        2.54   4.29\n",
       "1       50.37  42.81"
      ]
     },
     "metadata": {},
     "output_type": "display_data"
    },
    {
     "name": "stdout",
     "output_type": "stream",
     "text": [
      "pval = 0.0\n"
     ]
    },
    {
     "data": {
      "text/html": [
       "<div>\n",
       "<style scoped>\n",
       "    .dataframe tbody tr th:only-of-type {\n",
       "        vertical-align: middle;\n",
       "    }\n",
       "\n",
       "    .dataframe tbody tr th {\n",
       "        vertical-align: top;\n",
       "    }\n",
       "\n",
       "    .dataframe thead th {\n",
       "        text-align: right;\n",
       "    }\n",
       "</style>\n",
       "<table border=\"1\" class=\"dataframe\">\n",
       "  <thead>\n",
       "    <tr style=\"text-align: right;\">\n",
       "      <th>Gender</th>\n",
       "      <th>F</th>\n",
       "      <th>M</th>\n",
       "    </tr>\n",
       "    <tr>\n",
       "      <th>Gold</th>\n",
       "      <th></th>\n",
       "      <th></th>\n",
       "    </tr>\n",
       "  </thead>\n",
       "  <tbody>\n",
       "    <tr>\n",
       "      <th>0</th>\n",
       "      <td>52.53</td>\n",
       "      <td>46.32</td>\n",
       "    </tr>\n",
       "    <tr>\n",
       "      <th>1</th>\n",
       "      <td>0.38</td>\n",
       "      <td>0.77</td>\n",
       "    </tr>\n",
       "  </tbody>\n",
       "</table>\n",
       "</div>"
      ],
      "text/plain": [
       "Gender      F      M\n",
       "Gold                \n",
       "0       52.53  46.32\n",
       "1        0.38   0.77"
      ]
     },
     "metadata": {},
     "output_type": "display_data"
    },
    {
     "name": "stdout",
     "output_type": "stream",
     "text": [
      "pval = 0.0\n"
     ]
    },
    {
     "data": {
      "text/html": [
       "<div>\n",
       "<style scoped>\n",
       "    .dataframe tbody tr th:only-of-type {\n",
       "        vertical-align: middle;\n",
       "    }\n",
       "\n",
       "    .dataframe tbody tr th {\n",
       "        vertical-align: top;\n",
       "    }\n",
       "\n",
       "    .dataframe thead th {\n",
       "        text-align: right;\n",
       "    }\n",
       "</style>\n",
       "<table border=\"1\" class=\"dataframe\">\n",
       "  <thead>\n",
       "    <tr style=\"text-align: right;\">\n",
       "      <th>Gender</th>\n",
       "      <th>F</th>\n",
       "      <th>M</th>\n",
       "    </tr>\n",
       "    <tr>\n",
       "      <th>Platinum</th>\n",
       "      <th></th>\n",
       "      <th></th>\n",
       "    </tr>\n",
       "  </thead>\n",
       "  <tbody>\n",
       "    <tr>\n",
       "      <th>0</th>\n",
       "      <td>52.82</td>\n",
       "      <td>46.98</td>\n",
       "    </tr>\n",
       "    <tr>\n",
       "      <th>1</th>\n",
       "      <td>0.09</td>\n",
       "      <td>0.11</td>\n",
       "    </tr>\n",
       "  </tbody>\n",
       "</table>\n",
       "</div>"
      ],
      "text/plain": [
       "Gender        F      M\n",
       "Platinum              \n",
       "0         52.82  46.98\n",
       "1          0.09   0.11"
      ]
     },
     "metadata": {},
     "output_type": "display_data"
    },
    {
     "name": "stdout",
     "output_type": "stream",
     "text": [
      "pval = 0.6277\n"
     ]
    },
    {
     "data": {
      "text/html": [
       "<div>\n",
       "<style scoped>\n",
       "    .dataframe tbody tr th:only-of-type {\n",
       "        vertical-align: middle;\n",
       "    }\n",
       "\n",
       "    .dataframe tbody tr th {\n",
       "        vertical-align: top;\n",
       "    }\n",
       "\n",
       "    .dataframe thead th {\n",
       "        text-align: right;\n",
       "    }\n",
       "</style>\n",
       "<table border=\"1\" class=\"dataframe\">\n",
       "  <thead>\n",
       "    <tr style=\"text-align: right;\">\n",
       "      <th>Gender</th>\n",
       "      <th>F</th>\n",
       "      <th>M</th>\n",
       "    </tr>\n",
       "    <tr>\n",
       "      <th>Silver</th>\n",
       "      <th></th>\n",
       "      <th></th>\n",
       "    </tr>\n",
       "  </thead>\n",
       "  <tbody>\n",
       "    <tr>\n",
       "      <th>0</th>\n",
       "      <td>50.83</td>\n",
       "      <td>43.69</td>\n",
       "    </tr>\n",
       "    <tr>\n",
       "      <th>1</th>\n",
       "      <td>2.07</td>\n",
       "      <td>3.41</td>\n",
       "    </tr>\n",
       "  </tbody>\n",
       "</table>\n",
       "</div>"
      ],
      "text/plain": [
       "Gender      F      M\n",
       "Silver              \n",
       "0       50.83  43.69\n",
       "1        2.07   3.41"
      ]
     },
     "metadata": {},
     "output_type": "display_data"
    },
    {
     "name": "stdout",
     "output_type": "stream",
     "text": [
      "pval = 0.0\n"
     ]
    }
   ],
   "source": [
    "dummies = pd.get_dummies(data.Card)\n",
    "for dum in dummies:\n",
    "    dfa = pd.crosstab(dummies[f'{dum}'], data.Gender)\n",
    "    x2, p, dof, exp = stat.chi2_contingency(dfa)\n",
    "    dfb = pd.crosstab(dummies[f'{dum}'], data.Gender, normalize=True)\n",
    "    display((dfb*100).round(2))\n",
    "    print(f'pval = {p.round(4)}')"
   ]
  },
  {
   "cell_type": "markdown",
   "metadata": {},
   "source": [
    "Result:  At p < 0.01, the null hypothesis was rejected.  Further dissection of the data revealed significant differences in the distribution of genders among the different card types.\n",
    "\n",
    "Interpretation: There is a significantly higher proportion of female Blue card holders compared to males.  There are more male Silver- and Gold- cardholders.  The gender proportion is equal among Platinum-card holders."
   ]
  },
  {
   "cell_type": "code",
   "execution_count": null,
   "metadata": {},
   "outputs": [],
   "source": []
  },
  {
   "cell_type": "markdown",
   "metadata": {},
   "source": [
    "#### Hypothesis B.2.c.  The card type is independent of the customers' educational attainment"
   ]
  },
  {
   "cell_type": "code",
   "execution_count": 336,
   "metadata": {},
   "outputs": [
    {
     "name": "stdout",
     "output_type": "stream",
     "text": [
      "Percentage Distribution between Education level and Card type\n"
     ]
    },
    {
     "data": {
      "text/html": [
       "<div>\n",
       "<style scoped>\n",
       "    .dataframe tbody tr th:only-of-type {\n",
       "        vertical-align: middle;\n",
       "    }\n",
       "\n",
       "    .dataframe tbody tr th {\n",
       "        vertical-align: top;\n",
       "    }\n",
       "\n",
       "    .dataframe thead th {\n",
       "        text-align: right;\n",
       "    }\n",
       "</style>\n",
       "<table border=\"1\" class=\"dataframe\">\n",
       "  <thead>\n",
       "    <tr style=\"text-align: right;\">\n",
       "      <th>Card</th>\n",
       "      <th>Blue</th>\n",
       "      <th>Silver</th>\n",
       "      <th>Gold</th>\n",
       "      <th>Platinum</th>\n",
       "    </tr>\n",
       "    <tr>\n",
       "      <th>Education</th>\n",
       "      <th></th>\n",
       "      <th></th>\n",
       "      <th></th>\n",
       "      <th></th>\n",
       "    </tr>\n",
       "  </thead>\n",
       "  <tbody>\n",
       "    <tr>\n",
       "      <th>Uneducated</th>\n",
       "      <td>13.74</td>\n",
       "      <td>0.81</td>\n",
       "      <td>0.11</td>\n",
       "      <td>0.03</td>\n",
       "    </tr>\n",
       "    <tr>\n",
       "      <th>High School</th>\n",
       "      <td>18.64</td>\n",
       "      <td>0.97</td>\n",
       "      <td>0.26</td>\n",
       "      <td>0.01</td>\n",
       "    </tr>\n",
       "    <tr>\n",
       "      <th>College</th>\n",
       "      <td>9.28</td>\n",
       "      <td>0.57</td>\n",
       "      <td>0.15</td>\n",
       "      <td>0.00</td>\n",
       "    </tr>\n",
       "    <tr>\n",
       "      <th>Graduate</th>\n",
       "      <td>42.65</td>\n",
       "      <td>2.60</td>\n",
       "      <td>0.53</td>\n",
       "      <td>0.11</td>\n",
       "    </tr>\n",
       "    <tr>\n",
       "      <th>Post-Graduate</th>\n",
       "      <td>8.87</td>\n",
       "      <td>0.53</td>\n",
       "      <td>0.10</td>\n",
       "      <td>0.05</td>\n",
       "    </tr>\n",
       "  </tbody>\n",
       "</table>\n",
       "</div>"
      ],
      "text/plain": [
       "Card            Blue  Silver  Gold  Platinum\n",
       "Education                                   \n",
       "Uneducated     13.74    0.81  0.11      0.03\n",
       "High School    18.64    0.97  0.26      0.01\n",
       "College         9.28    0.57  0.15      0.00\n",
       "Graduate       42.65    2.60  0.53      0.11\n",
       "Post-Graduate   8.87    0.53  0.10      0.05"
      ]
     },
     "metadata": {},
     "output_type": "display_data"
    },
    {
     "name": "stdout",
     "output_type": "stream",
     "text": [
      "chi2_contingency pval =  0.2333\n",
      "chisquare axis 0 pval =  [0.     0.     0.0008 0.    ]\n",
      "chisquare axis 1 pval =  [0. 0. 0. 0. 0.]\n"
     ]
    }
   ],
   "source": [
    "# assumption: normal distribution\n",
    "df= pd.crosstab(data.Education, data.Card)\n",
    "#display(df)\n",
    "x2, p, dof, exp = stat.chi2_contingency(df)\n",
    "# getting normalized values\n",
    "df1= pd.crosstab(data.Education, data.Card, normalize=True, margins=True)\n",
    "df1 = df1.reindex(['Uneducated','High School','College','Graduate','Post-Graduate'])\n",
    "df1 = df1.reindex(columns = ['Blue','Silver','Gold','Platinum'])\n",
    "print('Percentage Distribution between Education level and Card type')\n",
    "display((df1*100).round(2))\n",
    "\n",
    "print('chi2_contingency pval = ', p.round(4))\n",
    "st, p = chisquare(df, axis = 0)\n",
    "print('chisquare axis 0 pval = ', p.round(4))\n",
    "st, p = chisquare(df, axis = 1)\n",
    "print('chisquare axis 1 pval = ', p.round(4))\n",
    "\n",
    "# chisquare applied prior to normalization"
   ]
  },
  {
   "cell_type": "markdown",
   "metadata": {},
   "source": [
    "Result:  At p > 0.05, there is failure to reject the null hypothesis.\n",
    "\n",
    "Interpretation:  Card type is independent of educational attainment."
   ]
  },
  {
   "cell_type": "code",
   "execution_count": null,
   "metadata": {},
   "outputs": [],
   "source": []
  },
  {
   "cell_type": "markdown",
   "metadata": {},
   "source": [
    "#### Hypothesis B.2.d.  The card type is independent of the customers' marital status"
   ]
  },
  {
   "cell_type": "code",
   "execution_count": 337,
   "metadata": {},
   "outputs": [
    {
     "name": "stdout",
     "output_type": "stream",
     "text": [
      "Percentage Distribution between Marital status and Card type\n"
     ]
    },
    {
     "data": {
      "text/html": [
       "<div>\n",
       "<style scoped>\n",
       "    .dataframe tbody tr th:only-of-type {\n",
       "        vertical-align: middle;\n",
       "    }\n",
       "\n",
       "    .dataframe tbody tr th {\n",
       "        vertical-align: top;\n",
       "    }\n",
       "\n",
       "    .dataframe thead th {\n",
       "        text-align: right;\n",
       "    }\n",
       "</style>\n",
       "<table border=\"1\" class=\"dataframe\">\n",
       "  <thead>\n",
       "    <tr style=\"text-align: right;\">\n",
       "      <th>Card</th>\n",
       "      <th>Blue</th>\n",
       "      <th>Silver</th>\n",
       "      <th>Gold</th>\n",
       "      <th>Platinum</th>\n",
       "    </tr>\n",
       "    <tr>\n",
       "      <th>Marital</th>\n",
       "      <th></th>\n",
       "      <th></th>\n",
       "      <th></th>\n",
       "      <th></th>\n",
       "    </tr>\n",
       "  </thead>\n",
       "  <tbody>\n",
       "    <tr>\n",
       "      <th>Single</th>\n",
       "      <td>35.79</td>\n",
       "      <td>2.48</td>\n",
       "      <td>0.57</td>\n",
       "      <td>0.10</td>\n",
       "    </tr>\n",
       "    <tr>\n",
       "      <th>Married</th>\n",
       "      <td>50.52</td>\n",
       "      <td>2.55</td>\n",
       "      <td>0.52</td>\n",
       "      <td>0.09</td>\n",
       "    </tr>\n",
       "    <tr>\n",
       "      <th>Divorced</th>\n",
       "      <td>6.87</td>\n",
       "      <td>0.45</td>\n",
       "      <td>0.05</td>\n",
       "      <td>0.01</td>\n",
       "    </tr>\n",
       "  </tbody>\n",
       "</table>\n",
       "</div>"
      ],
      "text/plain": [
       "Card       Blue  Silver  Gold  Platinum\n",
       "Marital                                \n",
       "Single    35.79    2.48  0.57      0.10\n",
       "Married   50.52    2.55  0.52      0.09\n",
       "Divorced   6.87    0.45  0.05      0.01"
      ]
     },
     "metadata": {},
     "output_type": "display_data"
    },
    {
     "name": "stdout",
     "output_type": "stream",
     "text": [
      "chi2_contingency pval =  0.0024\n"
     ]
    },
    {
     "data": {
      "image/png": "[encoded data removed]",
      "text/plain": [
       "<Figure size 432x288 with 4 Axes>"
      ]
     },
     "metadata": {
      "needs_background": "light"
     },
     "output_type": "display_data"
    }
   ],
   "source": [
    "# assumption: normal distribution\n",
    "df= pd.crosstab(data.Marital, data.Card)\n",
    "#display(df)\n",
    "x2, p, dof, exp = stat.chi2_contingency(df)\n",
    "# getting normalized values\n",
    "df1= pd.crosstab(data.Marital, data.Card, normalize=True, margins=True)\n",
    "df1 = df1.reindex(['Single','Married','Divorced'])\n",
    "df1 = df1.reindex(columns = ['Blue','Silver','Gold','Platinum'])\n",
    "print('Percentage Distribution between Marital status and Card type')\n",
    "display((df1*100).round(2))\n",
    "\n",
    "print('chi2_contingency pval = ', p.round(4))\n",
    "\n",
    "df1.plot(kind='bar', subplots=True, colormap = 'Spectral',\n",
    "         legend=None, rot=0)\n",
    "plt.subplots_adjust(hspace = 0.5);\n",
    "\n",
    "# chisquare applied prior to normalization"
   ]
  },
  {
   "cell_type": "code",
   "execution_count": 338,
   "metadata": {},
   "outputs": [
    {
     "data": {
      "text/html": [
       "<div>\n",
       "<style scoped>\n",
       "    .dataframe tbody tr th:only-of-type {\n",
       "        vertical-align: middle;\n",
       "    }\n",
       "\n",
       "    .dataframe tbody tr th {\n",
       "        vertical-align: top;\n",
       "    }\n",
       "\n",
       "    .dataframe thead th {\n",
       "        text-align: right;\n",
       "    }\n",
       "</style>\n",
       "<table border=\"1\" class=\"dataframe\">\n",
       "  <thead>\n",
       "    <tr style=\"text-align: right;\">\n",
       "      <th>Card</th>\n",
       "      <th>Blue</th>\n",
       "      <th>Gold</th>\n",
       "      <th>Platinum</th>\n",
       "      <th>Silver</th>\n",
       "    </tr>\n",
       "    <tr>\n",
       "      <th>Divorced</th>\n",
       "      <th></th>\n",
       "      <th></th>\n",
       "      <th></th>\n",
       "      <th></th>\n",
       "    </tr>\n",
       "  </thead>\n",
       "  <tbody>\n",
       "    <tr>\n",
       "      <th>0</th>\n",
       "      <td>8740</td>\n",
       "      <td>111</td>\n",
       "      <td>19</td>\n",
       "      <td>509</td>\n",
       "    </tr>\n",
       "    <tr>\n",
       "      <th>1</th>\n",
       "      <td>696</td>\n",
       "      <td>5</td>\n",
       "      <td>1</td>\n",
       "      <td>46</td>\n",
       "    </tr>\n",
       "  </tbody>\n",
       "</table>\n",
       "</div>"
      ],
      "text/plain": [
       "Card      Blue  Gold  Platinum  Silver\n",
       "Divorced                              \n",
       "0         8740   111        19     509\n",
       "1          696     5         1      46"
      ]
     },
     "metadata": {},
     "output_type": "display_data"
    },
    {
     "name": "stdout",
     "output_type": "stream",
     "text": [
      "pval = 0.4876\n"
     ]
    },
    {
     "data": {
      "text/html": [
       "<div>\n",
       "<style scoped>\n",
       "    .dataframe tbody tr th:only-of-type {\n",
       "        vertical-align: middle;\n",
       "    }\n",
       "\n",
       "    .dataframe tbody tr th {\n",
       "        vertical-align: top;\n",
       "    }\n",
       "\n",
       "    .dataframe thead th {\n",
       "        text-align: right;\n",
       "    }\n",
       "</style>\n",
       "<table border=\"1\" class=\"dataframe\">\n",
       "  <thead>\n",
       "    <tr style=\"text-align: right;\">\n",
       "      <th>Card</th>\n",
       "      <th>Blue</th>\n",
       "      <th>Gold</th>\n",
       "      <th>Platinum</th>\n",
       "      <th>Silver</th>\n",
       "    </tr>\n",
       "    <tr>\n",
       "      <th>Married</th>\n",
       "      <th></th>\n",
       "      <th></th>\n",
       "      <th></th>\n",
       "      <th></th>\n",
       "    </tr>\n",
       "  </thead>\n",
       "  <tbody>\n",
       "    <tr>\n",
       "      <th>0</th>\n",
       "      <td>4320</td>\n",
       "      <td>63</td>\n",
       "      <td>11</td>\n",
       "      <td>297</td>\n",
       "    </tr>\n",
       "    <tr>\n",
       "      <th>1</th>\n",
       "      <td>5116</td>\n",
       "      <td>53</td>\n",
       "      <td>9</td>\n",
       "      <td>258</td>\n",
       "    </tr>\n",
       "  </tbody>\n",
       "</table>\n",
       "</div>"
      ],
      "text/plain": [
       "Card     Blue  Gold  Platinum  Silver\n",
       "Married                              \n",
       "0        4320    63        11     297\n",
       "1        5116    53         9     258"
      ]
     },
     "metadata": {},
     "output_type": "display_data"
    },
    {
     "name": "stdout",
     "output_type": "stream",
     "text": [
      "pval = 0.001\n",
      "Expected values:\n"
     ]
    },
    {
     "data": {
      "text/plain": [
       "array([[4370.91695468,   53.73318851,    9.26434285,  257.08551397],\n",
       "       [5065.08304532,   62.26681149,   10.73565715,  297.91448603]])"
      ]
     },
     "metadata": {},
     "output_type": "display_data"
    },
    {
     "data": {
      "text/html": [
       "<div>\n",
       "<style scoped>\n",
       "    .dataframe tbody tr th:only-of-type {\n",
       "        vertical-align: middle;\n",
       "    }\n",
       "\n",
       "    .dataframe tbody tr th {\n",
       "        vertical-align: top;\n",
       "    }\n",
       "\n",
       "    .dataframe thead th {\n",
       "        text-align: right;\n",
       "    }\n",
       "</style>\n",
       "<table border=\"1\" class=\"dataframe\">\n",
       "  <thead>\n",
       "    <tr style=\"text-align: right;\">\n",
       "      <th>Card</th>\n",
       "      <th>Blue</th>\n",
       "      <th>Gold</th>\n",
       "      <th>Platinum</th>\n",
       "      <th>Silver</th>\n",
       "    </tr>\n",
       "    <tr>\n",
       "      <th>Single</th>\n",
       "      <th></th>\n",
       "      <th></th>\n",
       "      <th></th>\n",
       "      <th></th>\n",
       "    </tr>\n",
       "  </thead>\n",
       "  <tbody>\n",
       "    <tr>\n",
       "      <th>0</th>\n",
       "      <td>5812</td>\n",
       "      <td>58</td>\n",
       "      <td>10</td>\n",
       "      <td>304</td>\n",
       "    </tr>\n",
       "    <tr>\n",
       "      <th>1</th>\n",
       "      <td>3624</td>\n",
       "      <td>58</td>\n",
       "      <td>10</td>\n",
       "      <td>251</td>\n",
       "    </tr>\n",
       "  </tbody>\n",
       "</table>\n",
       "</div>"
      ],
      "text/plain": [
       "Card    Blue  Gold  Platinum  Silver\n",
       "Single                              \n",
       "0       5812    58        10     304\n",
       "1       3624    58        10     251"
      ]
     },
     "metadata": {},
     "output_type": "display_data"
    },
    {
     "name": "stdout",
     "output_type": "stream",
     "text": [
      "pval = 0.0006\n",
      "Expected values:\n"
     ]
    },
    {
     "data": {
      "text/plain": [
       "array([[5762.04443567,   70.83479806,   12.21289622,  338.90787005],\n",
       "       [3673.95556433,   45.16520194,    7.78710378,  216.09212995]])"
      ]
     },
     "metadata": {},
     "output_type": "display_data"
    }
   ],
   "source": [
    "dummies = pd.get_dummies(data.Marital)\n",
    "for dum in dummies:\n",
    "    dfa = pd.crosstab(dummies[f'{dum}'], data.Card)\n",
    "    x2, p, dof, exp = stat.chi2_contingency(dfa)\n",
    "    #dfb = pd.crosstab(dummies[f'{dum}'], data.Card, normalize=True)\n",
    "    display(dfa)\n",
    "    #display((dfb*100).round(2))\n",
    "    print(f'pval = {p.round(4)}')\n",
    "    if p< 0.05:\n",
    "        print('Expected values:')\n",
    "        display(exp)\n",
    "# chi square performed on frequencies"
   ]
  },
  {
   "cell_type": "markdown",
   "metadata": {},
   "source": [
    "Result:  At p < 0.01, the null hypothesis is rejected.  There are relationships between card types and marital status.\n",
    "\n",
    "Interpretation:  The Blue cards are predominantly used by all the kinds of marital statuses, but is especially associated with the married status.  The silver and gold cards are preferred by single customers."
   ]
  },
  {
   "cell_type": "code",
   "execution_count": null,
   "metadata": {},
   "outputs": [],
   "source": []
  },
  {
   "cell_type": "markdown",
   "metadata": {},
   "source": [
    "#### Hypothesis B.2.e.  The card type is independent of the customers' income level"
   ]
  },
  {
   "cell_type": "code",
   "execution_count": 339,
   "metadata": {},
   "outputs": [
    {
     "name": "stdout",
     "output_type": "stream",
     "text": [
      "Percentage Distribution between Income Level and Card type\n"
     ]
    },
    {
     "data": {
      "text/html": [
       "<div>\n",
       "<style scoped>\n",
       "    .dataframe tbody tr th:only-of-type {\n",
       "        vertical-align: middle;\n",
       "    }\n",
       "\n",
       "    .dataframe tbody tr th {\n",
       "        vertical-align: top;\n",
       "    }\n",
       "\n",
       "    .dataframe thead th {\n",
       "        text-align: right;\n",
       "    }\n",
       "</style>\n",
       "<table border=\"1\" class=\"dataframe\">\n",
       "  <thead>\n",
       "    <tr style=\"text-align: right;\">\n",
       "      <th>Card</th>\n",
       "      <th>Blue</th>\n",
       "      <th>Silver</th>\n",
       "      <th>Gold</th>\n",
       "      <th>Platinum</th>\n",
       "    </tr>\n",
       "    <tr>\n",
       "      <th>Income</th>\n",
       "      <th></th>\n",
       "      <th></th>\n",
       "      <th></th>\n",
       "      <th></th>\n",
       "    </tr>\n",
       "  </thead>\n",
       "  <tbody>\n",
       "    <tr>\n",
       "      <th>$40K</th>\n",
       "      <td>43.92</td>\n",
       "      <td>1.81</td>\n",
       "      <td>0.33</td>\n",
       "      <td>0.09</td>\n",
       "    </tr>\n",
       "    <tr>\n",
       "      <th>$50K</th>\n",
       "      <td>16.54</td>\n",
       "      <td>0.98</td>\n",
       "      <td>0.15</td>\n",
       "      <td>0.01</td>\n",
       "    </tr>\n",
       "    <tr>\n",
       "      <th>$70K</th>\n",
       "      <td>12.57</td>\n",
       "      <td>0.95</td>\n",
       "      <td>0.29</td>\n",
       "      <td>0.04</td>\n",
       "    </tr>\n",
       "    <tr>\n",
       "      <th>$100K</th>\n",
       "      <td>13.78</td>\n",
       "      <td>1.16</td>\n",
       "      <td>0.21</td>\n",
       "      <td>0.02</td>\n",
       "    </tr>\n",
       "    <tr>\n",
       "      <th>$120K</th>\n",
       "      <td>6.37</td>\n",
       "      <td>0.59</td>\n",
       "      <td>0.18</td>\n",
       "      <td>0.04</td>\n",
       "    </tr>\n",
       "  </tbody>\n",
       "</table>\n",
       "</div>"
      ],
      "text/plain": [
       "Card     Blue  Silver  Gold  Platinum\n",
       "Income                               \n",
       "$40K    43.92    1.81  0.33      0.09\n",
       "$50K    16.54    0.98  0.15      0.01\n",
       "$70K    12.57    0.95  0.29      0.04\n",
       "$100K   13.78    1.16  0.21      0.02\n",
       "$120K    6.37    0.59  0.18      0.04"
      ]
     },
     "metadata": {},
     "output_type": "display_data"
    },
    {
     "name": "stdout",
     "output_type": "stream",
     "text": [
      "chi2_contingency pval =  0.0\n"
     ]
    },
    {
     "data": {
      "image/png": "[encoded data removed]",
      "text/plain": [
       "<Figure size 432x288 with 4 Axes>"
      ]
     },
     "metadata": {
      "needs_background": "light"
     },
     "output_type": "display_data"
    }
   ],
   "source": [
    "# assumption: normal distribution\n",
    "df= pd.crosstab(data.Income, data.Card)\n",
    "#display(df)\n",
    "x2, p, dof, exp = stat.chi2_contingency(df)\n",
    "# getting normalized values\n",
    "df1= pd.crosstab(data.Income, data.Card, normalize=True, margins=True)\n",
    "df1 = df1.reindex(['$40K','$50K','$70K','$100K','$120K'])\n",
    "df1 = df1.reindex(columns = ['Blue','Silver','Gold','Platinum'])\n",
    "print('Percentage Distribution between Income Level and Card type')\n",
    "display((df1*100).round(2))\n",
    "\n",
    "print('chi2_contingency pval = ', p.round(4))\n",
    "\n",
    "df1.plot(kind='bar', subplots=True, colormap = 'Spectral',\n",
    "         legend=None, rot=0)\n",
    "plt.subplots_adjust(hspace = 0.5);\n",
    "\n",
    "# chisquare applied prior to normalization"
   ]
  },
  {
   "cell_type": "code",
   "execution_count": 340,
   "metadata": {},
   "outputs": [
    {
     "data": {
      "text/html": [
       "<div>\n",
       "<style scoped>\n",
       "    .dataframe tbody tr th:only-of-type {\n",
       "        vertical-align: middle;\n",
       "    }\n",
       "\n",
       "    .dataframe tbody tr th {\n",
       "        vertical-align: top;\n",
       "    }\n",
       "\n",
       "    .dataframe thead th {\n",
       "        text-align: right;\n",
       "    }\n",
       "</style>\n",
       "<table border=\"1\" class=\"dataframe\">\n",
       "  <thead>\n",
       "    <tr style=\"text-align: right;\">\n",
       "      <th>Income</th>\n",
       "      <th>$40K</th>\n",
       "      <th>$50K</th>\n",
       "      <th>$70K</th>\n",
       "      <th>$100K</th>\n",
       "      <th>$120K</th>\n",
       "    </tr>\n",
       "    <tr>\n",
       "      <th>Blue</th>\n",
       "      <th></th>\n",
       "      <th></th>\n",
       "      <th></th>\n",
       "      <th></th>\n",
       "      <th></th>\n",
       "    </tr>\n",
       "  </thead>\n",
       "  <tbody>\n",
       "    <tr>\n",
       "      <th>0</th>\n",
       "      <td>225</td>\n",
       "      <td>115</td>\n",
       "      <td>129</td>\n",
       "      <td>140</td>\n",
       "      <td>82</td>\n",
       "    </tr>\n",
       "    <tr>\n",
       "      <th>1</th>\n",
       "      <td>4448</td>\n",
       "      <td>1675</td>\n",
       "      <td>1273</td>\n",
       "      <td>1395</td>\n",
       "      <td>645</td>\n",
       "    </tr>\n",
       "  </tbody>\n",
       "</table>\n",
       "</div>"
      ],
      "text/plain": [
       "Income  $40K  $50K  $70K  $100K  $120K\n",
       "Blue                                  \n",
       "0        225   115   129    140     82\n",
       "1       4448  1675  1273   1395    645"
      ]
     },
     "metadata": {},
     "output_type": "display_data"
    },
    {
     "name": "stdout",
     "output_type": "stream",
     "text": [
      "pval = 0.0\n",
      "Expected values\n"
     ]
    },
    {
     "data": {
      "text/plain": [
       "array([[ 318.85484349,  122.13784931,   95.66327639,  104.73832329,\n",
       "          49.60570751],\n",
       "       [4354.14515651, 1667.86215069, 1306.33672361, 1430.26167671,\n",
       "         677.39429249]])"
      ]
     },
     "metadata": {},
     "output_type": "display_data"
    },
    {
     "data": {
      "text/html": [
       "<div>\n",
       "<style scoped>\n",
       "    .dataframe tbody tr th:only-of-type {\n",
       "        vertical-align: middle;\n",
       "    }\n",
       "\n",
       "    .dataframe tbody tr th {\n",
       "        vertical-align: top;\n",
       "    }\n",
       "\n",
       "    .dataframe thead th {\n",
       "        text-align: right;\n",
       "    }\n",
       "</style>\n",
       "<table border=\"1\" class=\"dataframe\">\n",
       "  <thead>\n",
       "    <tr style=\"text-align: right;\">\n",
       "      <th>Income</th>\n",
       "      <th>$40K</th>\n",
       "      <th>$50K</th>\n",
       "      <th>$70K</th>\n",
       "      <th>$100K</th>\n",
       "      <th>$120K</th>\n",
       "    </tr>\n",
       "    <tr>\n",
       "      <th>Gold</th>\n",
       "      <th></th>\n",
       "      <th></th>\n",
       "      <th></th>\n",
       "      <th></th>\n",
       "      <th></th>\n",
       "    </tr>\n",
       "  </thead>\n",
       "  <tbody>\n",
       "    <tr>\n",
       "      <th>0</th>\n",
       "      <td>4640</td>\n",
       "      <td>1775</td>\n",
       "      <td>1373</td>\n",
       "      <td>1514</td>\n",
       "      <td>709</td>\n",
       "    </tr>\n",
       "    <tr>\n",
       "      <th>1</th>\n",
       "      <td>33</td>\n",
       "      <td>15</td>\n",
       "      <td>29</td>\n",
       "      <td>21</td>\n",
       "      <td>18</td>\n",
       "    </tr>\n",
       "  </tbody>\n",
       "</table>\n",
       "</div>"
      ],
      "text/plain": [
       "Income  $40K  $50K  $70K  $100K  $120K\n",
       "Gold                                  \n",
       "0       4640  1775  1373   1514    709\n",
       "1         33    15    29     21     18"
      ]
     },
     "metadata": {},
     "output_type": "display_data"
    },
    {
     "name": "stdout",
     "output_type": "stream",
     "text": [
      "pval = 0.0\n",
      "Expected values\n"
     ]
    },
    {
     "data": {
      "text/plain": [
       "array([[4619.47299299, 1769.49639577, 1385.94075244, 1517.41730029,\n",
       "         718.67255851],\n",
       "       [  53.52700701,   20.50360423,   16.05924756,   17.58269971,\n",
       "           8.32744149]])"
      ]
     },
     "metadata": {},
     "output_type": "display_data"
    },
    {
     "data": {
      "text/html": [
       "<div>\n",
       "<style scoped>\n",
       "    .dataframe tbody tr th:only-of-type {\n",
       "        vertical-align: middle;\n",
       "    }\n",
       "\n",
       "    .dataframe tbody tr th {\n",
       "        vertical-align: top;\n",
       "    }\n",
       "\n",
       "    .dataframe thead th {\n",
       "        text-align: right;\n",
       "    }\n",
       "</style>\n",
       "<table border=\"1\" class=\"dataframe\">\n",
       "  <thead>\n",
       "    <tr style=\"text-align: right;\">\n",
       "      <th>Income</th>\n",
       "      <th>$40K</th>\n",
       "      <th>$50K</th>\n",
       "      <th>$70K</th>\n",
       "      <th>$100K</th>\n",
       "      <th>$120K</th>\n",
       "    </tr>\n",
       "    <tr>\n",
       "      <th>Platinum</th>\n",
       "      <th></th>\n",
       "      <th></th>\n",
       "      <th></th>\n",
       "      <th></th>\n",
       "      <th></th>\n",
       "    </tr>\n",
       "  </thead>\n",
       "  <tbody>\n",
       "    <tr>\n",
       "      <th>0</th>\n",
       "      <td>4664</td>\n",
       "      <td>1789</td>\n",
       "      <td>1398</td>\n",
       "      <td>1533</td>\n",
       "      <td>723</td>\n",
       "    </tr>\n",
       "    <tr>\n",
       "      <th>1</th>\n",
       "      <td>9</td>\n",
       "      <td>1</td>\n",
       "      <td>4</td>\n",
       "      <td>2</td>\n",
       "      <td>4</td>\n",
       "    </tr>\n",
       "  </tbody>\n",
       "</table>\n",
       "</div>"
      ],
      "text/plain": [
       "Income    $40K  $50K  $70K  $100K  $120K\n",
       "Platinum                                \n",
       "0         4664  1789  1398   1533    723\n",
       "1            9     1     4      2      4"
      ]
     },
     "metadata": {},
     "output_type": "display_data"
    },
    {
     "name": "stdout",
     "output_type": "stream",
     "text": [
      "pval = 0.1201\n"
     ]
    },
    {
     "data": {
      "text/html": [
       "<div>\n",
       "<style scoped>\n",
       "    .dataframe tbody tr th:only-of-type {\n",
       "        vertical-align: middle;\n",
       "    }\n",
       "\n",
       "    .dataframe tbody tr th {\n",
       "        vertical-align: top;\n",
       "    }\n",
       "\n",
       "    .dataframe thead th {\n",
       "        text-align: right;\n",
       "    }\n",
       "</style>\n",
       "<table border=\"1\" class=\"dataframe\">\n",
       "  <thead>\n",
       "    <tr style=\"text-align: right;\">\n",
       "      <th>Income</th>\n",
       "      <th>$40K</th>\n",
       "      <th>$50K</th>\n",
       "      <th>$70K</th>\n",
       "      <th>$100K</th>\n",
       "      <th>$120K</th>\n",
       "    </tr>\n",
       "    <tr>\n",
       "      <th>Silver</th>\n",
       "      <th></th>\n",
       "      <th></th>\n",
       "      <th></th>\n",
       "      <th></th>\n",
       "      <th></th>\n",
       "    </tr>\n",
       "  </thead>\n",
       "  <tbody>\n",
       "    <tr>\n",
       "      <th>0</th>\n",
       "      <td>4490</td>\n",
       "      <td>1691</td>\n",
       "      <td>1306</td>\n",
       "      <td>1418</td>\n",
       "      <td>667</td>\n",
       "    </tr>\n",
       "    <tr>\n",
       "      <th>1</th>\n",
       "      <td>183</td>\n",
       "      <td>99</td>\n",
       "      <td>96</td>\n",
       "      <td>117</td>\n",
       "      <td>60</td>\n",
       "    </tr>\n",
       "  </tbody>\n",
       "</table>\n",
       "</div>"
      ],
      "text/plain": [
       "Income  $40K  $50K  $70K  $100K  $120K\n",
       "Silver                                \n",
       "0       4490  1691  1306   1418    667\n",
       "1        183    99    96    117     60"
      ]
     },
     "metadata": {},
     "output_type": "display_data"
    },
    {
     "name": "stdout",
     "output_type": "stream",
     "text": [
      "pval = 0.0\n",
      "Expected values\n"
     ]
    },
    {
     "data": {
      "text/plain": [
       "array([[4416.90095784, 1691.90085909, 1325.16480695, 1450.87587637,\n",
       "         687.15749975],\n",
       "       [ 256.09904216,   98.09914091,   76.83519305,   84.12412363,\n",
       "          39.84250025]])"
      ]
     },
     "metadata": {},
     "output_type": "display_data"
    }
   ],
   "source": [
    "dummies = pd.get_dummies(data.Card)\n",
    "for dum in dummies:\n",
    "    dfa = pd.crosstab(dummies[f'{dum}'], data.Income)\n",
    "    dfa = dfa.reindex(columns=['$40K','$50K','$70K','$100K','$120K'])\n",
    "\n",
    "    x2, p, dof, exp = stat.chi2_contingency(dfa)\n",
    "    #dfb = pd.crosstab(dummies[f'{dum}'], data.Income, normalize=True)\n",
    "    display(dfa)\n",
    "    #display((dfb*100).round(2))\n",
    "    print(f'pval = {p.round(4)}')\n",
    "    if p<0.05:\n",
    "        print('Expected values')\n",
    "        display(exp)"
   ]
  },
  {
   "cell_type": "markdown",
   "metadata": {},
   "source": [
    "Results:  At p < 0.01, there are associations between card type and income level.\n",
    "\n",
    "Interpretation:  A significant number of customers use the Blue card more than the other types of cards, especially those of the lower-income level.  Silver and gold cards are preferred by those earning $70K and above."
   ]
  },
  {
   "cell_type": "code",
   "execution_count": null,
   "metadata": {},
   "outputs": [],
   "source": []
  },
  {
   "cell_type": "markdown",
   "metadata": {},
   "source": [
    "#### Hypothesis C.1  There is no difference in the amount and number of transactions between genders"
   ]
  },
  {
   "cell_type": "code",
   "execution_count": 341,
   "metadata": {},
   "outputs": [
    {
     "name": "stdout",
     "output_type": "stream",
     "text": [
      "Mean Tr amt fem 4324.0\n",
      "Mean Tr amt male 4494.0\n",
      "p value =  0.0123\n"
     ]
    },
    {
     "data": {
      "image/png": "[encoded data removed]",
      "text/plain": [
       "<Figure size 432x288 with 2 Axes>"
      ]
     },
     "metadata": {
      "needs_background": "light"
     },
     "output_type": "display_data"
    }
   ],
   "source": [
    "# using 2-sample t-test\n",
    "fem_amount = data [ data['Gender'] == 'F'] ['Transaction_amt']\n",
    "male_amount = data [ data['Gender'] == 'M'] ['Transaction_amt']\n",
    "st, p = stat.ttest_ind(fem_amount, male_amount)\n",
    "print('Mean Tr amt fem', round(fem_amount.mean(), 0))\n",
    "print('Mean Tr amt male', round(male_amount.mean(),0))\n",
    "print('p value = ', p.round(4))\n",
    "\n",
    "plt.subplot(211)\n",
    "plt.hist(fem_amount, label = 'Female Customers')\n",
    "plt.ylabel('Frequency');\n",
    "plt.legend()\n",
    "plt.xlim(0, 19200)\n",
    "\n",
    "plt.subplot(212)\n",
    "plt.hist(male_amount, label = 'Male Customers')\n",
    "plt.ylim(0,2500)   \n",
    "plt.legend()\n",
    "plt.xlabel('Transaction amount ($)')\n",
    "plt.suptitle('Distribution of Transaction amounts between Genders');"
   ]
  },
  {
   "cell_type": "code",
   "execution_count": 342,
   "metadata": {},
   "outputs": [
    {
     "name": "stdout",
     "output_type": "stream",
     "text": [
      "Mean Tr ct fem 66.0\n",
      "Mean Tr ct male 63.0\n",
      "p value =  0.0\n"
     ]
    },
    {
     "data": {
      "image/png": "[encoded data removed]",
      "text/plain": [
       "<Figure size 432x288 with 2 Axes>"
      ]
     },
     "metadata": {
      "needs_background": "light"
     },
     "output_type": "display_data"
    }
   ],
   "source": [
    "# using 2-sample t-test\n",
    "fem_ct = data [ data['Gender'] == 'F'] ['Transaction_ct']\n",
    "male_ct = data [ data['Gender'] == 'M'] ['Transaction_ct']\n",
    "st, p = stat.ttest_ind(fem_ct, male_ct)\n",
    "print('Mean Tr ct fem', round(fem_ct.mean(), 0))\n",
    "print('Mean Tr ct male', round(male_ct.mean(),0))\n",
    "print('p value = ', p.round(4))\n",
    "\n",
    "plt.subplot(211)\n",
    "plt.hist(fem_ct, label = 'Female Customers')\n",
    "plt.ylabel('Frequency');\n",
    "plt.legend()\n",
    "plt.xlim(0, 150)\n",
    "\n",
    "plt.subplot(212)\n",
    "plt.hist(male_ct, label = 'Male Customers')\n",
    "plt.ylim(0,1500)   \n",
    "plt.legend()\n",
    "plt.xlabel('Transaction count')\n",
    "plt.suptitle('Distribution of Transaction counts between Genders');"
   ]
  },
  {
   "cell_type": "code",
   "execution_count": 343,
   "metadata": {},
   "outputs": [
    {
     "data": {
      "image/png": "[encoded data removed]",
      "text/plain": [
       "<Figure size 432x288 with 1 Axes>"
      ]
     },
     "metadata": {
      "needs_background": "light"
     },
     "output_type": "display_data"
    }
   ],
   "source": [
    "sns.scatterplot(x = data.Transaction_amt, y = data.Transaction_ct,hue=data.Gender);"
   ]
  },
  {
   "cell_type": "markdown",
   "metadata": {},
   "source": [
    "Result: At a p < 0.05, the null hypothesis is rejected.  There is a difference in transaction amounts and transaction counts between genders.\n",
    "\n",
    "Interpretation:  Female customers make more frequent transactions.  Male customers make more expensive transactions."
   ]
  },
  {
   "cell_type": "code",
   "execution_count": null,
   "metadata": {},
   "outputs": [],
   "source": []
  },
  {
   "cell_type": "markdown",
   "metadata": {},
   "source": [
    "#### Hypothesis C.2.   There is no difference in the number of transsactions between different card types"
   ]
  },
  {
   "cell_type": "code",
   "execution_count": 344,
   "metadata": {},
   "outputs": [],
   "source": [
    "# ANOVA conditions:\n",
    "# 1.  observations are mostly independent\n",
    "# 2.  data distribution is nearly normal\n",
    "# 3.  variability across groups is comparable"
   ]
  },
  {
   "cell_type": "code",
   "execution_count": 345,
   "metadata": {},
   "outputs": [
    {
     "name": "stdout",
     "output_type": "stream",
     "text": [
      "p value =  0.0\n"
     ]
    },
    {
     "data": {
      "text/plain": [
       "''"
      ]
     },
     "execution_count": 345,
     "metadata": {},
     "output_type": "execute_result"
    },
    {
     "data": {
      "image/png": "[encoded data removed]",
      "text/plain": [
       "<Figure size 432x288 with 4 Axes>"
      ]
     },
     "metadata": {
      "needs_background": "light"
     },
     "output_type": "display_data"
    }
   ],
   "source": [
    "# using ANOVA / f one way\n",
    "t_ct = data.Transaction_ct\n",
    "card = data.Card\n",
    "blue= t_ct [ card == 'Blue']\n",
    "silver =t_ct [ card == 'Silver']\n",
    "gold= t_ct [ card == 'Gold']\n",
    "platinum= t_ct [ card == 'Platinum']\n",
    "\n",
    "st,p = stat.f_oneway(blue, silver, gold, platinum)\n",
    "print('p value = ', p.round(4))\n",
    "\n",
    "plt.subplot(411)\n",
    "plt.hist(blue, label = 'Blue')\n",
    "plt.ylabel('Frequency');\n",
    "plt.legend()\n",
    "plt.xlim(0,150);\n",
    "\n",
    "plt.subplot(412)\n",
    "plt.hist(silver, label = 'Silver')\n",
    "plt.legend()\n",
    "plt.xlim(0,150);\n",
    "\n",
    "plt.subplot(413)\n",
    "plt.hist(gold, label = 'Gold')\n",
    "plt.legend()\n",
    "plt.xlim(0,150);\n",
    "\n",
    "plt.subplot(414)\n",
    "plt.hist(platinum, label = 'Platinum')\n",
    "plt.legend()\n",
    "plt.xlabel('Transaction counts')\n",
    "plt.xlim(0,150)\n",
    "\n",
    "plt.suptitle('Distribution of transaction counts among different Card types')\n",
    "plt.subplots_adjust(hspace = 0.5)\n",
    "## ylim not adjusted\n",
    ";"
   ]
  },
  {
   "cell_type": "code",
   "execution_count": 346,
   "metadata": {},
   "outputs": [
    {
     "data": {
      "text/html": [
       "<table class=\"simpletable\">\n",
       "<caption>Test Multiple Comparison ttest_ind \n",
       "FWER=0.05 method=bonf\n",
       "alphacSidak=0.01, alphacBonf=0.008</caption>\n",
       "<tr>\n",
       "   <th>group1</th>   <th>group2</th>    <th>stat</th>    <th>pval</th>  <th>pval_corr</th> <th>reject</th>\n",
       "</tr>\n",
       "<tr>\n",
       "    <td>Blue</td>     <td>Gold</td>    <td>-8.1372</td>   <td>0.0</td>     <td>0.0</td>     <td>True</td> \n",
       "</tr>\n",
       "<tr>\n",
       "    <td>Blue</td>   <td>Platinum</td>  <td>-4.4577</td>   <td>0.0</td>   <td>0.0001</td>    <td>True</td> \n",
       "</tr>\n",
       "<tr>\n",
       "    <td>Blue</td>    <td>Silver</td>  <td>-10.5299</td>   <td>0.0</td>     <td>0.0</td>     <td>True</td> \n",
       "</tr>\n",
       "<tr>\n",
       "    <td>Gold</td>   <td>Platinum</td>  <td>-0.8303</td> <td>0.4078</td>    <td>1.0</td>     <td>False</td>\n",
       "</tr>\n",
       "<tr>\n",
       "    <td>Gold</td>    <td>Silver</td>   <td>2.4722</td>  <td>0.0137</td>   <td>0.082</td>    <td>False</td>\n",
       "</tr>\n",
       "<tr>\n",
       "  <td>Platinum</td>  <td>Silver</td>   <td>1.9839</td>  <td>0.0477</td>  <td>0.2865</td>    <td>False</td>\n",
       "</tr>\n",
       "</table>"
      ],
      "text/plain": [
       "<class 'statsmodels.iolib.table.SimpleTable'>"
      ]
     },
     "execution_count": 346,
     "metadata": {},
     "output_type": "execute_result"
    }
   ],
   "source": [
    "comp = mc.MultiComparison(data['Transaction_ct'], data['Card'])\n",
    "table, arr1, arr2 = comp.allpairtest(stat.ttest_ind, method = 'bonf')\n",
    "table"
   ]
  },
  {
   "cell_type": "markdown",
   "metadata": {},
   "source": [
    "Results:  At p <0.01, the null hypothesis is rejected.  At least one of the card types have a different distribution for the transaction count.\n",
    "\n",
    "Interpretation:  Blue card holders make less frequent transactions compared to the other card types."
   ]
  },
  {
   "cell_type": "code",
   "execution_count": null,
   "metadata": {},
   "outputs": [],
   "source": []
  },
  {
   "cell_type": "markdown",
   "metadata": {},
   "source": [
    "#### Hypothesis C.3.  There is no relationship between credit limit and utilization ratio"
   ]
  },
  {
   "cell_type": "code",
   "execution_count": 347,
   "metadata": {},
   "outputs": [
    {
     "data": {
      "text/plain": [
       "Intercept    0.401351\n",
       "X           -0.000015\n",
       "dtype: float64"
      ]
     },
     "metadata": {},
     "output_type": "display_data"
    },
    {
     "data": {
      "image/png": "[encoded data removed]",
      "text/plain": [
       "<Figure size 432x288 with 1 Axes>"
      ]
     },
     "metadata": {
      "needs_background": "light"
     },
     "output_type": "display_data"
    }
   ],
   "source": [
    "X = data.Credit_Limit\n",
    "y = data.Util_ratio\n",
    "model = smf.ols('y ~ X', data).fit()\n",
    "intercept, slope = model.params\n",
    "display(model.params)\n",
    "\n",
    "util_pred = intercept + slope *X\n",
    "\n",
    "plt.plot(X, y, '.',\n",
    "        label = 'observed')\n",
    "plt.plot(X, util_pred, 'r-', label = 'regression line', linestyle = '--')\n",
    "plt.xlabel('Credit Limit ($)')\n",
    "plt.ylabel('Credit Utilization Ratio')\n",
    "plt.ylim(-0.05, 1.05)\n",
    "plt.legend();"
   ]
  },
  {
   "cell_type": "code",
   "execution_count": 348,
   "metadata": {},
   "outputs": [
    {
     "name": "stdout",
     "output_type": "stream",
     "text": [
      "x lambda:  -0.2874551354648639\n"
     ]
    }
   ],
   "source": [
    "# transforming x\n",
    "x_arr = np.array(data.Credit_Limit)\n",
    "x_box = stat.boxcox(x_arr)\n",
    "print('x lambda: ', x_box[1])\n",
    "x_transf = np.split(x_box[0],10127, axis=0)\n",
    "x_transf_ = pd.DataFrame(x_transf)\n",
    "## transforming y did not result in a better distribution"
   ]
  },
  {
   "cell_type": "code",
   "execution_count": 349,
   "metadata": {},
   "outputs": [
    {
     "data": {
      "text/plain": [
       "Intercept    6.269964\n",
       "x_transf    -1.888094\n",
       "dtype: float64"
      ]
     },
     "metadata": {},
     "output_type": "display_data"
    },
    {
     "data": {
      "image/png": "[encoded data removed]",
      "text/plain": [
       "<Figure size 432x288 with 1 Axes>"
      ]
     },
     "metadata": {
      "needs_background": "light"
     },
     "output_type": "display_data"
    }
   ],
   "source": [
    "# model using transformed x values\n",
    "y = data.Util_ratio\n",
    "model = smf.ols('y ~ x_transf', data).fit()\n",
    "intercept, slope = model.params\n",
    "display(model.params)\n",
    "\n",
    "util_pred = intercept + slope * x_transf_\n",
    "\n",
    "plt.plot(x_transf, y, '.',\n",
    "        label = 'observed')\n",
    "plt.plot(x_transf_, util_pred, 'r-', label = 'regression line', linestyle = '--')\n",
    "plt.xlabel('Credit Limit ($) (Transformed)')\n",
    "plt.ylabel('Credit Utilization Ratio')\n",
    "plt.ylim(-0.05, 1.05)\n",
    "plt.legend();\n",
    "## transforming y did not result in a better distribution"
   ]
  },
  {
   "cell_type": "code",
   "execution_count": 350,
   "metadata": {},
   "outputs": [
    {
     "data": {
      "text/html": [
       "<div>\n",
       "<style scoped>\n",
       "    .dataframe tbody tr th:only-of-type {\n",
       "        vertical-align: middle;\n",
       "    }\n",
       "\n",
       "    .dataframe tbody tr th {\n",
       "        vertical-align: top;\n",
       "    }\n",
       "\n",
       "    .dataframe thead th {\n",
       "        text-align: right;\n",
       "    }\n",
       "</style>\n",
       "<table border=\"1\" class=\"dataframe\">\n",
       "  <thead>\n",
       "    <tr style=\"text-align: right;\">\n",
       "      <th></th>\n",
       "      <th>Attrition</th>\n",
       "      <th>Age</th>\n",
       "      <th>Gender</th>\n",
       "      <th>Dependents</th>\n",
       "      <th>Education</th>\n",
       "      <th>Marital</th>\n",
       "      <th>Income</th>\n",
       "      <th>Card</th>\n",
       "      <th>Duration</th>\n",
       "      <th>Num_products</th>\n",
       "      <th>Inactive_mo</th>\n",
       "      <th>Contacts</th>\n",
       "      <th>Credit_Limit</th>\n",
       "      <th>Revolving_Bal</th>\n",
       "      <th>Avg_Open</th>\n",
       "      <th>Amount_chg</th>\n",
       "      <th>Transaction_amt</th>\n",
       "      <th>Transaction_ct</th>\n",
       "      <th>Trans_Chg_ct</th>\n",
       "      <th>Util_ratio</th>\n",
       "      <th>Age_group</th>\n",
       "      <th>Util_model_pred</th>\n",
       "      <th>Credit_Limit_transf</th>\n",
       "      <th>Util_comp_pred</th>\n",
       "    </tr>\n",
       "  </thead>\n",
       "  <tbody>\n",
       "    <tr>\n",
       "      <th>0</th>\n",
       "      <td>Existing Customer</td>\n",
       "      <td>45</td>\n",
       "      <td>M</td>\n",
       "      <td>3</td>\n",
       "      <td>High School</td>\n",
       "      <td>Married</td>\n",
       "      <td>$70K</td>\n",
       "      <td>Blue</td>\n",
       "      <td>39</td>\n",
       "      <td>5</td>\n",
       "      <td>1</td>\n",
       "      <td>3</td>\n",
       "      <td>12691.0</td>\n",
       "      <td>777</td>\n",
       "      <td>11914.0</td>\n",
       "      <td>1.335</td>\n",
       "      <td>1144</td>\n",
       "      <td>42</td>\n",
       "      <td>1.625</td>\n",
       "      <td>0.061</td>\n",
       "      <td>middle</td>\n",
       "      <td>0.136049</td>\n",
       "      <td>[3.24873427815878]</td>\n",
       "      <td>[0.12740487149831825]</td>\n",
       "    </tr>\n",
       "    <tr>\n",
       "      <th>1</th>\n",
       "      <td>Existing Customer</td>\n",
       "      <td>49</td>\n",
       "      <td>F</td>\n",
       "      <td>5</td>\n",
       "      <td>Graduate</td>\n",
       "      <td>Single</td>\n",
       "      <td>$40K</td>\n",
       "      <td>Blue</td>\n",
       "      <td>44</td>\n",
       "      <td>6</td>\n",
       "      <td>1</td>\n",
       "      <td>2</td>\n",
       "      <td>8256.0</td>\n",
       "      <td>864</td>\n",
       "      <td>7392.0</td>\n",
       "      <td>1.541</td>\n",
       "      <td>1291</td>\n",
       "      <td>33</td>\n",
       "      <td>3.714</td>\n",
       "      <td>0.105</td>\n",
       "      <td>middle</td>\n",
       "      <td>0.193195</td>\n",
       "      <td>[3.2184676547573843]</td>\n",
       "      <td>[0.18491145596096992]</td>\n",
       "    </tr>\n",
       "  </tbody>\n",
       "</table>\n",
       "</div>"
      ],
      "text/plain": [
       "           Attrition  Age Gender  Dependents    Education  Marital Income  \\\n",
       "0  Existing Customer   45      M           3  High School  Married   $70K   \n",
       "1  Existing Customer   49      F           5     Graduate   Single   $40K   \n",
       "\n",
       "   Card  Duration  Num_products  Inactive_mo  Contacts  Credit_Limit  \\\n",
       "0  Blue        39             5            1         3       12691.0   \n",
       "1  Blue        44             6            1         2        8256.0   \n",
       "\n",
       "   Revolving_Bal  Avg_Open  Amount_chg  Transaction_amt  Transaction_ct  \\\n",
       "0            777   11914.0       1.335             1144              42   \n",
       "1            864    7392.0       1.541             1291              33   \n",
       "\n",
       "   Trans_Chg_ct  Util_ratio Age_group  Util_model_pred   Credit_Limit_transf  \\\n",
       "0         1.625       0.061    middle         0.136049    [3.24873427815878]   \n",
       "1         3.714       0.105    middle         0.193195  [3.2184676547573843]   \n",
       "\n",
       "          Util_comp_pred  \n",
       "0  [0.12740487149831825]  \n",
       "1  [0.18491145596096992]  "
      ]
     },
     "execution_count": 350,
     "metadata": {},
     "output_type": "execute_result"
    }
   ],
   "source": [
    "# predicting y values using x_transformed data\n",
    "data['Util_model_pred'] = model.predict()\n",
    "\n",
    "# y_model = 6.3 - 1.9(x_transf)\n",
    "data['Credit_Limit_transf']= x_transf\n",
    "data['Util_comp_pred'] = 6.3 - (1.9 * data.Credit_Limit_transf)\n",
    "data.head(2)"
   ]
  },
  {
   "cell_type": "code",
   "execution_count": 351,
   "metadata": {},
   "outputs": [
    {
     "data": {
      "image/png": "[encoded data removed]",
      "text/plain": [
       "<Figure size 432x288 with 1 Axes>"
      ]
     },
     "metadata": {
      "needs_background": "light"
     },
     "output_type": "display_data"
    }
   ],
   "source": [
    "# checking for residuals in the predicted values\n",
    "data['Util_res'] = data.Util_model_pred - data.Util_ratio\n",
    "plt.hist(data.Util_res)\n",
    "plt.title('Residual plot for Utility prediction over Credit Limit')\n",
    "plt.xlabel('Residuals')\n",
    "plt.ylabel('Frequency');\n",
    "# normal distribution, close to 0"
   ]
  },
  {
   "cell_type": "markdown",
   "metadata": {},
   "source": [
    "Result:\n",
    "The Distribution was highly skewed.  Transformation provided  some improvement.  The slope was consistently negative.  Modelling using transformed Credit Limit data, revealed that Utility ratio can be modelled using the equation 6.3 - 1.9(Credit limit).\n",
    "\n",
    "Interpretation:\n",
    "Credits up to 4 thousand dollars are well utilized.  Beyond 4 thousand, there is a sharp decline in credit utilization."
   ]
  },
  {
   "cell_type": "code",
   "execution_count": null,
   "metadata": {},
   "outputs": [],
   "source": []
  },
  {
   "cell_type": "markdown",
   "metadata": {},
   "source": [
    "#### Hypothesis D.1.  The outcome of attrition is not affected by any of the base attributes in the dataset, and thus cannot be predicted"
   ]
  },
  {
   "cell_type": "code",
   "execution_count": 352,
   "metadata": {},
   "outputs": [],
   "source": [
    "#  Assumptions:\n",
    "#  samples are independent\n",
    "#  no expected cell count = 0\n",
    "#  no more than 20% of cells have expected count <5"
   ]
  },
  {
   "cell_type": "code",
   "execution_count": 353,
   "metadata": {},
   "outputs": [
    {
     "name": "stdout",
     "output_type": "stream",
     "text": [
      "Mean product use of Attrited Customers:  3.28\n",
      "Mean product use of Existing Customers:  3.91\n",
      "p value =  0.0\n"
     ]
    },
    {
     "data": {
      "image/png": "[encoded data removed]",
      "text/plain": [
       "<Figure size 432x288 with 2 Axes>"
      ]
     },
     "metadata": {
      "needs_background": "light"
     },
     "output_type": "display_data"
    }
   ],
   "source": [
    "att = data[data.Attrition == 'Attrited Customer']['Num_products']\n",
    "ret = data[data.Attrition == 'Existing Customer']['Num_products']\n",
    "\n",
    "plt.subplot(121)\n",
    "att.plot.hist()\n",
    "plt.xlabel('Number of products')\n",
    "plt.title('Attrited Customers')\n",
    "plt.ylim(0, 2000);\n",
    "\n",
    "plt.subplot(122)\n",
    "ret.plot.hist()\n",
    "plt.xlabel('Number of products')\n",
    "plt.title('Existing Customers')\n",
    "plt.subplots_adjust(wspace = 0.5);\n",
    "\n",
    "st, p = stat.ttest_ind(att, ret)\n",
    "print('Mean product use of Attrited Customers: ',round(att.mean(),2))\n",
    "print('Mean product use of Existing Customers: ',round(ret.mean(),2))\n",
    "print('p value = ', p.round(4))"
   ]
  },
  {
   "cell_type": "markdown",
   "metadata": {},
   "source": [
    "Result:  At p < 0.01, null hypothesis is rejected.\n",
    "\n",
    "Interpretation:  Attrited customers used less products compared to existing customers."
   ]
  },
  {
   "cell_type": "code",
   "execution_count": null,
   "metadata": {},
   "outputs": [],
   "source": []
  },
  {
   "cell_type": "code",
   "execution_count": 354,
   "metadata": {},
   "outputs": [
    {
     "name": "stdout",
     "output_type": "stream",
     "text": [
      "Mean number of contacts from Attrited Customers:  2.97\n",
      "Mean number of contacts from Existing Customers:  2.36\n",
      "p value =  0.0\n"
     ]
    },
    {
     "data": {
      "image/png": "[encoded data removed]",
      "text/plain": [
       "<Figure size 432x288 with 2 Axes>"
      ]
     },
     "metadata": {
      "needs_background": "light"
     },
     "output_type": "display_data"
    }
   ],
   "source": [
    "att = data[data.Attrition == 'Attrited Customer']['Contacts']\n",
    "ret = data[data.Attrition == 'Existing Customer']['Contacts']\n",
    "\n",
    "plt.subplot(121)\n",
    "att.plot.hist()\n",
    "plt.xlabel('Number of contacts')\n",
    "plt.title('Attrited Customers')\n",
    "plt.ylim(0, 2700);\n",
    "\n",
    "plt.subplot(122)\n",
    "ret.plot.hist()\n",
    "plt.xlabel('Number of contacts')\n",
    "plt.title('Existing Customers')\n",
    "plt.subplots_adjust(wspace = 0.5);\n",
    "\n",
    "st, p = stat.ttest_ind(att, ret)\n",
    "print('Mean number of contacts from Attrited Customers: ',round(att.mean(),2))\n",
    "print('Mean number of contacts from Existing Customers: ',round(ret.mean(),2))\n",
    "print('p value = ', p.round(4))"
   ]
  },
  {
   "cell_type": "markdown",
   "metadata": {},
   "source": [
    "Interpretation:  Attrited customers had a higher number of contacts with the bank."
   ]
  },
  {
   "cell_type": "code",
   "execution_count": null,
   "metadata": {},
   "outputs": [],
   "source": []
  },
  {
   "cell_type": "code",
   "execution_count": 355,
   "metadata": {},
   "outputs": [
    {
     "name": "stdout",
     "output_type": "stream",
     "text": [
      "Mean credit limit of Attrited Customers:  8136.04\n",
      "Mean credit limit of Existing Customers:  8726.88\n",
      "p value =  0.0163\n"
     ]
    },
    {
     "data": {
      "image/png": "[encoded data removed]",
      "text/plain": [
       "<Figure size 432x288 with 2 Axes>"
      ]
     },
     "metadata": {
      "needs_background": "light"
     },
     "output_type": "display_data"
    }
   ],
   "source": [
    "att = data[data.Attrition == 'Attrited Customer']['Credit_Limit']\n",
    "ret = data[data.Attrition == 'Existing Customer']['Credit_Limit']\n",
    "\n",
    "plt.subplot(121)\n",
    "att.plot.hist()\n",
    "plt.xlabel('Credit Limit ($)')\n",
    "plt.title('Attrited Customers')\n",
    "plt.ylim(0, 4200);\n",
    "\n",
    "plt.subplot(122)\n",
    "ret.plot.hist()\n",
    "plt.xlabel('Credit Limit ($)')\n",
    "plt.title('Existing Customers')\n",
    "plt.subplots_adjust(wspace = 0.5);\n",
    "\n",
    "st, p = stat.ttest_ind(att, ret)\n",
    "print('Mean credit limit of Attrited Customers: ',round(att.mean(),2))\n",
    "print('Mean credit limit of Existing Customers: ',round(ret.mean(),2))\n",
    "print('p value = ', p.round(4))"
   ]
  },
  {
   "cell_type": "markdown",
   "metadata": {},
   "source": [
    "Interpretation:  Attrited customers had a lower mean credit limit."
   ]
  },
  {
   "cell_type": "code",
   "execution_count": null,
   "metadata": {},
   "outputs": [],
   "source": []
  },
  {
   "cell_type": "code",
   "execution_count": 356,
   "metadata": {},
   "outputs": [
    {
     "name": "stdout",
     "output_type": "stream",
     "text": [
      "Mean Revolving Balance of Attrited Customers:  672.82\n",
      "Mean Revolving Balance of Existing Customers:  1256.6\n",
      "p value =  0.0\n"
     ]
    },
    {
     "data": {
      "image/png": "[encoded data removed]",
      "text/plain": [
       "<Figure size 432x288 with 2 Axes>"
      ]
     },
     "metadata": {
      "needs_background": "light"
     },
     "output_type": "display_data"
    }
   ],
   "source": [
    "att = data[data.Attrition == 'Attrited Customer']['Revolving_Bal']\n",
    "ret = data[data.Attrition == 'Existing Customer']['Revolving_Bal']\n",
    "\n",
    "plt.subplot(121)\n",
    "att.plot.hist()\n",
    "plt.xlabel('Revolving Balance ($)')\n",
    "plt.title('Attrited Customers')\n",
    "plt.ylim(0, 1600);\n",
    "\n",
    "plt.subplot(122)\n",
    "ret.plot.hist()\n",
    "plt.xlabel('Revolving Balance ($)')\n",
    "plt.title('Existing Customers')\n",
    "plt.subplots_adjust(wspace = 0.5);\n",
    "\n",
    "st, p = stat.ttest_ind(att, ret)\n",
    "print('Mean Revolving Balance of Attrited Customers: ',round(att.mean(),2))\n",
    "print('Mean Revolving Balance of Existing Customers: ',round(ret.mean(),2))\n",
    "print('p value = ', p.round(4))"
   ]
  },
  {
   "cell_type": "markdown",
   "metadata": {},
   "source": [
    "Interpretation:  Attrited customers had lower revolving balance."
   ]
  },
  {
   "cell_type": "code",
   "execution_count": null,
   "metadata": {},
   "outputs": [],
   "source": []
  },
  {
   "cell_type": "code",
   "execution_count": 357,
   "metadata": {
    "scrolled": true
   },
   "outputs": [
    {
     "name": "stdout",
     "output_type": "stream",
     "text": [
      "Mean Transaction counts of Attrited Customers:  44.93\n",
      "Mean Transaction counts of Existing Customers:  68.67\n",
      "p value =  0.0\n"
     ]
    },
    {
     "data": {
      "image/png": "[encoded data removed]",
      "text/plain": [
       "<Figure size 432x288 with 2 Axes>"
      ]
     },
     "metadata": {
      "needs_background": "light"
     },
     "output_type": "display_data"
    }
   ],
   "source": [
    "att = data[data.Attrition == 'Attrited Customer']['Transaction_ct']\n",
    "ret = data[data.Attrition == 'Existing Customer']['Transaction_ct']\n",
    "\n",
    "plt.subplot(121)\n",
    "att.plot.hist()\n",
    "plt.xlabel('Transaction counts')\n",
    "plt.title('Attrited Customers')\n",
    "plt.ylim(0, 2400)\n",
    "plt.xlim(0, 140);\n",
    "\n",
    "plt.subplot(122)\n",
    "ret.plot.hist()\n",
    "plt.xlabel('Transaction counts')\n",
    "plt.title('Existing Customers')\n",
    "plt.subplots_adjust(wspace = 0.5);\n",
    "\n",
    "st, p = stat.ttest_ind(att, ret)\n",
    "print('Mean Transaction counts of Attrited Customers: ',round(att.mean(),2))\n",
    "print('Mean Transaction counts of Existing Customers: ',round(ret.mean(),2))\n",
    "print('p value = ', p.round(4))"
   ]
  },
  {
   "cell_type": "markdown",
   "metadata": {},
   "source": [
    "Interpretation:  Attrited customers had significantly less mean transaction counts"
   ]
  },
  {
   "cell_type": "markdown",
   "metadata": {},
   "source": [
    "Failed to reject Null Hypotheses on Attrition and:\n",
    "Dependents,"
   ]
  },
  {
   "cell_type": "code",
   "execution_count": null,
   "metadata": {},
   "outputs": [],
   "source": []
  },
  {
   "cell_type": "markdown",
   "metadata": {},
   "source": [
    "(Select codes NOT shown to simplify):\n",
    "\n",
    "Relationship with variable Attrition\n",
    "\n",
    "    Not significant (t-test):  Age, Duration\n",
    "\n",
    "    Not significant (chi-square): Marital status, Education level, Card category"
   ]
  },
  {
   "cell_type": "code",
   "execution_count": null,
   "metadata": {},
   "outputs": [],
   "source": []
  },
  {
   "cell_type": "markdown",
   "metadata": {},
   "source": [
    "#### Preparing data for regression analyses and modeling (as continuation of analysis for Hypothesis D.1.)\n",
    "\n",
    "##### Reducing correlation"
   ]
  },
  {
   "cell_type": "code",
   "execution_count": 433,
   "metadata": {},
   "outputs": [],
   "source": [
    "data2= data"
   ]
  },
  {
   "cell_type": "code",
   "execution_count": 405,
   "metadata": {},
   "outputs": [],
   "source": [
    "def corr_map(variables):\n",
    "    corr = data2[variables].corr().round(2)\n",
    "    max_corr = 0.4\n",
    "    mask = np.zeros_like(corr)\n",
    "    mask[np.triu_indices_from(mask)]=True\n",
    "    with sns.axes_style('white'):\n",
    "        f, ax = plt.subplots(figsize = (9,9))\n",
    "        ax = sns.heatmap(corr, vmax = max_corr, mask = mask,\n",
    "                        annot=True)"
   ]
  },
  {
   "cell_type": "code",
   "execution_count": 395,
   "metadata": {},
   "outputs": [
    {
     "data": {
      "text/plain": [
       "Index(['Attrition', 'Age', 'Gender', 'Dependents', 'Education', 'Marital',\n",
       "       'Income', 'Card', 'Num_products', 'Inactive_mo', 'Contacts',\n",
       "       'Credit_Limit', 'Revolving_Bal', 'Transaction_ct', 'Trans_Chg_ct',\n",
       "       'Age_group', 'Util_model_pred', 'Credit_Limit_transf', 'Util_comp_pred',\n",
       "       'Util_res'],\n",
       "      dtype='object')"
      ]
     },
     "execution_count": 395,
     "metadata": {},
     "output_type": "execute_result"
    }
   ],
   "source": [
    "data2.columns"
   ]
  },
  {
   "cell_type": "code",
   "execution_count": 406,
   "metadata": {},
   "outputs": [
    {
     "data": {
      "image/png": "[encoded data removed]",
      "text/plain": [
       "<Figure size 648x648 with 2 Axes>"
      ]
     },
     "metadata": {},
     "output_type": "display_data"
    }
   ],
   "source": [
    "corr_map(['Age', 'Dependents',\n",
    "       'Duration', 'Num_products', 'Inactive_mo', 'Contacts',\n",
    "       'Credit_Limit', 'Revolving_Bal', 'Avg_Open', 'Amount_chg',\n",
    "       'Transaction_amt', 'Transaction_ct', 'Trans_Chg_ct', 'Util_ratio']);"
   ]
  },
  {
   "cell_type": "markdown",
   "metadata": {},
   "source": [
    "high correlation between some variables\n",
    "-> remove Duration, Avg_Open, Transaction_Amt, Amount_chg, Util_ratio"
   ]
  },
  {
   "cell_type": "code",
   "execution_count": 434,
   "metadata": {},
   "outputs": [],
   "source": [
    "# drop select variables to minimize correlation\n",
    "data2.drop(['Duration','Avg_Open','Transaction_amt','Amount_chg','Util_ratio'], axis = 1, inplace=True)"
   ]
  },
  {
   "cell_type": "code",
   "execution_count": 408,
   "metadata": {},
   "outputs": [
    {
     "data": {
      "image/png": "[encoded data removed]",
      "text/plain": [
       "<Figure size 648x648 with 2 Axes>"
      ]
     },
     "metadata": {},
     "output_type": "display_data"
    }
   ],
   "source": [
    "corr_map(['Age', 'Dependents',\n",
    "        'Num_products', 'Inactive_mo', 'Contacts',\n",
    "       'Credit_Limit', 'Revolving_Bal',  \n",
    "        'Transaction_ct', 'Trans_Chg_ct']);\n",
    "# remaining numerical variables with minimal correlation"
   ]
  },
  {
   "cell_type": "code",
   "execution_count": 364,
   "metadata": {},
   "outputs": [],
   "source": [
    "# transforming categorical values to numerical\n",
    "# group transformation taking a long time/ hanging -> \n",
    "#   do one by one"
   ]
  },
  {
   "cell_type": "markdown",
   "metadata": {},
   "source": [
    "##### Converting to binary/ numerical"
   ]
  },
  {
   "cell_type": "code",
   "execution_count": 365,
   "metadata": {},
   "outputs": [],
   "source": [
    "# getting dummies\n",
    "# removing original column\n",
    "# removing base variable for dummies"
   ]
  },
  {
   "cell_type": "code",
   "execution_count": 435,
   "metadata": {},
   "outputs": [
    {
     "data": {
      "text/html": [
       "<div>\n",
       "<style scoped>\n",
       "    .dataframe tbody tr th:only-of-type {\n",
       "        vertical-align: middle;\n",
       "    }\n",
       "\n",
       "    .dataframe tbody tr th {\n",
       "        vertical-align: top;\n",
       "    }\n",
       "\n",
       "    .dataframe thead th {\n",
       "        text-align: right;\n",
       "    }\n",
       "</style>\n",
       "<table border=\"1\" class=\"dataframe\">\n",
       "  <thead>\n",
       "    <tr style=\"text-align: right;\">\n",
       "      <th></th>\n",
       "      <th>Age</th>\n",
       "      <th>Gender</th>\n",
       "      <th>Dependents</th>\n",
       "      <th>Education</th>\n",
       "      <th>Marital</th>\n",
       "      <th>Income</th>\n",
       "      <th>Card</th>\n",
       "      <th>Num_products</th>\n",
       "      <th>Inactive_mo</th>\n",
       "      <th>Contacts</th>\n",
       "      <th>Credit_Limit</th>\n",
       "      <th>Revolving_Bal</th>\n",
       "      <th>Transaction_ct</th>\n",
       "      <th>Trans_Chg_ct</th>\n",
       "      <th>Attrition</th>\n",
       "    </tr>\n",
       "  </thead>\n",
       "  <tbody>\n",
       "    <tr>\n",
       "      <th>0</th>\n",
       "      <td>45</td>\n",
       "      <td>M</td>\n",
       "      <td>3</td>\n",
       "      <td>High School</td>\n",
       "      <td>Married</td>\n",
       "      <td>$70K</td>\n",
       "      <td>Blue</td>\n",
       "      <td>5</td>\n",
       "      <td>1</td>\n",
       "      <td>3</td>\n",
       "      <td>12691.0</td>\n",
       "      <td>777</td>\n",
       "      <td>42</td>\n",
       "      <td>1.625</td>\n",
       "      <td>0</td>\n",
       "    </tr>\n",
       "    <tr>\n",
       "      <th>1</th>\n",
       "      <td>49</td>\n",
       "      <td>F</td>\n",
       "      <td>5</td>\n",
       "      <td>Graduate</td>\n",
       "      <td>Single</td>\n",
       "      <td>$40K</td>\n",
       "      <td>Blue</td>\n",
       "      <td>6</td>\n",
       "      <td>1</td>\n",
       "      <td>2</td>\n",
       "      <td>8256.0</td>\n",
       "      <td>864</td>\n",
       "      <td>33</td>\n",
       "      <td>3.714</td>\n",
       "      <td>0</td>\n",
       "    </tr>\n",
       "  </tbody>\n",
       "</table>\n",
       "</div>"
      ],
      "text/plain": [
       "   Age Gender  Dependents    Education  Marital Income  Card  Num_products  \\\n",
       "0   45      M           3  High School  Married   $70K  Blue             5   \n",
       "1   49      F           5     Graduate   Single   $40K  Blue             6   \n",
       "\n",
       "   Inactive_mo  Contacts  Credit_Limit  Revolving_Bal  Transaction_ct  \\\n",
       "0            1         3       12691.0            777              42   \n",
       "1            1         2        8256.0            864              33   \n",
       "\n",
       "   Trans_Chg_ct  Attrition  \n",
       "0         1.625          0  \n",
       "1         3.714          0  "
      ]
     },
     "execution_count": 435,
     "metadata": {},
     "output_type": "execute_result"
    }
   ],
   "source": [
    "att = pd.get_dummies(data.Attrition)\n",
    "data2 = pd.concat([data2, att], axis = 1)\n",
    "data2.drop(['Attrition', 'Existing Customer'],axis=1, inplace=True)\n",
    "data2.rename({'Attrited Customer': 'Attrition'}, axis=1, inplace=True)\n",
    "data2.head(2)"
   ]
  },
  {
   "cell_type": "code",
   "execution_count": 436,
   "metadata": {},
   "outputs": [
    {
     "data": {
      "text/html": [
       "<div>\n",
       "<style scoped>\n",
       "    .dataframe tbody tr th:only-of-type {\n",
       "        vertical-align: middle;\n",
       "    }\n",
       "\n",
       "    .dataframe tbody tr th {\n",
       "        vertical-align: top;\n",
       "    }\n",
       "\n",
       "    .dataframe thead th {\n",
       "        text-align: right;\n",
       "    }\n",
       "</style>\n",
       "<table border=\"1\" class=\"dataframe\">\n",
       "  <thead>\n",
       "    <tr style=\"text-align: right;\">\n",
       "      <th></th>\n",
       "      <th>Age</th>\n",
       "      <th>Dependents</th>\n",
       "      <th>Education</th>\n",
       "      <th>Marital</th>\n",
       "      <th>Income</th>\n",
       "      <th>Card</th>\n",
       "      <th>Num_products</th>\n",
       "      <th>Inactive_mo</th>\n",
       "      <th>Contacts</th>\n",
       "      <th>Credit_Limit</th>\n",
       "      <th>Revolving_Bal</th>\n",
       "      <th>Transaction_ct</th>\n",
       "      <th>Trans_Chg_ct</th>\n",
       "      <th>Attrition</th>\n",
       "      <th>Male</th>\n",
       "    </tr>\n",
       "  </thead>\n",
       "  <tbody>\n",
       "    <tr>\n",
       "      <th>0</th>\n",
       "      <td>45</td>\n",
       "      <td>3</td>\n",
       "      <td>High School</td>\n",
       "      <td>Married</td>\n",
       "      <td>$70K</td>\n",
       "      <td>Blue</td>\n",
       "      <td>5</td>\n",
       "      <td>1</td>\n",
       "      <td>3</td>\n",
       "      <td>12691.0</td>\n",
       "      <td>777</td>\n",
       "      <td>42</td>\n",
       "      <td>1.625</td>\n",
       "      <td>0</td>\n",
       "      <td>1</td>\n",
       "    </tr>\n",
       "    <tr>\n",
       "      <th>1</th>\n",
       "      <td>49</td>\n",
       "      <td>5</td>\n",
       "      <td>Graduate</td>\n",
       "      <td>Single</td>\n",
       "      <td>$40K</td>\n",
       "      <td>Blue</td>\n",
       "      <td>6</td>\n",
       "      <td>1</td>\n",
       "      <td>2</td>\n",
       "      <td>8256.0</td>\n",
       "      <td>864</td>\n",
       "      <td>33</td>\n",
       "      <td>3.714</td>\n",
       "      <td>0</td>\n",
       "      <td>0</td>\n",
       "    </tr>\n",
       "  </tbody>\n",
       "</table>\n",
       "</div>"
      ],
      "text/plain": [
       "   Age  Dependents    Education  Marital Income  Card  Num_products  \\\n",
       "0   45           3  High School  Married   $70K  Blue             5   \n",
       "1   49           5     Graduate   Single   $40K  Blue             6   \n",
       "\n",
       "   Inactive_mo  Contacts  Credit_Limit  Revolving_Bal  Transaction_ct  \\\n",
       "0            1         3       12691.0            777              42   \n",
       "1            1         2        8256.0            864              33   \n",
       "\n",
       "   Trans_Chg_ct  Attrition  Male  \n",
       "0         1.625          0     1  \n",
       "1         3.714          0     0  "
      ]
     },
     "execution_count": 436,
     "metadata": {},
     "output_type": "execute_result"
    }
   ],
   "source": [
    "gen = pd.get_dummies(data.Gender)\n",
    "data2 = pd.concat([data2, gen], axis = 1)\n",
    "data2.drop(['Gender','F'],axis=1, inplace=True)\n",
    "data2.rename({'M':'Male'}, axis = 1,inplace=True)\n",
    "data2.head(2)\n",
    "# base dummy: Female"
   ]
  },
  {
   "cell_type": "code",
   "execution_count": 437,
   "metadata": {},
   "outputs": [
    {
     "data": {
      "text/html": [
       "<div>\n",
       "<style scoped>\n",
       "    .dataframe tbody tr th:only-of-type {\n",
       "        vertical-align: middle;\n",
       "    }\n",
       "\n",
       "    .dataframe tbody tr th {\n",
       "        vertical-align: top;\n",
       "    }\n",
       "\n",
       "    .dataframe thead th {\n",
       "        text-align: right;\n",
       "    }\n",
       "</style>\n",
       "<table border=\"1\" class=\"dataframe\">\n",
       "  <thead>\n",
       "    <tr style=\"text-align: right;\">\n",
       "      <th></th>\n",
       "      <th>Age</th>\n",
       "      <th>Dependents</th>\n",
       "      <th>Marital</th>\n",
       "      <th>Income</th>\n",
       "      <th>Card</th>\n",
       "      <th>Num_products</th>\n",
       "      <th>Inactive_mo</th>\n",
       "      <th>Contacts</th>\n",
       "      <th>Credit_Limit</th>\n",
       "      <th>Revolving_Bal</th>\n",
       "      <th>Transaction_ct</th>\n",
       "      <th>Trans_Chg_ct</th>\n",
       "      <th>Attrition</th>\n",
       "      <th>Male</th>\n",
       "      <th>College</th>\n",
       "      <th>Graduate</th>\n",
       "      <th>HS</th>\n",
       "      <th>Postgrad</th>\n",
       "    </tr>\n",
       "  </thead>\n",
       "  <tbody>\n",
       "    <tr>\n",
       "      <th>0</th>\n",
       "      <td>45</td>\n",
       "      <td>3</td>\n",
       "      <td>Married</td>\n",
       "      <td>$70K</td>\n",
       "      <td>Blue</td>\n",
       "      <td>5</td>\n",
       "      <td>1</td>\n",
       "      <td>3</td>\n",
       "      <td>12691.0</td>\n",
       "      <td>777</td>\n",
       "      <td>42</td>\n",
       "      <td>1.625</td>\n",
       "      <td>0</td>\n",
       "      <td>1</td>\n",
       "      <td>0</td>\n",
       "      <td>0</td>\n",
       "      <td>1</td>\n",
       "      <td>0</td>\n",
       "    </tr>\n",
       "  </tbody>\n",
       "</table>\n",
       "</div>"
      ],
      "text/plain": [
       "   Age  Dependents  Marital Income  Card  Num_products  Inactive_mo  Contacts  \\\n",
       "0   45           3  Married   $70K  Blue             5            1         3   \n",
       "\n",
       "   Credit_Limit  Revolving_Bal  Transaction_ct  Trans_Chg_ct  Attrition  Male  \\\n",
       "0       12691.0            777              42         1.625          0     1   \n",
       "\n",
       "   College  Graduate  HS  Postgrad  \n",
       "0        0         0   1         0  "
      ]
     },
     "execution_count": 437,
     "metadata": {},
     "output_type": "execute_result"
    }
   ],
   "source": [
    "ed = pd.get_dummies(data.Education)\n",
    "data2 = pd.concat([data2, ed], axis = 1)\n",
    "data2.drop(['Education','Uneducated'],axis=1, inplace=True)\n",
    "data2.rename({'Post-Graduate':'Postgrad', 'High School': 'HS'},\n",
    "            axis = 1,inplace=True)\n",
    "data2.head(1)\n",
    "# base dummy: Uneducated"
   ]
  },
  {
   "cell_type": "code",
   "execution_count": 438,
   "metadata": {},
   "outputs": [
    {
     "data": {
      "text/html": [
       "<div>\n",
       "<style scoped>\n",
       "    .dataframe tbody tr th:only-of-type {\n",
       "        vertical-align: middle;\n",
       "    }\n",
       "\n",
       "    .dataframe tbody tr th {\n",
       "        vertical-align: top;\n",
       "    }\n",
       "\n",
       "    .dataframe thead th {\n",
       "        text-align: right;\n",
       "    }\n",
       "</style>\n",
       "<table border=\"1\" class=\"dataframe\">\n",
       "  <thead>\n",
       "    <tr style=\"text-align: right;\">\n",
       "      <th></th>\n",
       "      <th>Age</th>\n",
       "      <th>Dependents</th>\n",
       "      <th>Income</th>\n",
       "      <th>Card</th>\n",
       "      <th>Num_products</th>\n",
       "      <th>Inactive_mo</th>\n",
       "      <th>Contacts</th>\n",
       "      <th>Credit_Limit</th>\n",
       "      <th>Revolving_Bal</th>\n",
       "      <th>Transaction_ct</th>\n",
       "      <th>Trans_Chg_ct</th>\n",
       "      <th>Attrition</th>\n",
       "      <th>Male</th>\n",
       "      <th>College</th>\n",
       "      <th>Graduate</th>\n",
       "      <th>HS</th>\n",
       "      <th>Postgrad</th>\n",
       "      <th>Divorced</th>\n",
       "      <th>Married</th>\n",
       "    </tr>\n",
       "  </thead>\n",
       "  <tbody>\n",
       "    <tr>\n",
       "      <th>0</th>\n",
       "      <td>45</td>\n",
       "      <td>3</td>\n",
       "      <td>$70K</td>\n",
       "      <td>Blue</td>\n",
       "      <td>5</td>\n",
       "      <td>1</td>\n",
       "      <td>3</td>\n",
       "      <td>12691.0</td>\n",
       "      <td>777</td>\n",
       "      <td>42</td>\n",
       "      <td>1.625</td>\n",
       "      <td>0</td>\n",
       "      <td>1</td>\n",
       "      <td>0</td>\n",
       "      <td>0</td>\n",
       "      <td>1</td>\n",
       "      <td>0</td>\n",
       "      <td>0</td>\n",
       "      <td>1</td>\n",
       "    </tr>\n",
       "  </tbody>\n",
       "</table>\n",
       "</div>"
      ],
      "text/plain": [
       "   Age  Dependents Income  Card  Num_products  Inactive_mo  Contacts  \\\n",
       "0   45           3   $70K  Blue             5            1         3   \n",
       "\n",
       "   Credit_Limit  Revolving_Bal  Transaction_ct  Trans_Chg_ct  Attrition  Male  \\\n",
       "0       12691.0            777              42         1.625          0     1   \n",
       "\n",
       "   College  Graduate  HS  Postgrad  Divorced  Married  \n",
       "0        0         0   1         0         0        1  "
      ]
     },
     "execution_count": 438,
     "metadata": {},
     "output_type": "execute_result"
    }
   ],
   "source": [
    "mar = pd.get_dummies(data.Marital)\n",
    "data2 = pd.concat([data2, mar], axis = 1)\n",
    "data2.drop(['Marital','Single'],axis=1, inplace=True)\n",
    "data2.head(1)\n",
    "# base dummy: Single"
   ]
  },
  {
   "cell_type": "code",
   "execution_count": 370,
   "metadata": {},
   "outputs": [
    {
     "data": {
      "text/plain": [
       "$40K     4673\n",
       "$50K     1790\n",
       "$100K    1535\n",
       "$70K     1402\n",
       "$120K     727\n",
       "Name: Income, dtype: int64"
      ]
     },
     "execution_count": 370,
     "metadata": {},
     "output_type": "execute_result"
    }
   ],
   "source": [
    "data.Income.value_counts()"
   ]
  },
  {
   "cell_type": "code",
   "execution_count": 439,
   "metadata": {},
   "outputs": [
    {
     "data": {
      "text/html": [
       "<div>\n",
       "<style scoped>\n",
       "    .dataframe tbody tr th:only-of-type {\n",
       "        vertical-align: middle;\n",
       "    }\n",
       "\n",
       "    .dataframe tbody tr th {\n",
       "        vertical-align: top;\n",
       "    }\n",
       "\n",
       "    .dataframe thead th {\n",
       "        text-align: right;\n",
       "    }\n",
       "</style>\n",
       "<table border=\"1\" class=\"dataframe\">\n",
       "  <thead>\n",
       "    <tr style=\"text-align: right;\">\n",
       "      <th></th>\n",
       "      <th>Age</th>\n",
       "      <th>Dependents</th>\n",
       "      <th>Card</th>\n",
       "      <th>Num_products</th>\n",
       "      <th>Inactive_mo</th>\n",
       "      <th>Contacts</th>\n",
       "      <th>Credit_Limit</th>\n",
       "      <th>Revolving_Bal</th>\n",
       "      <th>Transaction_ct</th>\n",
       "      <th>Trans_Chg_ct</th>\n",
       "      <th>Attrition</th>\n",
       "      <th>Male</th>\n",
       "      <th>College</th>\n",
       "      <th>Graduate</th>\n",
       "      <th>HS</th>\n",
       "      <th>Postgrad</th>\n",
       "      <th>Divorced</th>\n",
       "      <th>Married</th>\n",
       "      <th>$100K</th>\n",
       "      <th>$120K</th>\n",
       "      <th>$50K</th>\n",
       "      <th>$70K</th>\n",
       "    </tr>\n",
       "  </thead>\n",
       "  <tbody>\n",
       "    <tr>\n",
       "      <th>0</th>\n",
       "      <td>45</td>\n",
       "      <td>3</td>\n",
       "      <td>Blue</td>\n",
       "      <td>5</td>\n",
       "      <td>1</td>\n",
       "      <td>3</td>\n",
       "      <td>12691.0</td>\n",
       "      <td>777</td>\n",
       "      <td>42</td>\n",
       "      <td>1.625</td>\n",
       "      <td>0</td>\n",
       "      <td>1</td>\n",
       "      <td>0</td>\n",
       "      <td>0</td>\n",
       "      <td>1</td>\n",
       "      <td>0</td>\n",
       "      <td>0</td>\n",
       "      <td>1</td>\n",
       "      <td>0</td>\n",
       "      <td>0</td>\n",
       "      <td>0</td>\n",
       "      <td>1</td>\n",
       "    </tr>\n",
       "  </tbody>\n",
       "</table>\n",
       "</div>"
      ],
      "text/plain": [
       "   Age  Dependents  Card  Num_products  Inactive_mo  Contacts  Credit_Limit  \\\n",
       "0   45           3  Blue             5            1         3       12691.0   \n",
       "\n",
       "   Revolving_Bal  Transaction_ct  Trans_Chg_ct  Attrition  Male  College  \\\n",
       "0            777              42         1.625          0     1        0   \n",
       "\n",
       "   Graduate  HS  Postgrad  Divorced  Married  $100K  $120K  $50K  $70K  \n",
       "0         0   1         0         0        1      0      0     0     1  "
      ]
     },
     "execution_count": 439,
     "metadata": {},
     "output_type": "execute_result"
    }
   ],
   "source": [
    "inc = pd.get_dummies(data.Income)\n",
    "data2 = pd.concat([data2, inc], axis = 1)\n",
    "data2.drop(['Income','$40K'],axis=1, inplace=True)\n",
    "data2.head(1)\n",
    "# base dummy: < $40K"
   ]
  },
  {
   "cell_type": "code",
   "execution_count": 440,
   "metadata": {},
   "outputs": [
    {
     "data": {
      "text/html": [
       "<div>\n",
       "<style scoped>\n",
       "    .dataframe tbody tr th:only-of-type {\n",
       "        vertical-align: middle;\n",
       "    }\n",
       "\n",
       "    .dataframe tbody tr th {\n",
       "        vertical-align: top;\n",
       "    }\n",
       "\n",
       "    .dataframe thead th {\n",
       "        text-align: right;\n",
       "    }\n",
       "</style>\n",
       "<table border=\"1\" class=\"dataframe\">\n",
       "  <thead>\n",
       "    <tr style=\"text-align: right;\">\n",
       "      <th></th>\n",
       "      <th>Age</th>\n",
       "      <th>Dependents</th>\n",
       "      <th>Num_products</th>\n",
       "      <th>Inactive_mo</th>\n",
       "      <th>Contacts</th>\n",
       "      <th>Credit_Limit</th>\n",
       "      <th>Revolving_Bal</th>\n",
       "      <th>Transaction_ct</th>\n",
       "      <th>Trans_Chg_ct</th>\n",
       "      <th>Attrition</th>\n",
       "      <th>Male</th>\n",
       "      <th>College</th>\n",
       "      <th>Graduate</th>\n",
       "      <th>HS</th>\n",
       "      <th>Postgrad</th>\n",
       "      <th>Divorced</th>\n",
       "      <th>Married</th>\n",
       "      <th>$100K</th>\n",
       "      <th>$120K</th>\n",
       "      <th>$50K</th>\n",
       "      <th>$70K</th>\n",
       "      <th>Gold</th>\n",
       "      <th>Platinum</th>\n",
       "      <th>Silver</th>\n",
       "    </tr>\n",
       "  </thead>\n",
       "  <tbody>\n",
       "    <tr>\n",
       "      <th>0</th>\n",
       "      <td>45</td>\n",
       "      <td>3</td>\n",
       "      <td>5</td>\n",
       "      <td>1</td>\n",
       "      <td>3</td>\n",
       "      <td>12691.0</td>\n",
       "      <td>777</td>\n",
       "      <td>42</td>\n",
       "      <td>1.625</td>\n",
       "      <td>0</td>\n",
       "      <td>1</td>\n",
       "      <td>0</td>\n",
       "      <td>0</td>\n",
       "      <td>1</td>\n",
       "      <td>0</td>\n",
       "      <td>0</td>\n",
       "      <td>1</td>\n",
       "      <td>0</td>\n",
       "      <td>0</td>\n",
       "      <td>0</td>\n",
       "      <td>1</td>\n",
       "      <td>0</td>\n",
       "      <td>0</td>\n",
       "      <td>0</td>\n",
       "    </tr>\n",
       "  </tbody>\n",
       "</table>\n",
       "</div>"
      ],
      "text/plain": [
       "   Age  Dependents  Num_products  Inactive_mo  Contacts  Credit_Limit  \\\n",
       "0   45           3             5            1         3       12691.0   \n",
       "\n",
       "   Revolving_Bal  Transaction_ct  Trans_Chg_ct  Attrition  Male  College  \\\n",
       "0            777              42         1.625          0     1        0   \n",
       "\n",
       "   Graduate  HS  Postgrad  Divorced  Married  $100K  $120K  $50K  $70K  Gold  \\\n",
       "0         0   1         0         0        1      0      0     0     1     0   \n",
       "\n",
       "   Platinum  Silver  \n",
       "0         0       0  "
      ]
     },
     "execution_count": 440,
     "metadata": {},
     "output_type": "execute_result"
    }
   ],
   "source": [
    "card = pd.get_dummies(data.Card)\n",
    "data2 = pd.concat([data2, card], axis = 1)\n",
    "data2.drop(['Card','Blue'],axis=1, inplace=True)\n",
    "data2.head(1)\n",
    "# base dummy: Blue"
   ]
  },
  {
   "cell_type": "code",
   "execution_count": 441,
   "metadata": {},
   "outputs": [
    {
     "data": {
      "text/html": [
       "<div>\n",
       "<style scoped>\n",
       "    .dataframe tbody tr th:only-of-type {\n",
       "        vertical-align: middle;\n",
       "    }\n",
       "\n",
       "    .dataframe tbody tr th {\n",
       "        vertical-align: top;\n",
       "    }\n",
       "\n",
       "    .dataframe thead th {\n",
       "        text-align: right;\n",
       "    }\n",
       "</style>\n",
       "<table border=\"1\" class=\"dataframe\">\n",
       "  <thead>\n",
       "    <tr style=\"text-align: right;\">\n",
       "      <th></th>\n",
       "      <th>Age</th>\n",
       "      <th>Male</th>\n",
       "      <th>HS</th>\n",
       "      <th>College</th>\n",
       "      <th>Graduate</th>\n",
       "      <th>Postgrad</th>\n",
       "      <th>Married</th>\n",
       "      <th>Divorced</th>\n",
       "      <th>Dependents</th>\n",
       "      <th>$50K</th>\n",
       "      <th>$70K</th>\n",
       "      <th>$100K</th>\n",
       "      <th>$120K</th>\n",
       "      <th>Silver</th>\n",
       "      <th>Gold</th>\n",
       "      <th>Platinum</th>\n",
       "      <th>Num_products</th>\n",
       "      <th>Credit_Limit</th>\n",
       "      <th>Revolving_Bal</th>\n",
       "      <th>Transaction_ct</th>\n",
       "      <th>Trans_Chg_ct</th>\n",
       "      <th>Inactive_mo</th>\n",
       "      <th>Contacts</th>\n",
       "      <th>Attrition</th>\n",
       "    </tr>\n",
       "  </thead>\n",
       "  <tbody>\n",
       "    <tr>\n",
       "      <th>0</th>\n",
       "      <td>45</td>\n",
       "      <td>1</td>\n",
       "      <td>1</td>\n",
       "      <td>0</td>\n",
       "      <td>0</td>\n",
       "      <td>0</td>\n",
       "      <td>1</td>\n",
       "      <td>0</td>\n",
       "      <td>3</td>\n",
       "      <td>0</td>\n",
       "      <td>1</td>\n",
       "      <td>0</td>\n",
       "      <td>0</td>\n",
       "      <td>0</td>\n",
       "      <td>0</td>\n",
       "      <td>0</td>\n",
       "      <td>5</td>\n",
       "      <td>12691.0</td>\n",
       "      <td>777</td>\n",
       "      <td>42</td>\n",
       "      <td>1.625</td>\n",
       "      <td>1</td>\n",
       "      <td>3</td>\n",
       "      <td>0</td>\n",
       "    </tr>\n",
       "    <tr>\n",
       "      <th>1</th>\n",
       "      <td>49</td>\n",
       "      <td>0</td>\n",
       "      <td>0</td>\n",
       "      <td>0</td>\n",
       "      <td>1</td>\n",
       "      <td>0</td>\n",
       "      <td>0</td>\n",
       "      <td>0</td>\n",
       "      <td>5</td>\n",
       "      <td>0</td>\n",
       "      <td>0</td>\n",
       "      <td>0</td>\n",
       "      <td>0</td>\n",
       "      <td>0</td>\n",
       "      <td>0</td>\n",
       "      <td>0</td>\n",
       "      <td>6</td>\n",
       "      <td>8256.0</td>\n",
       "      <td>864</td>\n",
       "      <td>33</td>\n",
       "      <td>3.714</td>\n",
       "      <td>1</td>\n",
       "      <td>2</td>\n",
       "      <td>0</td>\n",
       "    </tr>\n",
       "  </tbody>\n",
       "</table>\n",
       "</div>"
      ],
      "text/plain": [
       "   Age  Male  HS  College  Graduate  Postgrad  Married  Divorced  Dependents  \\\n",
       "0   45     1   1        0         0         0        1         0           3   \n",
       "1   49     0   0        0         1         0        0         0           5   \n",
       "\n",
       "   $50K  $70K  $100K  $120K  Silver  Gold  Platinum  Num_products  \\\n",
       "0     0     1      0      0       0     0         0             5   \n",
       "1     0     0      0      0       0     0         0             6   \n",
       "\n",
       "   Credit_Limit  Revolving_Bal  Transaction_ct  Trans_Chg_ct  Inactive_mo  \\\n",
       "0       12691.0            777              42         1.625            1   \n",
       "1        8256.0            864              33         3.714            1   \n",
       "\n",
       "   Contacts  Attrition  \n",
       "0         3          0  \n",
       "1         2          0  "
      ]
     },
     "execution_count": 441,
     "metadata": {},
     "output_type": "execute_result"
    }
   ],
   "source": [
    "data2 = data2.reindex(columns = \n",
    "        ['Age', 'Male', 'HS','College','Graduate','Postgrad',\n",
    "        'Married','Divorced','Dependents',\n",
    "         '$50K','$70K','$100K','$120K',\n",
    "         'Silver','Gold','Platinum',\n",
    "         'Num_products','Credit_Limit','Revolving_Bal',\n",
    "         'Transaction_ct','Trans_Chg_ct','Inactive_mo','Contacts',\n",
    "         'Attrition'\n",
    "        ])\n",
    "data2.head(2)"
   ]
  },
  {
   "cell_type": "code",
   "execution_count": 374,
   "metadata": {},
   "outputs": [],
   "source": [
    "# data ready for regression"
   ]
  },
  {
   "cell_type": "code",
   "execution_count": 375,
   "metadata": {},
   "outputs": [
    {
     "data": {
      "text/html": [
       "<div>\n",
       "<style scoped>\n",
       "    .dataframe tbody tr th:only-of-type {\n",
       "        vertical-align: middle;\n",
       "    }\n",
       "\n",
       "    .dataframe tbody tr th {\n",
       "        vertical-align: top;\n",
       "    }\n",
       "\n",
       "    .dataframe thead th {\n",
       "        text-align: right;\n",
       "    }\n",
       "</style>\n",
       "<table border=\"1\" class=\"dataframe\">\n",
       "  <thead>\n",
       "    <tr style=\"text-align: right;\">\n",
       "      <th></th>\n",
       "      <th>Age</th>\n",
       "      <th>Male</th>\n",
       "      <th>HS</th>\n",
       "      <th>College</th>\n",
       "      <th>Graduate</th>\n",
       "      <th>Postgrad</th>\n",
       "      <th>Married</th>\n",
       "      <th>Divorced</th>\n",
       "      <th>Dependents</th>\n",
       "      <th>$50K</th>\n",
       "      <th>$70K</th>\n",
       "      <th>$100K</th>\n",
       "      <th>$120K</th>\n",
       "      <th>Silver</th>\n",
       "      <th>Gold</th>\n",
       "      <th>Platinum</th>\n",
       "      <th>Num_products</th>\n",
       "      <th>Credit_Limit</th>\n",
       "      <th>Revolving_Bal</th>\n",
       "      <th>Transaction_ct</th>\n",
       "      <th>Trans_Chg_ct</th>\n",
       "      <th>Inactive_mo</th>\n",
       "      <th>Contacts</th>\n",
       "      <th>Attrition</th>\n",
       "    </tr>\n",
       "  </thead>\n",
       "  <tbody>\n",
       "    <tr>\n",
       "      <th>count</th>\n",
       "      <td>10127.000000</td>\n",
       "      <td>10127.000000</td>\n",
       "      <td>10127.000000</td>\n",
       "      <td>10127.000000</td>\n",
       "      <td>10127.000000</td>\n",
       "      <td>10127.000000</td>\n",
       "      <td>10127.000000</td>\n",
       "      <td>10127.000000</td>\n",
       "      <td>10127.000000</td>\n",
       "      <td>10127.000000</td>\n",
       "      <td>10127.000000</td>\n",
       "      <td>10127.000000</td>\n",
       "      <td>10127.000000</td>\n",
       "      <td>10127.000000</td>\n",
       "      <td>10127.000000</td>\n",
       "      <td>10127.000000</td>\n",
       "      <td>10127.000000</td>\n",
       "      <td>10127.000000</td>\n",
       "      <td>10127.000000</td>\n",
       "      <td>10127.000000</td>\n",
       "      <td>10127.000000</td>\n",
       "      <td>10127.000000</td>\n",
       "      <td>10127.000000</td>\n",
       "      <td>10127.000000</td>\n",
       "    </tr>\n",
       "    <tr>\n",
       "      <th>mean</th>\n",
       "      <td>46.325960</td>\n",
       "      <td>0.470919</td>\n",
       "      <td>0.198776</td>\n",
       "      <td>0.100030</td>\n",
       "      <td>0.458872</td>\n",
       "      <td>0.095487</td>\n",
       "      <td>0.536783</td>\n",
       "      <td>0.073862</td>\n",
       "      <td>2.346203</td>\n",
       "      <td>0.176755</td>\n",
       "      <td>0.138442</td>\n",
       "      <td>0.151575</td>\n",
       "      <td>0.071788</td>\n",
       "      <td>0.054804</td>\n",
       "      <td>0.011455</td>\n",
       "      <td>0.001975</td>\n",
       "      <td>3.812580</td>\n",
       "      <td>8631.953698</td>\n",
       "      <td>1162.814061</td>\n",
       "      <td>64.858695</td>\n",
       "      <td>0.712222</td>\n",
       "      <td>2.341167</td>\n",
       "      <td>2.455317</td>\n",
       "      <td>0.160660</td>\n",
       "    </tr>\n",
       "    <tr>\n",
       "      <th>std</th>\n",
       "      <td>8.016814</td>\n",
       "      <td>0.499178</td>\n",
       "      <td>0.399098</td>\n",
       "      <td>0.300054</td>\n",
       "      <td>0.498330</td>\n",
       "      <td>0.293901</td>\n",
       "      <td>0.498670</td>\n",
       "      <td>0.261559</td>\n",
       "      <td>1.298908</td>\n",
       "      <td>0.381480</td>\n",
       "      <td>0.345380</td>\n",
       "      <td>0.358626</td>\n",
       "      <td>0.258150</td>\n",
       "      <td>0.227608</td>\n",
       "      <td>0.106416</td>\n",
       "      <td>0.044398</td>\n",
       "      <td>1.554408</td>\n",
       "      <td>9088.776650</td>\n",
       "      <td>814.987335</td>\n",
       "      <td>23.472570</td>\n",
       "      <td>0.238086</td>\n",
       "      <td>1.010622</td>\n",
       "      <td>1.106225</td>\n",
       "      <td>0.367235</td>\n",
       "    </tr>\n",
       "    <tr>\n",
       "      <th>min</th>\n",
       "      <td>26.000000</td>\n",
       "      <td>0.000000</td>\n",
       "      <td>0.000000</td>\n",
       "      <td>0.000000</td>\n",
       "      <td>0.000000</td>\n",
       "      <td>0.000000</td>\n",
       "      <td>0.000000</td>\n",
       "      <td>0.000000</td>\n",
       "      <td>0.000000</td>\n",
       "      <td>0.000000</td>\n",
       "      <td>0.000000</td>\n",
       "      <td>0.000000</td>\n",
       "      <td>0.000000</td>\n",
       "      <td>0.000000</td>\n",
       "      <td>0.000000</td>\n",
       "      <td>0.000000</td>\n",
       "      <td>1.000000</td>\n",
       "      <td>1438.300000</td>\n",
       "      <td>0.000000</td>\n",
       "      <td>10.000000</td>\n",
       "      <td>0.000000</td>\n",
       "      <td>0.000000</td>\n",
       "      <td>0.000000</td>\n",
       "      <td>0.000000</td>\n",
       "    </tr>\n",
       "    <tr>\n",
       "      <th>25%</th>\n",
       "      <td>41.000000</td>\n",
       "      <td>0.000000</td>\n",
       "      <td>0.000000</td>\n",
       "      <td>0.000000</td>\n",
       "      <td>0.000000</td>\n",
       "      <td>0.000000</td>\n",
       "      <td>0.000000</td>\n",
       "      <td>0.000000</td>\n",
       "      <td>1.000000</td>\n",
       "      <td>0.000000</td>\n",
       "      <td>0.000000</td>\n",
       "      <td>0.000000</td>\n",
       "      <td>0.000000</td>\n",
       "      <td>0.000000</td>\n",
       "      <td>0.000000</td>\n",
       "      <td>0.000000</td>\n",
       "      <td>3.000000</td>\n",
       "      <td>2555.000000</td>\n",
       "      <td>359.000000</td>\n",
       "      <td>45.000000</td>\n",
       "      <td>0.582000</td>\n",
       "      <td>2.000000</td>\n",
       "      <td>2.000000</td>\n",
       "      <td>0.000000</td>\n",
       "    </tr>\n",
       "    <tr>\n",
       "      <th>50%</th>\n",
       "      <td>46.000000</td>\n",
       "      <td>0.000000</td>\n",
       "      <td>0.000000</td>\n",
       "      <td>0.000000</td>\n",
       "      <td>0.000000</td>\n",
       "      <td>0.000000</td>\n",
       "      <td>1.000000</td>\n",
       "      <td>0.000000</td>\n",
       "      <td>2.000000</td>\n",
       "      <td>0.000000</td>\n",
       "      <td>0.000000</td>\n",
       "      <td>0.000000</td>\n",
       "      <td>0.000000</td>\n",
       "      <td>0.000000</td>\n",
       "      <td>0.000000</td>\n",
       "      <td>0.000000</td>\n",
       "      <td>4.000000</td>\n",
       "      <td>4549.000000</td>\n",
       "      <td>1276.000000</td>\n",
       "      <td>67.000000</td>\n",
       "      <td>0.702000</td>\n",
       "      <td>2.000000</td>\n",
       "      <td>2.000000</td>\n",
       "      <td>0.000000</td>\n",
       "    </tr>\n",
       "    <tr>\n",
       "      <th>75%</th>\n",
       "      <td>52.000000</td>\n",
       "      <td>1.000000</td>\n",
       "      <td>0.000000</td>\n",
       "      <td>0.000000</td>\n",
       "      <td>1.000000</td>\n",
       "      <td>0.000000</td>\n",
       "      <td>1.000000</td>\n",
       "      <td>0.000000</td>\n",
       "      <td>3.000000</td>\n",
       "      <td>0.000000</td>\n",
       "      <td>0.000000</td>\n",
       "      <td>0.000000</td>\n",
       "      <td>0.000000</td>\n",
       "      <td>0.000000</td>\n",
       "      <td>0.000000</td>\n",
       "      <td>0.000000</td>\n",
       "      <td>5.000000</td>\n",
       "      <td>11067.500000</td>\n",
       "      <td>1784.000000</td>\n",
       "      <td>81.000000</td>\n",
       "      <td>0.818000</td>\n",
       "      <td>3.000000</td>\n",
       "      <td>3.000000</td>\n",
       "      <td>0.000000</td>\n",
       "    </tr>\n",
       "    <tr>\n",
       "      <th>max</th>\n",
       "      <td>73.000000</td>\n",
       "      <td>1.000000</td>\n",
       "      <td>1.000000</td>\n",
       "      <td>1.000000</td>\n",
       "      <td>1.000000</td>\n",
       "      <td>1.000000</td>\n",
       "      <td>1.000000</td>\n",
       "      <td>1.000000</td>\n",
       "      <td>5.000000</td>\n",
       "      <td>1.000000</td>\n",
       "      <td>1.000000</td>\n",
       "      <td>1.000000</td>\n",
       "      <td>1.000000</td>\n",
       "      <td>1.000000</td>\n",
       "      <td>1.000000</td>\n",
       "      <td>1.000000</td>\n",
       "      <td>6.000000</td>\n",
       "      <td>34516.000000</td>\n",
       "      <td>2517.000000</td>\n",
       "      <td>139.000000</td>\n",
       "      <td>3.714000</td>\n",
       "      <td>6.000000</td>\n",
       "      <td>6.000000</td>\n",
       "      <td>1.000000</td>\n",
       "    </tr>\n",
       "  </tbody>\n",
       "</table>\n",
       "</div>"
      ],
      "text/plain": [
       "                Age          Male            HS       College      Graduate  \\\n",
       "count  10127.000000  10127.000000  10127.000000  10127.000000  10127.000000   \n",
       "mean      46.325960      0.470919      0.198776      0.100030      0.458872   \n",
       "std        8.016814      0.499178      0.399098      0.300054      0.498330   \n",
       "min       26.000000      0.000000      0.000000      0.000000      0.000000   \n",
       "25%       41.000000      0.000000      0.000000      0.000000      0.000000   \n",
       "50%       46.000000      0.000000      0.000000      0.000000      0.000000   \n",
       "75%       52.000000      1.000000      0.000000      0.000000      1.000000   \n",
       "max       73.000000      1.000000      1.000000      1.000000      1.000000   \n",
       "\n",
       "           Postgrad       Married      Divorced    Dependents          $50K  \\\n",
       "count  10127.000000  10127.000000  10127.000000  10127.000000  10127.000000   \n",
       "mean       0.095487      0.536783      0.073862      2.346203      0.176755   \n",
       "std        0.293901      0.498670      0.261559      1.298908      0.381480   \n",
       "min        0.000000      0.000000      0.000000      0.000000      0.000000   \n",
       "25%        0.000000      0.000000      0.000000      1.000000      0.000000   \n",
       "50%        0.000000      1.000000      0.000000      2.000000      0.000000   \n",
       "75%        0.000000      1.000000      0.000000      3.000000      0.000000   \n",
       "max        1.000000      1.000000      1.000000      5.000000      1.000000   \n",
       "\n",
       "               $70K         $100K         $120K        Silver          Gold  \\\n",
       "count  10127.000000  10127.000000  10127.000000  10127.000000  10127.000000   \n",
       "mean       0.138442      0.151575      0.071788      0.054804      0.011455   \n",
       "std        0.345380      0.358626      0.258150      0.227608      0.106416   \n",
       "min        0.000000      0.000000      0.000000      0.000000      0.000000   \n",
       "25%        0.000000      0.000000      0.000000      0.000000      0.000000   \n",
       "50%        0.000000      0.000000      0.000000      0.000000      0.000000   \n",
       "75%        0.000000      0.000000      0.000000      0.000000      0.000000   \n",
       "max        1.000000      1.000000      1.000000      1.000000      1.000000   \n",
       "\n",
       "           Platinum  Num_products  Credit_Limit  Revolving_Bal  \\\n",
       "count  10127.000000  10127.000000  10127.000000   10127.000000   \n",
       "mean       0.001975      3.812580   8631.953698    1162.814061   \n",
       "std        0.044398      1.554408   9088.776650     814.987335   \n",
       "min        0.000000      1.000000   1438.300000       0.000000   \n",
       "25%        0.000000      3.000000   2555.000000     359.000000   \n",
       "50%        0.000000      4.000000   4549.000000    1276.000000   \n",
       "75%        0.000000      5.000000  11067.500000    1784.000000   \n",
       "max        1.000000      6.000000  34516.000000    2517.000000   \n",
       "\n",
       "       Transaction_ct  Trans_Chg_ct   Inactive_mo      Contacts     Attrition  \n",
       "count    10127.000000  10127.000000  10127.000000  10127.000000  10127.000000  \n",
       "mean        64.858695      0.712222      2.341167      2.455317      0.160660  \n",
       "std         23.472570      0.238086      1.010622      1.106225      0.367235  \n",
       "min         10.000000      0.000000      0.000000      0.000000      0.000000  \n",
       "25%         45.000000      0.582000      2.000000      2.000000      0.000000  \n",
       "50%         67.000000      0.702000      2.000000      2.000000      0.000000  \n",
       "75%         81.000000      0.818000      3.000000      3.000000      0.000000  \n",
       "max        139.000000      3.714000      6.000000      6.000000      1.000000  "
      ]
     },
     "execution_count": 375,
     "metadata": {},
     "output_type": "execute_result"
    }
   ],
   "source": [
    "data2.describe()"
   ]
  },
  {
   "cell_type": "code",
   "execution_count": 376,
   "metadata": {},
   "outputs": [
    {
     "name": "stdout",
     "output_type": "stream",
     "text": [
      "0    8500\n",
      "1    1627\n",
      "Name: Attrition, dtype: int64\n",
      "Minority group = 16.0%\n"
     ]
    }
   ],
   "source": [
    "val = data2.Attrition.value_counts()\n",
    "print(val)\n",
    "minority = (val[1]/val.sum())*100\n",
    "print('Minority group = ' + str(minority.round(0)) + '%')\n",
    "# adequate proportion of minority group"
   ]
  },
  {
   "cell_type": "code",
   "execution_count": null,
   "metadata": {},
   "outputs": [],
   "source": []
  },
  {
   "cell_type": "markdown",
   "metadata": {},
   "source": [
    "##### Modelling Regression"
   ]
  },
  {
   "cell_type": "code",
   "execution_count": 442,
   "metadata": {},
   "outputs": [
    {
     "name": "stdout",
     "output_type": "stream",
     "text": [
      "Optimization terminated successfully.\n",
      "         Current function value: 0.261740\n",
      "         Iterations 8\n"
     ]
    },
    {
     "data": {
      "text/html": [
       "<table class=\"simpletable\">\n",
       "<caption>Logit Regression Results</caption>\n",
       "<tr>\n",
       "  <th>Dep. Variable:</th>           <td>y</td>        <th>  No. Observations:  </th>  <td>  7088</td> \n",
       "</tr>\n",
       "<tr>\n",
       "  <th>Model:</th>                 <td>Logit</td>      <th>  Df Residuals:      </th>  <td>  7065</td> \n",
       "</tr>\n",
       "<tr>\n",
       "  <th>Method:</th>                 <td>MLE</td>       <th>  Df Model:          </th>  <td>    22</td> \n",
       "</tr>\n",
       "<tr>\n",
       "  <th>Date:</th>            <td>Fri, 09 Apr 2021</td> <th>  Pseudo R-squ.:     </th>  <td>0.4078</td> \n",
       "</tr>\n",
       "<tr>\n",
       "  <th>Time:</th>                <td>14:52:36</td>     <th>  Log-Likelihood:    </th> <td> -1855.2</td>\n",
       "</tr>\n",
       "<tr>\n",
       "  <th>converged:</th>             <td>True</td>       <th>  LL-Null:           </th> <td> -3132.8</td>\n",
       "</tr>\n",
       "<tr>\n",
       "  <th>Covariance Type:</th>     <td>nonrobust</td>    <th>  LLR p-value:       </th>  <td> 0.000</td> \n",
       "</tr>\n",
       "</table>\n",
       "<table class=\"simpletable\">\n",
       "<tr>\n",
       "         <td></td>           <th>coef</th>     <th>std err</th>      <th>z</th>      <th>P>|z|</th>  <th>[0.025</th>    <th>0.975]</th>  \n",
       "</tr>\n",
       "<tr>\n",
       "  <th>Age</th>            <td>    0.0362</td> <td>    0.004</td> <td>    8.899</td> <td> 0.000</td> <td>    0.028</td> <td>    0.044</td>\n",
       "</tr>\n",
       "<tr>\n",
       "  <th>Male</th>           <td>   -0.4490</td> <td>    0.164</td> <td>   -2.730</td> <td> 0.006</td> <td>   -0.771</td> <td>   -0.127</td>\n",
       "</tr>\n",
       "<tr>\n",
       "  <th>HS</th>             <td>    0.3565</td> <td>    0.151</td> <td>    2.365</td> <td> 0.018</td> <td>    0.061</td> <td>    0.652</td>\n",
       "</tr>\n",
       "<tr>\n",
       "  <th>College</th>        <td>    0.2963</td> <td>    0.183</td> <td>    1.623</td> <td> 0.105</td> <td>   -0.062</td> <td>    0.654</td>\n",
       "</tr>\n",
       "<tr>\n",
       "  <th>Graduate</th>       <td>    0.4494</td> <td>    0.130</td> <td>    3.453</td> <td> 0.001</td> <td>    0.194</td> <td>    0.704</td>\n",
       "</tr>\n",
       "<tr>\n",
       "  <th>Postgrad</th>       <td>    0.7324</td> <td>    0.172</td> <td>    4.266</td> <td> 0.000</td> <td>    0.396</td> <td>    1.069</td>\n",
       "</tr>\n",
       "<tr>\n",
       "  <th>Married</th>        <td>   -0.2084</td> <td>    0.090</td> <td>   -2.309</td> <td> 0.021</td> <td>   -0.385</td> <td>   -0.031</td>\n",
       "</tr>\n",
       "<tr>\n",
       "  <th>Divorced</th>       <td>    0.0627</td> <td>    0.173</td> <td>    0.362</td> <td> 0.717</td> <td>   -0.276</td> <td>    0.402</td>\n",
       "</tr>\n",
       "<tr>\n",
       "  <th>Dependents</th>     <td>    0.2535</td> <td>    0.033</td> <td>    7.760</td> <td> 0.000</td> <td>    0.189</td> <td>    0.318</td>\n",
       "</tr>\n",
       "<tr>\n",
       "  <th>$50K</th>           <td>   -0.0390</td> <td>    0.132</td> <td>   -0.295</td> <td> 0.768</td> <td>   -0.298</td> <td>    0.220</td>\n",
       "</tr>\n",
       "<tr>\n",
       "  <th>$70K</th>           <td>   -0.1421</td> <td>    0.210</td> <td>   -0.677</td> <td> 0.498</td> <td>   -0.554</td> <td>    0.269</td>\n",
       "</tr>\n",
       "<tr>\n",
       "  <th>$100K</th>          <td>    0.2312</td> <td>    0.209</td> <td>    1.108</td> <td> 0.268</td> <td>   -0.178</td> <td>    0.640</td>\n",
       "</tr>\n",
       "<tr>\n",
       "  <th>$120K</th>          <td>    0.3267</td> <td>    0.242</td> <td>    1.349</td> <td> 0.177</td> <td>   -0.148</td> <td>    0.801</td>\n",
       "</tr>\n",
       "<tr>\n",
       "  <th>Silver</th>         <td>    0.4926</td> <td>    0.220</td> <td>    2.239</td> <td> 0.025</td> <td>    0.061</td> <td>    0.924</td>\n",
       "</tr>\n",
       "<tr>\n",
       "  <th>Gold</th>           <td>    0.7159</td> <td>    0.498</td> <td>    1.436</td> <td> 0.151</td> <td>   -0.261</td> <td>    1.693</td>\n",
       "</tr>\n",
       "<tr>\n",
       "  <th>Platinum</th>       <td>    0.4797</td> <td>    1.006</td> <td>    0.477</td> <td> 0.634</td> <td>   -1.493</td> <td>    2.452</td>\n",
       "</tr>\n",
       "<tr>\n",
       "  <th>Num_products</th>   <td>   -0.4041</td> <td>    0.029</td> <td>  -13.965</td> <td> 0.000</td> <td>   -0.461</td> <td>   -0.347</td>\n",
       "</tr>\n",
       "<tr>\n",
       "  <th>Credit_Limit</th>   <td>-8.547e-06</td> <td> 6.82e-06</td> <td>   -1.253</td> <td> 0.210</td> <td>-2.19e-05</td> <td> 4.82e-06</td>\n",
       "</tr>\n",
       "<tr>\n",
       "  <th>Revolving_Bal</th>  <td>   -0.0008</td> <td> 5.19e-05</td> <td>  -15.511</td> <td> 0.000</td> <td>   -0.001</td> <td>   -0.001</td>\n",
       "</tr>\n",
       "<tr>\n",
       "  <th>Transaction_ct</th> <td>   -0.0568</td> <td>    0.002</td> <td>  -23.954</td> <td> 0.000</td> <td>   -0.061</td> <td>   -0.052</td>\n",
       "</tr>\n",
       "<tr>\n",
       "  <th>Trans_Chg_ct</th>   <td>   -2.4614</td> <td>    0.201</td> <td>  -12.269</td> <td> 0.000</td> <td>   -2.855</td> <td>   -2.068</td>\n",
       "</tr>\n",
       "<tr>\n",
       "  <th>Inactive_mo</th>    <td>    0.5651</td> <td>    0.042</td> <td>   13.610</td> <td> 0.000</td> <td>    0.484</td> <td>    0.646</td>\n",
       "</tr>\n",
       "<tr>\n",
       "  <th>Contacts</th>       <td>    0.6002</td> <td>    0.039</td> <td>   15.219</td> <td> 0.000</td> <td>    0.523</td> <td>    0.677</td>\n",
       "</tr>\n",
       "</table>"
      ],
      "text/plain": [
       "<class 'statsmodels.iolib.summary.Summary'>\n",
       "\"\"\"\n",
       "                           Logit Regression Results                           \n",
       "==============================================================================\n",
       "Dep. Variable:                      y   No. Observations:                 7088\n",
       "Model:                          Logit   Df Residuals:                     7065\n",
       "Method:                           MLE   Df Model:                           22\n",
       "Date:                Fri, 09 Apr 2021   Pseudo R-squ.:                  0.4078\n",
       "Time:                        14:52:36   Log-Likelihood:                -1855.2\n",
       "converged:                       True   LL-Null:                       -3132.8\n",
       "Covariance Type:            nonrobust   LLR p-value:                     0.000\n",
       "==================================================================================\n",
       "                     coef    std err          z      P>|z|      [0.025      0.975]\n",
       "----------------------------------------------------------------------------------\n",
       "Age                0.0362      0.004      8.899      0.000       0.028       0.044\n",
       "Male              -0.4490      0.164     -2.730      0.006      -0.771      -0.127\n",
       "HS                 0.3565      0.151      2.365      0.018       0.061       0.652\n",
       "College            0.2963      0.183      1.623      0.105      -0.062       0.654\n",
       "Graduate           0.4494      0.130      3.453      0.001       0.194       0.704\n",
       "Postgrad           0.7324      0.172      4.266      0.000       0.396       1.069\n",
       "Married           -0.2084      0.090     -2.309      0.021      -0.385      -0.031\n",
       "Divorced           0.0627      0.173      0.362      0.717      -0.276       0.402\n",
       "Dependents         0.2535      0.033      7.760      0.000       0.189       0.318\n",
       "$50K              -0.0390      0.132     -0.295      0.768      -0.298       0.220\n",
       "$70K              -0.1421      0.210     -0.677      0.498      -0.554       0.269\n",
       "$100K              0.2312      0.209      1.108      0.268      -0.178       0.640\n",
       "$120K              0.3267      0.242      1.349      0.177      -0.148       0.801\n",
       "Silver             0.4926      0.220      2.239      0.025       0.061       0.924\n",
       "Gold               0.7159      0.498      1.436      0.151      -0.261       1.693\n",
       "Platinum           0.4797      1.006      0.477      0.634      -1.493       2.452\n",
       "Num_products      -0.4041      0.029    -13.965      0.000      -0.461      -0.347\n",
       "Credit_Limit   -8.547e-06   6.82e-06     -1.253      0.210   -2.19e-05    4.82e-06\n",
       "Revolving_Bal     -0.0008   5.19e-05    -15.511      0.000      -0.001      -0.001\n",
       "Transaction_ct    -0.0568      0.002    -23.954      0.000      -0.061      -0.052\n",
       "Trans_Chg_ct      -2.4614      0.201    -12.269      0.000      -2.855      -2.068\n",
       "Inactive_mo        0.5651      0.042     13.610      0.000       0.484       0.646\n",
       "Contacts           0.6002      0.039     15.219      0.000       0.523       0.677\n",
       "==================================================================================\n",
       "\"\"\""
      ]
     },
     "execution_count": 442,
     "metadata": {},
     "output_type": "execute_result"
    }
   ],
   "source": [
    "# Logit with constant, scaler, train-test split\n",
    "# run1\n",
    "predictors = ['Age', 'Male', 'HS', 'College', 'Graduate', 'Postgrad', 'Married',\n",
    "       'Divorced', 'Dependents', '$50K', '$70K', '$100K', '$120K', 'Silver',\n",
    "       'Gold', 'Platinum', 'Num_products', 'Credit_Limit', 'Revolving_Bal',\n",
    "       'Transaction_ct', 'Trans_Chg_ct', 'Inactive_mo', 'Contacts' ]\n",
    "X = data2[predictors]\n",
    "y = data2.Attrition.values.astype(np.float)\n",
    "\n",
    "X_train, X_test, y_train, y_test = train_test_split(X, y, test_size = 0.3)\n",
    "\n",
    "X = sm.add_constant(X)\n",
    "\n",
    "scaler = MinMaxScaler()\n",
    "scaler.fit_transform(X_train)\n",
    "model = sm.Logit(y_train, X_train).fit()\n",
    "model.summary()"
   ]
  },
  {
   "cell_type": "code",
   "execution_count": 443,
   "metadata": {},
   "outputs": [],
   "source": [
    "result = pd.DataFrame({'coefficients': model.params,\n",
    "                      'p-value': model.pvalues,\n",
    "                      'odds-ratio': np.exp(model.params)})\n",
    "\n",
    "# retain variables with low p\n",
    "retain = result [result['p-value'] <= 0.05]\n",
    "predictors = retain.index"
   ]
  },
  {
   "cell_type": "code",
   "execution_count": 444,
   "metadata": {},
   "outputs": [
    {
     "name": "stdout",
     "output_type": "stream",
     "text": [
      "Optimization terminated successfully.\n",
      "         Current function value: 0.264030\n",
      "         Iterations 8\n"
     ]
    },
    {
     "data": {
      "text/html": [
       "<table class=\"simpletable\">\n",
       "<caption>Logit Regression Results</caption>\n",
       "<tr>\n",
       "  <th>Dep. Variable:</th>           <td>y</td>        <th>  No. Observations:  </th>  <td>  7088</td> \n",
       "</tr>\n",
       "<tr>\n",
       "  <th>Model:</th>                 <td>Logit</td>      <th>  Df Residuals:      </th>  <td>  7074</td> \n",
       "</tr>\n",
       "<tr>\n",
       "  <th>Method:</th>                 <td>MLE</td>       <th>  Df Model:          </th>  <td>    13</td> \n",
       "</tr>\n",
       "<tr>\n",
       "  <th>Date:</th>            <td>Fri, 09 Apr 2021</td> <th>  Pseudo R-squ.:     </th>  <td>0.4029</td> \n",
       "</tr>\n",
       "<tr>\n",
       "  <th>Time:</th>                <td>14:52:41</td>     <th>  Log-Likelihood:    </th> <td> -1871.4</td>\n",
       "</tr>\n",
       "<tr>\n",
       "  <th>converged:</th>             <td>True</td>       <th>  LL-Null:           </th> <td> -3134.4</td>\n",
       "</tr>\n",
       "<tr>\n",
       "  <th>Covariance Type:</th>     <td>nonrobust</td>    <th>  LLR p-value:       </th>  <td> 0.000</td> \n",
       "</tr>\n",
       "</table>\n",
       "<table class=\"simpletable\">\n",
       "<tr>\n",
       "         <td></td>           <th>coef</th>     <th>std err</th>      <th>z</th>      <th>P>|z|</th>  <th>[0.025</th>    <th>0.975]</th>  \n",
       "</tr>\n",
       "<tr>\n",
       "  <th>Age</th>            <td>    0.0361</td> <td>    0.004</td> <td>    9.033</td> <td> 0.000</td> <td>    0.028</td> <td>    0.044</td>\n",
       "</tr>\n",
       "<tr>\n",
       "  <th>Male</th>           <td>   -0.3731</td> <td>    0.086</td> <td>   -4.350</td> <td> 0.000</td> <td>   -0.541</td> <td>   -0.205</td>\n",
       "</tr>\n",
       "<tr>\n",
       "  <th>HS</th>             <td>    0.1839</td> <td>    0.131</td> <td>    1.402</td> <td> 0.161</td> <td>   -0.073</td> <td>    0.441</td>\n",
       "</tr>\n",
       "<tr>\n",
       "  <th>Graduate</th>       <td>    0.2793</td> <td>    0.107</td> <td>    2.613</td> <td> 0.009</td> <td>    0.070</td> <td>    0.489</td>\n",
       "</tr>\n",
       "<tr>\n",
       "  <th>Postgrad</th>       <td>    0.5875</td> <td>    0.154</td> <td>    3.815</td> <td> 0.000</td> <td>    0.286</td> <td>    0.889</td>\n",
       "</tr>\n",
       "<tr>\n",
       "  <th>Married</th>        <td>   -0.3508</td> <td>    0.086</td> <td>   -4.068</td> <td> 0.000</td> <td>   -0.520</td> <td>   -0.182</td>\n",
       "</tr>\n",
       "<tr>\n",
       "  <th>Dependents</th>     <td>    0.2516</td> <td>    0.032</td> <td>    7.783</td> <td> 0.000</td> <td>    0.188</td> <td>    0.315</td>\n",
       "</tr>\n",
       "<tr>\n",
       "  <th>Silver</th>         <td>    0.4239</td> <td>    0.194</td> <td>    2.190</td> <td> 0.029</td> <td>    0.045</td> <td>    0.803</td>\n",
       "</tr>\n",
       "<tr>\n",
       "  <th>Num_products</th>   <td>   -0.4084</td> <td>    0.029</td> <td>  -14.180</td> <td> 0.000</td> <td>   -0.465</td> <td>   -0.352</td>\n",
       "</tr>\n",
       "<tr>\n",
       "  <th>Revolving_Bal</th>  <td>   -0.0008</td> <td> 5.16e-05</td> <td>  -15.828</td> <td> 0.000</td> <td>   -0.001</td> <td>   -0.001</td>\n",
       "</tr>\n",
       "<tr>\n",
       "  <th>Transaction_ct</th> <td>   -0.0567</td> <td>    0.002</td> <td>  -24.238</td> <td> 0.000</td> <td>   -0.061</td> <td>   -0.052</td>\n",
       "</tr>\n",
       "<tr>\n",
       "  <th>Trans_Chg_ct</th>   <td>   -2.2526</td> <td>    0.191</td> <td>  -11.819</td> <td> 0.000</td> <td>   -2.626</td> <td>   -1.879</td>\n",
       "</tr>\n",
       "<tr>\n",
       "  <th>Inactive_mo</th>    <td>    0.5845</td> <td>    0.041</td> <td>   14.198</td> <td> 0.000</td> <td>    0.504</td> <td>    0.665</td>\n",
       "</tr>\n",
       "<tr>\n",
       "  <th>Contacts</th>       <td>    0.6175</td> <td>    0.039</td> <td>   15.676</td> <td> 0.000</td> <td>    0.540</td> <td>    0.695</td>\n",
       "</tr>\n",
       "</table>"
      ],
      "text/plain": [
       "<class 'statsmodels.iolib.summary.Summary'>\n",
       "\"\"\"\n",
       "                           Logit Regression Results                           \n",
       "==============================================================================\n",
       "Dep. Variable:                      y   No. Observations:                 7088\n",
       "Model:                          Logit   Df Residuals:                     7074\n",
       "Method:                           MLE   Df Model:                           13\n",
       "Date:                Fri, 09 Apr 2021   Pseudo R-squ.:                  0.4029\n",
       "Time:                        14:52:41   Log-Likelihood:                -1871.4\n",
       "converged:                       True   LL-Null:                       -3134.4\n",
       "Covariance Type:            nonrobust   LLR p-value:                     0.000\n",
       "==================================================================================\n",
       "                     coef    std err          z      P>|z|      [0.025      0.975]\n",
       "----------------------------------------------------------------------------------\n",
       "Age                0.0361      0.004      9.033      0.000       0.028       0.044\n",
       "Male              -0.3731      0.086     -4.350      0.000      -0.541      -0.205\n",
       "HS                 0.1839      0.131      1.402      0.161      -0.073       0.441\n",
       "Graduate           0.2793      0.107      2.613      0.009       0.070       0.489\n",
       "Postgrad           0.5875      0.154      3.815      0.000       0.286       0.889\n",
       "Married           -0.3508      0.086     -4.068      0.000      -0.520      -0.182\n",
       "Dependents         0.2516      0.032      7.783      0.000       0.188       0.315\n",
       "Silver             0.4239      0.194      2.190      0.029       0.045       0.803\n",
       "Num_products      -0.4084      0.029    -14.180      0.000      -0.465      -0.352\n",
       "Revolving_Bal     -0.0008   5.16e-05    -15.828      0.000      -0.001      -0.001\n",
       "Transaction_ct    -0.0567      0.002    -24.238      0.000      -0.061      -0.052\n",
       "Trans_Chg_ct      -2.2526      0.191    -11.819      0.000      -2.626      -1.879\n",
       "Inactive_mo        0.5845      0.041     14.198      0.000       0.504       0.665\n",
       "Contacts           0.6175      0.039     15.676      0.000       0.540       0.695\n",
       "==================================================================================\n",
       "\"\"\""
      ]
     },
     "execution_count": 444,
     "metadata": {},
     "output_type": "execute_result"
    }
   ],
   "source": [
    "# run2: using retained predictors\n",
    "X = data2[predictors]\n",
    "y = data2.Attrition.values.astype(np.float)\n",
    "\n",
    "X_train, X_test, y_train, y_test = train_test_split(X, y, test_size = 0.3)\n",
    "\n",
    "X = sm.add_constant(X)\n",
    "\n",
    "scaler = MinMaxScaler()\n",
    "scaler.fit_transform(X_train)\n",
    "model = sm.Logit(y_train, X_train).fit()\n",
    "model.summary()"
   ]
  },
  {
   "cell_type": "code",
   "execution_count": 445,
   "metadata": {},
   "outputs": [],
   "source": [
    "result = pd.DataFrame({'coefficients': model.params,\n",
    "                      'p-value': model.pvalues,\n",
    "                      'odds-ratio': np.exp(model.params)})\n",
    "\n",
    "# retain variables with low p\n",
    "retain = result [result['p-value'] <= 0.05]\n",
    "predictors = retain.index"
   ]
  },
  {
   "cell_type": "code",
   "execution_count": 446,
   "metadata": {},
   "outputs": [
    {
     "name": "stdout",
     "output_type": "stream",
     "text": [
      "Optimization terminated successfully.\n",
      "         Current function value: 0.266609\n",
      "         Iterations 8\n"
     ]
    },
    {
     "data": {
      "text/html": [
       "<table class=\"simpletable\">\n",
       "<caption>Logit Regression Results</caption>\n",
       "<tr>\n",
       "  <th>Dep. Variable:</th>           <td>y</td>        <th>  No. Observations:  </th>  <td>  7088</td> \n",
       "</tr>\n",
       "<tr>\n",
       "  <th>Model:</th>                 <td>Logit</td>      <th>  Df Residuals:      </th>  <td>  7075</td> \n",
       "</tr>\n",
       "<tr>\n",
       "  <th>Method:</th>                 <td>MLE</td>       <th>  Df Model:          </th>  <td>    12</td> \n",
       "</tr>\n",
       "<tr>\n",
       "  <th>Date:</th>            <td>Fri, 09 Apr 2021</td> <th>  Pseudo R-squ.:     </th>  <td>0.3971</td> \n",
       "</tr>\n",
       "<tr>\n",
       "  <th>Time:</th>                <td>14:52:46</td>     <th>  Log-Likelihood:    </th> <td> -1889.7</td>\n",
       "</tr>\n",
       "<tr>\n",
       "  <th>converged:</th>             <td>True</td>       <th>  LL-Null:           </th> <td> -3134.4</td>\n",
       "</tr>\n",
       "<tr>\n",
       "  <th>Covariance Type:</th>     <td>nonrobust</td>    <th>  LLR p-value:       </th>  <td> 0.000</td> \n",
       "</tr>\n",
       "</table>\n",
       "<table class=\"simpletable\">\n",
       "<tr>\n",
       "         <td></td>           <th>coef</th>     <th>std err</th>      <th>z</th>      <th>P>|z|</th>  <th>[0.025</th>    <th>0.975]</th>  \n",
       "</tr>\n",
       "<tr>\n",
       "  <th>Age</th>            <td>    0.0409</td> <td>    0.004</td> <td>   10.353</td> <td> 0.000</td> <td>    0.033</td> <td>    0.049</td>\n",
       "</tr>\n",
       "<tr>\n",
       "  <th>Male</th>           <td>   -0.3963</td> <td>    0.085</td> <td>   -4.653</td> <td> 0.000</td> <td>   -0.563</td> <td>   -0.229</td>\n",
       "</tr>\n",
       "<tr>\n",
       "  <th>Graduate</th>       <td>    0.1501</td> <td>    0.089</td> <td>    1.691</td> <td> 0.091</td> <td>   -0.024</td> <td>    0.324</td>\n",
       "</tr>\n",
       "<tr>\n",
       "  <th>Postgrad</th>       <td>    0.3630</td> <td>    0.142</td> <td>    2.550</td> <td> 0.011</td> <td>    0.084</td> <td>    0.642</td>\n",
       "</tr>\n",
       "<tr>\n",
       "  <th>Married</th>        <td>   -0.2853</td> <td>    0.085</td> <td>   -3.340</td> <td> 0.001</td> <td>   -0.453</td> <td>   -0.118</td>\n",
       "</tr>\n",
       "<tr>\n",
       "  <th>Dependents</th>     <td>    0.2707</td> <td>    0.032</td> <td>    8.460</td> <td> 0.000</td> <td>    0.208</td> <td>    0.333</td>\n",
       "</tr>\n",
       "<tr>\n",
       "  <th>Silver</th>         <td>    0.6581</td> <td>    0.189</td> <td>    3.475</td> <td> 0.001</td> <td>    0.287</td> <td>    1.029</td>\n",
       "</tr>\n",
       "<tr>\n",
       "  <th>Num_products</th>   <td>   -0.4204</td> <td>    0.029</td> <td>  -14.532</td> <td> 0.000</td> <td>   -0.477</td> <td>   -0.364</td>\n",
       "</tr>\n",
       "<tr>\n",
       "  <th>Revolving_Bal</th>  <td>   -0.0009</td> <td> 5.18e-05</td> <td>  -16.579</td> <td> 0.000</td> <td>   -0.001</td> <td>   -0.001</td>\n",
       "</tr>\n",
       "<tr>\n",
       "  <th>Transaction_ct</th> <td>   -0.0573</td> <td>    0.002</td> <td>  -24.521</td> <td> 0.000</td> <td>   -0.062</td> <td>   -0.053</td>\n",
       "</tr>\n",
       "<tr>\n",
       "  <th>Trans_Chg_ct</th>   <td>   -2.1260</td> <td>    0.186</td> <td>  -11.412</td> <td> 0.000</td> <td>   -2.491</td> <td>   -1.761</td>\n",
       "</tr>\n",
       "<tr>\n",
       "  <th>Inactive_mo</th>    <td>    0.5536</td> <td>    0.040</td> <td>   13.733</td> <td> 0.000</td> <td>    0.475</td> <td>    0.633</td>\n",
       "</tr>\n",
       "<tr>\n",
       "  <th>Contacts</th>       <td>    0.5908</td> <td>    0.039</td> <td>   15.099</td> <td> 0.000</td> <td>    0.514</td> <td>    0.668</td>\n",
       "</tr>\n",
       "</table>"
      ],
      "text/plain": [
       "<class 'statsmodels.iolib.summary.Summary'>\n",
       "\"\"\"\n",
       "                           Logit Regression Results                           \n",
       "==============================================================================\n",
       "Dep. Variable:                      y   No. Observations:                 7088\n",
       "Model:                          Logit   Df Residuals:                     7075\n",
       "Method:                           MLE   Df Model:                           12\n",
       "Date:                Fri, 09 Apr 2021   Pseudo R-squ.:                  0.3971\n",
       "Time:                        14:52:46   Log-Likelihood:                -1889.7\n",
       "converged:                       True   LL-Null:                       -3134.4\n",
       "Covariance Type:            nonrobust   LLR p-value:                     0.000\n",
       "==================================================================================\n",
       "                     coef    std err          z      P>|z|      [0.025      0.975]\n",
       "----------------------------------------------------------------------------------\n",
       "Age                0.0409      0.004     10.353      0.000       0.033       0.049\n",
       "Male              -0.3963      0.085     -4.653      0.000      -0.563      -0.229\n",
       "Graduate           0.1501      0.089      1.691      0.091      -0.024       0.324\n",
       "Postgrad           0.3630      0.142      2.550      0.011       0.084       0.642\n",
       "Married           -0.2853      0.085     -3.340      0.001      -0.453      -0.118\n",
       "Dependents         0.2707      0.032      8.460      0.000       0.208       0.333\n",
       "Silver             0.6581      0.189      3.475      0.001       0.287       1.029\n",
       "Num_products      -0.4204      0.029    -14.532      0.000      -0.477      -0.364\n",
       "Revolving_Bal     -0.0009   5.18e-05    -16.579      0.000      -0.001      -0.001\n",
       "Transaction_ct    -0.0573      0.002    -24.521      0.000      -0.062      -0.053\n",
       "Trans_Chg_ct      -2.1260      0.186    -11.412      0.000      -2.491      -1.761\n",
       "Inactive_mo        0.5536      0.040     13.733      0.000       0.475       0.633\n",
       "Contacts           0.5908      0.039     15.099      0.000       0.514       0.668\n",
       "==================================================================================\n",
       "\"\"\""
      ]
     },
     "execution_count": 446,
     "metadata": {},
     "output_type": "execute_result"
    }
   ],
   "source": [
    "# run3: using retained predictors above\n",
    "X = data2[predictors]\n",
    "y = data2.Attrition.values.astype(np.float)\n",
    "\n",
    "X_train, X_test, y_train, y_test = train_test_split(X, y, test_size = 0.3)\n",
    "\n",
    "X = sm.add_constant(X)\n",
    "\n",
    "scaler = MinMaxScaler()\n",
    "scaler.fit_transform(X_train)\n",
    "model = sm.Logit(y_train, X_train).fit()\n",
    "model.summary()"
   ]
  },
  {
   "cell_type": "code",
   "execution_count": 447,
   "metadata": {},
   "outputs": [
    {
     "data": {
      "text/plain": [
       "Index(['Age', 'Male', 'Graduate', 'Postgrad', 'Married', 'Dependents',\n",
       "       'Silver', 'Num_products', 'Revolving_Bal', 'Transaction_ct',\n",
       "       'Trans_Chg_ct', 'Inactive_mo', 'Contacts'],\n",
       "      dtype='object')"
      ]
     },
     "metadata": {},
     "output_type": "display_data"
    }
   ],
   "source": [
    "display(predictors)"
   ]
  },
  {
   "cell_type": "code",
   "execution_count": 448,
   "metadata": {},
   "outputs": [
    {
     "name": "stdout",
     "output_type": "stream",
     "text": [
      "Optimization terminated successfully.\n",
      "         Current function value: 0.339114\n",
      "         Iterations 7\n"
     ]
    },
    {
     "data": {
      "text/html": [
       "<table class=\"simpletable\">\n",
       "<caption>Logit Regression Results</caption>\n",
       "<tr>\n",
       "  <th>Dep. Variable:</th>           <td>y</td>        <th>  No. Observations:  </th>   <td>  7088</td>  \n",
       "</tr>\n",
       "<tr>\n",
       "  <th>Model:</th>                 <td>Logit</td>      <th>  Df Residuals:      </th>   <td>  7077</td>  \n",
       "</tr>\n",
       "<tr>\n",
       "  <th>Method:</th>                 <td>MLE</td>       <th>  Df Model:          </th>   <td>    10</td>  \n",
       "</tr>\n",
       "<tr>\n",
       "  <th>Date:</th>            <td>Fri, 09 Apr 2021</td> <th>  Pseudo R-squ.:     </th>   <td>0.2229</td>  \n",
       "</tr>\n",
       "<tr>\n",
       "  <th>Time:</th>                <td>14:53:39</td>     <th>  Log-Likelihood:    </th>  <td> -2403.6</td> \n",
       "</tr>\n",
       "<tr>\n",
       "  <th>converged:</th>             <td>True</td>       <th>  LL-Null:           </th>  <td> -3092.9</td> \n",
       "</tr>\n",
       "<tr>\n",
       "  <th>Covariance Type:</th>     <td>nonrobust</td>    <th>  LLR p-value:       </th> <td>4.174e-290</td>\n",
       "</tr>\n",
       "</table>\n",
       "<table class=\"simpletable\">\n",
       "<tr>\n",
       "        <td></td>          <th>coef</th>     <th>std err</th>      <th>z</th>      <th>P>|z|</th>  <th>[0.025</th>    <th>0.975]</th>  \n",
       "</tr>\n",
       "<tr>\n",
       "  <th>Male</th>         <td>   -0.3295</td> <td>    0.074</td> <td>   -4.452</td> <td> 0.000</td> <td>   -0.475</td> <td>   -0.184</td>\n",
       "</tr>\n",
       "<tr>\n",
       "  <th>Graduate</th>     <td>    0.0440</td> <td>    0.077</td> <td>    0.570</td> <td> 0.569</td> <td>   -0.107</td> <td>    0.195</td>\n",
       "</tr>\n",
       "<tr>\n",
       "  <th>Postgrad</th>     <td>    0.2884</td> <td>    0.123</td> <td>    2.346</td> <td> 0.019</td> <td>    0.047</td> <td>    0.529</td>\n",
       "</tr>\n",
       "<tr>\n",
       "  <th>Married</th>      <td>   -0.1057</td> <td>    0.073</td> <td>   -1.445</td> <td> 0.148</td> <td>   -0.249</td> <td>    0.038</td>\n",
       "</tr>\n",
       "<tr>\n",
       "  <th>Dependents</th>   <td>    0.0684</td> <td>    0.027</td> <td>    2.506</td> <td> 0.012</td> <td>    0.015</td> <td>    0.122</td>\n",
       "</tr>\n",
       "<tr>\n",
       "  <th>Silver</th>       <td>   -0.0294</td> <td>    0.160</td> <td>   -0.183</td> <td> 0.854</td> <td>   -0.343</td> <td>    0.284</td>\n",
       "</tr>\n",
       "<tr>\n",
       "  <th>Gold</th>         <td>    0.1494</td> <td>    0.342</td> <td>    0.437</td> <td> 0.662</td> <td>   -0.520</td> <td>    0.819</td>\n",
       "</tr>\n",
       "<tr>\n",
       "  <th>Num_products</th> <td>   -0.3297</td> <td>    0.023</td> <td>  -14.131</td> <td> 0.000</td> <td>   -0.375</td> <td>   -0.284</td>\n",
       "</tr>\n",
       "<tr>\n",
       "  <th>Trans_Chg_ct</th> <td>   -4.8611</td> <td>    0.176</td> <td>  -27.565</td> <td> 0.000</td> <td>   -5.207</td> <td>   -4.515</td>\n",
       "</tr>\n",
       "<tr>\n",
       "  <th>Inactive_mo</th>  <td>    0.4320</td> <td>    0.033</td> <td>   13.060</td> <td> 0.000</td> <td>    0.367</td> <td>    0.497</td>\n",
       "</tr>\n",
       "<tr>\n",
       "  <th>Contacts</th>     <td>    0.5791</td> <td>    0.033</td> <td>   17.551</td> <td> 0.000</td> <td>    0.514</td> <td>    0.644</td>\n",
       "</tr>\n",
       "</table>"
      ],
      "text/plain": [
       "<class 'statsmodels.iolib.summary.Summary'>\n",
       "\"\"\"\n",
       "                           Logit Regression Results                           \n",
       "==============================================================================\n",
       "Dep. Variable:                      y   No. Observations:                 7088\n",
       "Model:                          Logit   Df Residuals:                     7077\n",
       "Method:                           MLE   Df Model:                           10\n",
       "Date:                Fri, 09 Apr 2021   Pseudo R-squ.:                  0.2229\n",
       "Time:                        14:53:39   Log-Likelihood:                -2403.6\n",
       "converged:                       True   LL-Null:                       -3092.9\n",
       "Covariance Type:            nonrobust   LLR p-value:                4.174e-290\n",
       "================================================================================\n",
       "                   coef    std err          z      P>|z|      [0.025      0.975]\n",
       "--------------------------------------------------------------------------------\n",
       "Male            -0.3295      0.074     -4.452      0.000      -0.475      -0.184\n",
       "Graduate         0.0440      0.077      0.570      0.569      -0.107       0.195\n",
       "Postgrad         0.2884      0.123      2.346      0.019       0.047       0.529\n",
       "Married         -0.1057      0.073     -1.445      0.148      -0.249       0.038\n",
       "Dependents       0.0684      0.027      2.506      0.012       0.015       0.122\n",
       "Silver          -0.0294      0.160     -0.183      0.854      -0.343       0.284\n",
       "Gold             0.1494      0.342      0.437      0.662      -0.520       0.819\n",
       "Num_products    -0.3297      0.023    -14.131      0.000      -0.375      -0.284\n",
       "Trans_Chg_ct    -4.8611      0.176    -27.565      0.000      -5.207      -4.515\n",
       "Inactive_mo      0.4320      0.033     13.060      0.000       0.367       0.497\n",
       "Contacts         0.5791      0.033     17.551      0.000       0.514       0.644\n",
       "================================================================================\n",
       "\"\"\""
      ]
     },
     "execution_count": 448,
     "metadata": {},
     "output_type": "execute_result"
    }
   ],
   "source": [
    "# run4: removing predictors with coefficients < |0.1|: age, revolving bal, trans ct;\n",
    "predictors = ['Male',  'Graduate','Postgrad', 'Married', 'Dependents',\n",
    "       'Silver', 'Gold', 'Num_products',\n",
    "        'Trans_Chg_ct', 'Inactive_mo', 'Contacts']\n",
    "X = data2[predictors]\n",
    "y = data2.Attrition.values.astype(np.float)\n",
    "\n",
    "X_train, X_test, y_train, y_test = train_test_split(X, y, test_size = 0.3)\n",
    "\n",
    "X = sm.add_constant(X)\n",
    "\n",
    "scaler = MinMaxScaler()\n",
    "scaler.fit_transform(X_train)\n",
    "model = sm.Logit(y_train, X_train).fit()\n",
    "model.summary()"
   ]
  },
  {
   "cell_type": "code",
   "execution_count": 449,
   "metadata": {},
   "outputs": [],
   "source": [
    "result = pd.DataFrame({'coefficients': model.params,\n",
    "                      'p-value': model.pvalues,\n",
    "                      'odds-ratio': np.exp(model.params)})\n",
    "\n",
    "# retain variables with low p\n",
    "retain = result [result['p-value'] <= 0.05]\n",
    "predictors = retain.index"
   ]
  },
  {
   "cell_type": "code",
   "execution_count": 450,
   "metadata": {},
   "outputs": [
    {
     "name": "stdout",
     "output_type": "stream",
     "text": [
      "Optimization terminated successfully.\n",
      "         Current function value: 0.340304\n",
      "         Iterations 7\n"
     ]
    },
    {
     "data": {
      "text/html": [
       "<table class=\"simpletable\">\n",
       "<caption>Logit Regression Results</caption>\n",
       "<tr>\n",
       "  <th>Dep. Variable:</th>           <td>y</td>        <th>  No. Observations:  </th>   <td>  7088</td>  \n",
       "</tr>\n",
       "<tr>\n",
       "  <th>Model:</th>                 <td>Logit</td>      <th>  Df Residuals:      </th>   <td>  7081</td>  \n",
       "</tr>\n",
       "<tr>\n",
       "  <th>Method:</th>                 <td>MLE</td>       <th>  Df Model:          </th>   <td>     6</td>  \n",
       "</tr>\n",
       "<tr>\n",
       "  <th>Date:</th>            <td>Fri, 09 Apr 2021</td> <th>  Pseudo R-squ.:     </th>   <td>0.2214</td>  \n",
       "</tr>\n",
       "<tr>\n",
       "  <th>Time:</th>                <td>14:53:50</td>     <th>  Log-Likelihood:    </th>  <td> -2412.1</td> \n",
       "</tr>\n",
       "<tr>\n",
       "  <th>converged:</th>             <td>True</td>       <th>  LL-Null:           </th>  <td> -3097.9</td> \n",
       "</tr>\n",
       "<tr>\n",
       "  <th>Covariance Type:</th>     <td>nonrobust</td>    <th>  LLR p-value:       </th> <td>3.189e-293</td>\n",
       "</tr>\n",
       "</table>\n",
       "<table class=\"simpletable\">\n",
       "<tr>\n",
       "        <td></td>          <th>coef</th>     <th>std err</th>      <th>z</th>      <th>P>|z|</th>  <th>[0.025</th>    <th>0.975]</th>  \n",
       "</tr>\n",
       "<tr>\n",
       "  <th>Male</th>         <td>   -0.4154</td> <td>    0.074</td> <td>   -5.632</td> <td> 0.000</td> <td>   -0.560</td> <td>   -0.271</td>\n",
       "</tr>\n",
       "<tr>\n",
       "  <th>Postgrad</th>     <td>    0.1807</td> <td>    0.124</td> <td>    1.460</td> <td> 0.144</td> <td>   -0.062</td> <td>    0.423</td>\n",
       "</tr>\n",
       "<tr>\n",
       "  <th>Dependents</th>   <td>    0.0623</td> <td>    0.027</td> <td>    2.333</td> <td> 0.020</td> <td>    0.010</td> <td>    0.115</td>\n",
       "</tr>\n",
       "<tr>\n",
       "  <th>Num_products</th> <td>   -0.3312</td> <td>    0.023</td> <td>  -14.510</td> <td> 0.000</td> <td>   -0.376</td> <td>   -0.286</td>\n",
       "</tr>\n",
       "<tr>\n",
       "  <th>Trans_Chg_ct</th> <td>   -4.7703</td> <td>    0.171</td> <td>  -27.937</td> <td> 0.000</td> <td>   -5.105</td> <td>   -4.436</td>\n",
       "</tr>\n",
       "<tr>\n",
       "  <th>Inactive_mo</th>  <td>    0.4203</td> <td>    0.033</td> <td>   12.791</td> <td> 0.000</td> <td>    0.356</td> <td>    0.485</td>\n",
       "</tr>\n",
       "<tr>\n",
       "  <th>Contacts</th>     <td>    0.5883</td> <td>    0.033</td> <td>   18.080</td> <td> 0.000</td> <td>    0.525</td> <td>    0.652</td>\n",
       "</tr>\n",
       "</table>"
      ],
      "text/plain": [
       "<class 'statsmodels.iolib.summary.Summary'>\n",
       "\"\"\"\n",
       "                           Logit Regression Results                           \n",
       "==============================================================================\n",
       "Dep. Variable:                      y   No. Observations:                 7088\n",
       "Model:                          Logit   Df Residuals:                     7081\n",
       "Method:                           MLE   Df Model:                            6\n",
       "Date:                Fri, 09 Apr 2021   Pseudo R-squ.:                  0.2214\n",
       "Time:                        14:53:50   Log-Likelihood:                -2412.1\n",
       "converged:                       True   LL-Null:                       -3097.9\n",
       "Covariance Type:            nonrobust   LLR p-value:                3.189e-293\n",
       "================================================================================\n",
       "                   coef    std err          z      P>|z|      [0.025      0.975]\n",
       "--------------------------------------------------------------------------------\n",
       "Male            -0.4154      0.074     -5.632      0.000      -0.560      -0.271\n",
       "Postgrad         0.1807      0.124      1.460      0.144      -0.062       0.423\n",
       "Dependents       0.0623      0.027      2.333      0.020       0.010       0.115\n",
       "Num_products    -0.3312      0.023    -14.510      0.000      -0.376      -0.286\n",
       "Trans_Chg_ct    -4.7703      0.171    -27.937      0.000      -5.105      -4.436\n",
       "Inactive_mo      0.4203      0.033     12.791      0.000       0.356       0.485\n",
       "Contacts         0.5883      0.033     18.080      0.000       0.525       0.652\n",
       "================================================================================\n",
       "\"\"\""
      ]
     },
     "execution_count": 450,
     "metadata": {},
     "output_type": "execute_result"
    }
   ],
   "source": [
    "# run5: using retained predictors above\n",
    "X = data2[predictors]\n",
    "y = data2.Attrition.values.astype(np.float)\n",
    "\n",
    "X_train, X_test, y_train, y_test = train_test_split(X, y, test_size = 0.3)\n",
    "\n",
    "X = sm.add_constant(X)\n",
    "\n",
    "scaler = MinMaxScaler()\n",
    "scaler.fit_transform(X_train)\n",
    "model = sm.Logit(y_train, X_train).fit()\n",
    "model.summary()"
   ]
  },
  {
   "cell_type": "code",
   "execution_count": 451,
   "metadata": {},
   "outputs": [],
   "source": [
    "result = pd.DataFrame({'coefficients': model.params,\n",
    "                      'p-value': model.pvalues,\n",
    "                      'odds-ratio': np.exp(model.params)})\n",
    "\n",
    "# retain variables with low p\n",
    "retain = result [result['p-value'] <= 0.05]\n",
    "predictors = retain.index"
   ]
  },
  {
   "cell_type": "code",
   "execution_count": 452,
   "metadata": {},
   "outputs": [
    {
     "name": "stdout",
     "output_type": "stream",
     "text": [
      "Optimization terminated successfully.\n",
      "         Current function value: 0.340914\n",
      "         Iterations 7\n"
     ]
    },
    {
     "data": {
      "text/html": [
       "<table class=\"simpletable\">\n",
       "<caption>Logit Regression Results</caption>\n",
       "<tr>\n",
       "  <th>Dep. Variable:</th>           <td>y</td>        <th>  No. Observations:  </th>   <td>  7088</td>  \n",
       "</tr>\n",
       "<tr>\n",
       "  <th>Model:</th>                 <td>Logit</td>      <th>  Df Residuals:      </th>   <td>  7082</td>  \n",
       "</tr>\n",
       "<tr>\n",
       "  <th>Method:</th>                 <td>MLE</td>       <th>  Df Model:          </th>   <td>     5</td>  \n",
       "</tr>\n",
       "<tr>\n",
       "  <th>Date:</th>            <td>Fri, 09 Apr 2021</td> <th>  Pseudo R-squ.:     </th>   <td>0.2127</td>  \n",
       "</tr>\n",
       "<tr>\n",
       "  <th>Time:</th>                <td>14:54:53</td>     <th>  Log-Likelihood:    </th>  <td> -2416.4</td> \n",
       "</tr>\n",
       "<tr>\n",
       "  <th>converged:</th>             <td>True</td>       <th>  LL-Null:           </th>  <td> -3069.4</td> \n",
       "</tr>\n",
       "<tr>\n",
       "  <th>Covariance Type:</th>     <td>nonrobust</td>    <th>  LLR p-value:       </th> <td>3.186e-280</td>\n",
       "</tr>\n",
       "</table>\n",
       "<table class=\"simpletable\">\n",
       "<tr>\n",
       "        <td></td>          <th>coef</th>     <th>std err</th>      <th>z</th>      <th>P>|z|</th>  <th>[0.025</th>    <th>0.975]</th>  \n",
       "</tr>\n",
       "<tr>\n",
       "  <th>Male</th>         <td>   -0.3630</td> <td>    0.074</td> <td>   -4.934</td> <td> 0.000</td> <td>   -0.507</td> <td>   -0.219</td>\n",
       "</tr>\n",
       "<tr>\n",
       "  <th>Dependents</th>   <td>    0.0682</td> <td>    0.027</td> <td>    2.565</td> <td> 0.010</td> <td>    0.016</td> <td>    0.120</td>\n",
       "</tr>\n",
       "<tr>\n",
       "  <th>Num_products</th> <td>   -0.3029</td> <td>    0.023</td> <td>  -13.214</td> <td> 0.000</td> <td>   -0.348</td> <td>   -0.258</td>\n",
       "</tr>\n",
       "<tr>\n",
       "  <th>Trans_Chg_ct</th> <td>   -4.7903</td> <td>    0.172</td> <td>  -27.842</td> <td> 0.000</td> <td>   -5.128</td> <td>   -4.453</td>\n",
       "</tr>\n",
       "<tr>\n",
       "  <th>Inactive_mo</th>  <td>    0.4078</td> <td>    0.033</td> <td>   12.312</td> <td> 0.000</td> <td>    0.343</td> <td>    0.473</td>\n",
       "</tr>\n",
       "<tr>\n",
       "  <th>Contacts</th>     <td>    0.5543</td> <td>    0.032</td> <td>   17.066</td> <td> 0.000</td> <td>    0.491</td> <td>    0.618</td>\n",
       "</tr>\n",
       "</table>"
      ],
      "text/plain": [
       "<class 'statsmodels.iolib.summary.Summary'>\n",
       "\"\"\"\n",
       "                           Logit Regression Results                           \n",
       "==============================================================================\n",
       "Dep. Variable:                      y   No. Observations:                 7088\n",
       "Model:                          Logit   Df Residuals:                     7082\n",
       "Method:                           MLE   Df Model:                            5\n",
       "Date:                Fri, 09 Apr 2021   Pseudo R-squ.:                  0.2127\n",
       "Time:                        14:54:53   Log-Likelihood:                -2416.4\n",
       "converged:                       True   LL-Null:                       -3069.4\n",
       "Covariance Type:            nonrobust   LLR p-value:                3.186e-280\n",
       "================================================================================\n",
       "                   coef    std err          z      P>|z|      [0.025      0.975]\n",
       "--------------------------------------------------------------------------------\n",
       "Male            -0.3630      0.074     -4.934      0.000      -0.507      -0.219\n",
       "Dependents       0.0682      0.027      2.565      0.010       0.016       0.120\n",
       "Num_products    -0.3029      0.023    -13.214      0.000      -0.348      -0.258\n",
       "Trans_Chg_ct    -4.7903      0.172    -27.842      0.000      -5.128      -4.453\n",
       "Inactive_mo      0.4078      0.033     12.312      0.000       0.343       0.473\n",
       "Contacts         0.5543      0.032     17.066      0.000       0.491       0.618\n",
       "================================================================================\n",
       "\"\"\""
      ]
     },
     "execution_count": 452,
     "metadata": {},
     "output_type": "execute_result"
    }
   ],
   "source": [
    "# run6: using retained predictors above\n",
    "# occasionally unnecessary, as evident by doing multiple trials\n",
    "X = data2[predictors]\n",
    "y = data2.Attrition.values.astype(np.float)\n",
    "\n",
    "X_train, X_test, y_train, y_test = train_test_split(X, y, test_size = 0.3)\n",
    "\n",
    "X = sm.add_constant(X)\n",
    "\n",
    "scaler = MinMaxScaler()\n",
    "scaler.fit_transform(X_train)\n",
    "model = sm.Logit(y_train, X_train).fit()\n",
    "model.summary()"
   ]
  },
  {
   "cell_type": "code",
   "execution_count": 453,
   "metadata": {},
   "outputs": [
    {
     "data": {
      "text/html": [
       "<div>\n",
       "<style scoped>\n",
       "    .dataframe tbody tr th:only-of-type {\n",
       "        vertical-align: middle;\n",
       "    }\n",
       "\n",
       "    .dataframe tbody tr th {\n",
       "        vertical-align: top;\n",
       "    }\n",
       "\n",
       "    .dataframe thead th {\n",
       "        text-align: right;\n",
       "    }\n",
       "</style>\n",
       "<table border=\"1\" class=\"dataframe\">\n",
       "  <thead>\n",
       "    <tr style=\"text-align: right;\">\n",
       "      <th></th>\n",
       "      <th>coefficients</th>\n",
       "      <th>p-value</th>\n",
       "      <th>odds-ratio</th>\n",
       "    </tr>\n",
       "  </thead>\n",
       "  <tbody>\n",
       "    <tr>\n",
       "      <th>Male</th>\n",
       "      <td>-0.363019</td>\n",
       "      <td>8.056844e-07</td>\n",
       "      <td>0.695573</td>\n",
       "    </tr>\n",
       "    <tr>\n",
       "      <th>Dependents</th>\n",
       "      <td>0.068154</td>\n",
       "      <td>1.031365e-02</td>\n",
       "      <td>1.070530</td>\n",
       "    </tr>\n",
       "    <tr>\n",
       "      <th>Num_products</th>\n",
       "      <td>-0.302907</td>\n",
       "      <td>7.281390e-40</td>\n",
       "      <td>0.738668</td>\n",
       "    </tr>\n",
       "    <tr>\n",
       "      <th>Trans_Chg_ct</th>\n",
       "      <td>-4.790304</td>\n",
       "      <td>1.335420e-170</td>\n",
       "      <td>0.008310</td>\n",
       "    </tr>\n",
       "    <tr>\n",
       "      <th>Inactive_mo</th>\n",
       "      <td>0.407818</td>\n",
       "      <td>7.758701e-35</td>\n",
       "      <td>1.503534</td>\n",
       "    </tr>\n",
       "    <tr>\n",
       "      <th>Contacts</th>\n",
       "      <td>0.554258</td>\n",
       "      <td>2.645525e-65</td>\n",
       "      <td>1.740650</td>\n",
       "    </tr>\n",
       "  </tbody>\n",
       "</table>\n",
       "</div>"
      ],
      "text/plain": [
       "              coefficients        p-value  odds-ratio\n",
       "Male             -0.363019   8.056844e-07    0.695573\n",
       "Dependents        0.068154   1.031365e-02    1.070530\n",
       "Num_products     -0.302907   7.281390e-40    0.738668\n",
       "Trans_Chg_ct     -4.790304  1.335420e-170    0.008310\n",
       "Inactive_mo       0.407818   7.758701e-35    1.503534\n",
       "Contacts          0.554258   2.645525e-65    1.740650"
      ]
     },
     "execution_count": 453,
     "metadata": {},
     "output_type": "execute_result"
    }
   ],
   "source": [
    "# with logit(p) = log(odds) = a + bX\n",
    "# odds = p/q\n",
    "# OR = exp(b)\n",
    "\n",
    "result = pd.DataFrame({'coefficients': model.params,\n",
    "                      'p-value': model.pvalues,\n",
    "                      'odds-ratio': np.exp(model.params)})\n",
    "result"
   ]
  },
  {
   "cell_type": "markdown",
   "metadata": {},
   "source": [
    "Interim Findings:\n",
    "\n",
    "Liable to Attrition:\n",
    "\n",
    "    Increasing dependents\n",
    "    Inactivity\n",
    "    Higher frequency of contacts with the bank\n",
    "\n",
    "Less liable to Attrition:\n",
    "\n",
    "    Males compared to females\n",
    "    Increasing number of bank products used\n",
    "    Every transaction done"
   ]
  },
  {
   "cell_type": "code",
   "execution_count": 388,
   "metadata": {},
   "outputs": [],
   "source": [
    "#@ option: use this model or trim further\n",
    "# trim down those with lowest coeff, higher p: dependents, num_products"
   ]
  },
  {
   "cell_type": "code",
   "execution_count": 454,
   "metadata": {},
   "outputs": [
    {
     "data": {
      "image/png": "[encoded data removed]",
      "text/plain": [
       "<Figure size 432x288 with 1 Axes>"
      ]
     },
     "metadata": {
      "needs_background": "light"
     },
     "output_type": "display_data"
    }
   ],
   "source": [
    "# if use option of using this model:\n",
    "# gathering predicted data for Attrition, using X_test data\n",
    "pred = model.predict(X_test)\n",
    "data2.loc[:,'pred']= pred\n",
    "data2 = data2.sort_values(by=['pred'], axis = 0)\n",
    "\n",
    "plt.plot(logit(data2.pred), data2.pred,'--')\n",
    "plt.plot(logit(data2.pred), data2.Attrition, '+')\n",
    "plt.xlabel('logit(pred)')\n",
    "plt.ylabel('pred');"
   ]
  },
  {
   "cell_type": "code",
   "execution_count": 390,
   "metadata": {},
   "outputs": [
    {
     "data": {
      "text/plain": [
       "array([[5793.,  122.],\n",
       "       [ 812.,  361.]])"
      ]
     },
     "metadata": {},
     "output_type": "display_data"
    },
    {
     "name": "stdout",
     "output_type": "stream",
     "text": [
      "tn = 5793.0\n",
      "fp =  122.0\n",
      "fn =  812.0\n",
      "tp = 361.0\n",
      "accuracy = 0.87\n",
      "correlation coefficient = 0.02\n",
      "precision =  0.75\n",
      "recall =  0.31\n",
      "Perecentage Area under the curve =  81.41\n"
     ]
    },
    {
     "data": {
      "image/png": "[encoded data removed]",
      "text/plain": [
       "<Figure size 432x288 with 1 Axes>"
      ]
     },
     "metadata": {
      "needs_background": "light"
     },
     "output_type": "display_data"
    }
   ],
   "source": [
    "# deriving estimates, metrics\n",
    "display(model.pred_table())\n",
    "tn, fp, fn, tp = model.pred_table().flatten()\n",
    "print('tn =', tn)\n",
    "print('fp = ', fp)\n",
    "print ('fn = ', fn)\n",
    "print('tp =', tp)\n",
    "\n",
    "accuracy = (tp+tn)/ np.sum(model.pred_table())\n",
    "print('accuracy =', accuracy.round(2))\n",
    "mcc = (tp*tn - fp*fn) / np.sqrt((tp+fp) * (tp+fn) * (tn+fp) * (tn*fn))\n",
    "print('correlation coefficient =',mcc.round(2))\n",
    "precision = tp / (tp+fp)\n",
    "print('precision = ',precision.round(2))\n",
    "recall = tp / (tp+fn)\n",
    "print('recall = ',recall.round(2))\n",
    "\n",
    "# getting roc\n",
    "thr = np.arange(0,1,0.025)\n",
    "sensitivity = []\n",
    "specificity = []\n",
    "accuracy = []\n",
    "corrcoeff = []\n",
    "\n",
    "for x in thr:\n",
    "    conf_mat = model.pred_table(threshold = x)\n",
    "    tn, fp, fn, tp = conf_mat.flatten()\n",
    "    sensit = (1*tp) / (tp+fn)\n",
    "    specific = (1*tn) / (tn+fp)\n",
    "    accur = (tp+tn) / np.sum(conf_mat)\n",
    "    mcc = (tp*tn - fp*fn) / np.sqrt((tp+fp) * (tp+fn) * (tn+fp) * (tn*fn))\n",
    "    sensitivity.append(sensit)\n",
    "    specificity.append(specific)\n",
    "    accuracy.append(accur)\n",
    "    corrcoeff.append(mcc)\n",
    "\n",
    "curve = pd.DataFrame({'thr':thr,\n",
    "                     'sensitivity':sensitivity,\n",
    "                     'specificity':specificity,\n",
    "                     '_specificity':[1 - y for y in specificity],\n",
    "                     'accuracy':accuracy,\n",
    "                     'correlation_coeff':corrcoeff})\n",
    "curve = curve.sort_values(by= '_specificity')\n",
    "\n",
    "plt.plot(curve._specificity, curve.sensitivity, label = 'ROC')\n",
    "plt.plot(np.arange(0,1,0.01),\n",
    "        np.arange(0,1,0.01), '--')\n",
    "plt.legend()\n",
    "plt.xlabel('1-specificity')\n",
    "plt.ylabel('sensitivity')\n",
    "plt.title('AUC');\n",
    "\n",
    "auc = np.trapz( y = curve.sensitivity, x = curve._specificity)\n",
    "print('Perecentage Area under the curve = ', round((auc*100),2))\n",
    "\n",
    "default_thr = np.where(curve.thr == 0.5)[0][0]\n",
    "plt.plot(curve._specificity[default_thr], \n",
    "         curve.sensitivity[default_thr],\n",
    "        's',color = 'blue',label = 'Default');\n",
    "youdensj = np.argmax(curve.sensitivity + curve.specificity)\n",
    "plt.plot(curve._specificity[youdensj], \n",
    "         curve.sensitivity[youdensj],\n",
    "        's', color = 'red', label = 'Max Sn and Sp')\n",
    "balance = np.argmin(np.abs(curve.sensitivity - curve.specificity))\n",
    "plt.plot(curve._specificity[balance], \n",
    "        curve.sensitivity[balance],\n",
    "        's',color = 'green',label = 'Sn = Sp')\n",
    "plt.legend();"
   ]
  },
  {
   "cell_type": "code",
   "execution_count": 457,
   "metadata": {},
   "outputs": [
    {
     "data": {
      "image/png": "[encoded data removed]",
      "text/plain": [
       "<Figure size 432x288 with 2 Axes>"
      ]
     },
     "metadata": {
      "needs_background": "light"
     },
     "output_type": "display_data"
    }
   ],
   "source": [
    "# getting predicted results from test set at threshold 0.5\n",
    "threshold = 0.5\n",
    "pred = np.where(pred > threshold, 1,0)\n",
    "\n",
    "cm = confusion_matrix(y_test, pred)\n",
    "ax = sns.heatmap(cm, annot=True, fmt='0')\n",
    "plt.xlabel('Predicted')\n",
    "plt.ylabel('Observed');"
   ]
  },
  {
   "cell_type": "code",
   "execution_count": 458,
   "metadata": {},
   "outputs": [
    {
     "name": "stdout",
     "output_type": "stream",
     "text": [
      "              precision    recall  f1-score   support\n",
      "\n",
      "         0.0       0.87      0.99      0.92      2518\n",
      "         1.0       0.81      0.26      0.39       521\n",
      "\n",
      "    accuracy                           0.86      3039\n",
      "   macro avg       0.84      0.62      0.66      3039\n",
      "weighted avg       0.86      0.86      0.83      3039\n",
      "\n"
     ]
    }
   ],
   "source": [
    "print(classification_report(y_test, pred))"
   ]
  },
  {
   "cell_type": "markdown",
   "metadata": {},
   "source": [
    "Results:  The present model has a good accuracy rate of 0.87, a good AUC of 0.81.  There is increased odds for attrition for increasing number of dependents, high frequency of contacts with the bank, and increasing length of inactivity.  There is decreased odds for attrition for males, higher use of bank products, and high number of transactions done.\n",
    "\n",
    "The recall(sensitivity) of detecting attrition is low at 26% - however, considering the non-critical status of credit card attrition, this could be maintained, instead of sacrificing precision and accuracy.\n",
    "\n",
    "Interpretation:  Attrition outcome may be predicted by gender, number of dependents, number of products used, transaction count changes, number of contacts with the bank, and account inactivity. "
   ]
  },
  {
   "cell_type": "code",
   "execution_count": null,
   "metadata": {},
   "outputs": [],
   "source": []
  },
  {
   "cell_type": "markdown",
   "metadata": {},
   "source": [
    "### Summary of Findings and possible Recommendations:\n",
    "\n",
    "#### Customer profile:\n",
    "    - There is a significantly higher proportion of females among the customers.\n",
    "    - High-income card owners are older, with a mean age of 47.6 +/- 6.7 (CI 43-53).\n",
    "    - Low-income is independent of marital status and educational level\n",
    "\n",
    "-->  Provide bank with background on either increasing the satisfaction by offering female-oriented or older-age oriented rewards, OR by an increased effort to enhance recruitment of males and other-income groups\n",
    "    \n",
    "#### Credit Card profile:\n",
    "    -  Blue cards are the most common, followed by Silver, Gold and Platinum.\n",
    "    -  The card type is independent of age and education\n",
    "    -  Blue cards are popular with females, married customers, and the low-income group\n",
    "    -  Silver and Gold cards are popular with males, single customers, and those with annual earnings of 70 thousand dollars and above.\n",
    "    \n",
    "-->  Bank can enhance recruitment of credit card owners by offering activities and rewards targeted to females, married people, and offering savings-oriented plans for the low-income group\n",
    "\n",
    "--> Bank can offer exclusive rewards targeted towards the male population\n",
    "    \n",
    "#### Credit Utilization profile\n",
    "    -  Females make more frequent transactions.\n",
    "    -  Males make more expensive transactions.\n",
    "    -  Blue card holders make less frequent transactions.\n",
    "    -  Credit limits up to around 4 thousand dollars are well utilized, with a sharp decline in utilization beyond 4 thousand.\n",
    "    \n",
    "-->  Bank can tailor the benefits of credit card charges (% per use and % of amount payable) to a target population\n",
    "\n",
    "-->  Bank can gauge the liquidity of their assets by assigning on average 4 thousand credit units per card holder\n",
    "\n",
    "-->  Banks can offer lower fees for credit use above 4 thousand to increase utilization\n",
    "    \n",
    "#### Attrition prediction\n",
    "    -  Logistic regression analysis showed that Attrition may be predicted by gender, number of dependents, number of products used, transaction count changes and account inactivity. At the 0.5 threshold, the accuracy of predicting attrition is 87&, with an AUC of 0.81.\n",
    "    \n",
    "-->  Banks can do a qualification check that includes the above parameters to ascertain good customer retention and minimize churning"
   ]
  },
  {
   "cell_type": "code",
   "execution_count": null,
   "metadata": {},
   "outputs": [],
   "source": []
  }
 ],
 "metadata": {
  "kernelspec": {
   "display_name": "Python 3",
   "language": "python",
   "name": "python3"
  },
  "language_info": {
   "codemirror_mode": {
    "name": "ipython",
    "version": 3
   },
   "file_extension": ".py",
   "mimetype": "text/x-python",
   "name": "python",
   "nbconvert_exporter": "python",
   "pygments_lexer": "ipython3",
   "version": "3.8.3"
  }
 },
 "nbformat": 4,
 "nbformat_minor": 4
}
